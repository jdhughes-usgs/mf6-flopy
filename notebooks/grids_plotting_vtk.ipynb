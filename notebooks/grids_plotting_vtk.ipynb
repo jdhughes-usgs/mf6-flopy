{
 "cells": [
  {
   "cell_type": "markdown",
   "metadata": {},
   "source": [
    "# FloPy - Voronoi grid model for VTK export"
   ]
  },
  {
   "cell_type": "code",
   "execution_count": null,
   "metadata": {},
   "outputs": [],
   "source": [
    "import os\n",
    "import sys\n",
    "import numpy as np\n",
    "import matplotlib.pyplot as plt\n",
    "import matplotlib.gridspec as gridspec\n",
    "import matplotlib.ticker as mticker\n",
    "from matplotlib import colors\n",
    "import shapely\n",
    "from shapely.geometry import Polygon, LineString\n",
    "import flopy\n",
    "from flopy.discretization import StructuredGrid, VertexGrid\n",
    "from flopy.utils.triangle import Triangle\n",
    "from flopy.utils.voronoi import VoronoiGrid\n",
    "from flopy.utils.gridgen import Gridgen\n",
    "import flopy.plot.styles as styles"
   ]
  },
  {
   "cell_type": "code",
   "execution_count": null,
   "metadata": {},
   "outputs": [],
   "source": [
    "# import all plot style information from defaults.py\n",
    "from defaults import *"
   ]
  },
  {
   "cell_type": "code",
   "execution_count": null,
   "metadata": {},
   "outputs": [],
   "source": [
    "# import the fine topography\n",
    "fine_topo = flopy.utils.Raster.load(\"./grid_data/fine_topo.asc\")"
   ]
  },
  {
   "cell_type": "code",
   "execution_count": null,
   "metadata": {},
   "outputs": [],
   "source": [
    "fine_topo.plot();"
   ]
  },
  {
   "cell_type": "code",
   "execution_count": null,
   "metadata": {},
   "outputs": [],
   "source": [
    "Lx = 180000\n",
    "Ly = 100000\n",
    "nlay = 5\n",
    "dv0 = 5.0\n",
    "extent = (0, Lx, 0, Ly)\n",
    "vmin, vmax = 0.0, 100.0"
   ]
  },
  {
   "cell_type": "code",
   "execution_count": null,
   "metadata": {},
   "outputs": [],
   "source": [
    "temp_path = \"./temp\"\n",
    "if not os.path.isdir(temp_path):\n",
    "    os.mkdir(temp_path)"
   ]
  },
  {
   "cell_type": "markdown",
   "metadata": {},
   "source": [
    "# Basin Example"
   ]
  },
  {
   "cell_type": "code",
   "execution_count": null,
   "metadata": {},
   "outputs": [],
   "source": [
    "boundary_polygon = string2geom(boundary)\n",
    "print(\"len boundary\", len(boundary_polygon))\n",
    "bp = np.array(boundary_polygon)\n",
    "\n",
    "sgs = [\n",
    "    string2geom(sg) for sg in (streamseg1, streamseg2, streamseg3, streamseg4)\n",
    "]\n",
    "\n",
    "river_colors = (\"blue\", \"cyan\", \"green\", \"magenta\")\n",
    "fig = plt.figure(figsize=(15, 10))\n",
    "ax = fig.add_subplot()\n",
    "ax.set_aspect(\"equal\")\n",
    "\n",
    "ax.plot(bp[:, 0], bp[:, 1], \"ko-\")\n",
    "for idx, sg in enumerate(sgs):\n",
    "    print(\"Len segment: \", len(sg))\n",
    "    sa = np.array(sg)\n",
    "    ax.plot(sa[:, 0], sa[:, 1], ls=\"-\", color=river_colors[idx], marker=\"o\")"
   ]
  },
  {
   "cell_type": "markdown",
   "metadata": {},
   "source": [
    "### Create voronoi grid"
   ]
  },
  {
   "cell_type": "code",
   "execution_count": null,
   "metadata": {},
   "outputs": [],
   "source": [
    "maximum_area = 5000 * 5000\n",
    "\n",
    "nodes = []\n",
    "for sg in sgs:\n",
    "    sg_densify = densify_geometry(sg, 2000)\n",
    "    nodes += sg_densify\n",
    "nodes = np.array(nodes)\n",
    "\n",
    "tri = Triangle(\n",
    "    maximum_area=maximum_area, angle=30, nodes=nodes, model_ws=temp_path\n",
    ")\n",
    "poly = bp\n",
    "tri.add_polygon(poly)\n",
    "tri.build(verbose=False)\n",
    "\n",
    "# create vor object and VertexGrid\n",
    "vor = VoronoiGrid(tri)\n",
    "gridprops = vor.get_gridprops_vertexgrid()\n",
    "idomain = np.ones((nlay, vor.ncpl), dtype=int)\n",
    "voronoi_grid = VertexGrid(**gridprops, nlay=nlay, idomain=idomain)"
   ]
  },
  {
   "cell_type": "code",
   "execution_count": null,
   "metadata": {},
   "outputs": [],
   "source": [
    "areas = []\n",
    "for idx in range(voronoi_grid.ncpl):\n",
    "    vertices = np.array(voronoi_grid.get_cell_vertices(idx))\n",
    "    area = Polygon(vertices).area\n",
    "    areas.append(area)\n",
    "areas = np.array(areas)\n",
    "areas.min(), areas.max()"
   ]
  },
  {
   "cell_type": "code",
   "execution_count": null,
   "metadata": {},
   "outputs": [],
   "source": [
    "top_vg = fine_topo.resample_to_grid(\n",
    "    voronoi_grid,\n",
    "    band=fine_topo.bands[0],\n",
    "    method=\"linear\",\n",
    "    extrapolate_edges=True,\n",
    ")"
   ]
  },
  {
   "cell_type": "code",
   "execution_count": null,
   "metadata": {},
   "outputs": [],
   "source": [
    "ixs = flopy.utils.GridIntersect(voronoi_grid, method=\"vertex\")\n",
    "cellids = []\n",
    "for sg in sgs:\n",
    "    v = ixs.intersect(LineString(sg), sort_by_cellid=True)\n",
    "    cellids += v[\"cellids\"].tolist()\n",
    "intersection_vg = np.zeros(voronoi_grid.shape[1:])\n",
    "for loc in cellids:\n",
    "    intersection_vg[loc] = 1"
   ]
  },
  {
   "cell_type": "code",
   "execution_count": null,
   "metadata": {},
   "outputs": [],
   "source": [
    "fig = plt.figure()\n",
    "ax = fig.add_subplot()\n",
    "pmv = flopy.plot.PlotMapView(modelgrid=voronoi_grid)\n",
    "ax.set_aspect(\"equal\")\n",
    "pmv.plot_array(top_vg)\n",
    "pmv.plot_array(\n",
    "    intersection_vg,\n",
    "    masked_values=[\n",
    "        0,\n",
    "    ],\n",
    "    alpha=0.2,\n",
    "    cmap=\"Reds_r\",\n",
    ")\n",
    "# pmv.plot_grid()\n",
    "pmv.plot_inactive()\n",
    "ax.plot(bp[:, 0], bp[:, 1], \"k-\")\n",
    "for sg in sgs:\n",
    "    sa = np.array(sg)\n",
    "    ax.plot(sa[:, 0], sa[:, 1], \"b-\")\n",
    "\n",
    "cg = pmv.contour_array(top_vg, levels=levels, linewidths=0.3, colors=\"0.75\")"
   ]
  },
  {
   "cell_type": "markdown",
   "metadata": {},
   "source": [
    "### build a model"
   ]
  },
  {
   "cell_type": "code",
   "execution_count": null,
   "metadata": {},
   "outputs": [],
   "source": [
    "ixs = flopy.utils.GridIntersect(voronoi_grid, method=\"vertex\")"
   ]
  },
  {
   "cell_type": "code",
   "execution_count": null,
   "metadata": {},
   "outputs": [],
   "source": [
    "drn_intersection = []\n",
    "drn_cellids = []\n",
    "drn_lengths = []\n",
    "for sg in sgs:\n",
    "    v = ixs.intersect(LineString(sg), sort_by_cellid=True)\n",
    "    drn_intersection.append(v)\n",
    "    drn_cellids += v[\"cellids\"].tolist()\n",
    "    drn_lengths += v[\"lengths\"].tolist()"
   ]
  },
  {
   "cell_type": "code",
   "execution_count": null,
   "metadata": {},
   "outputs": [],
   "source": [
    "leakance = 1.0 / (0.5 * dv0)  # kv / b\n",
    "drn_data = []\n",
    "for node, length in zip(drn_cellids, drn_lengths):\n",
    "    x = voronoi_grid.xcellcenters[node]\n",
    "    width = 5.0 + (14.0 / Lx) * (Lx - x)\n",
    "    conductance = leakance * length * width\n",
    "    drn_data.append((0, node, top_vg[node], conductance))\n",
    "drn_data[:10]"
   ]
  },
  {
   "cell_type": "code",
   "execution_count": null,
   "metadata": {},
   "outputs": [],
   "source": [
    "# groundwater discharge to surface\n",
    "gw_discharge_data = []\n",
    "for node in range(voronoi_grid.ncpl):\n",
    "    if node not in drn_cellids:\n",
    "        vertices = np.array(voronoi_grid.get_cell_vertices(node))\n",
    "        conductance = leakance * Polygon(vertices).area\n",
    "        gw_discharge_data.append(\n",
    "            (0, node, top_vg[node] - 0.5, conductance, 1.0)\n",
    "        )\n",
    "gw_discharge_data[:10]"
   ]
  },
  {
   "cell_type": "code",
   "execution_count": null,
   "metadata": {},
   "outputs": [],
   "source": [
    "topc = np.zeros((nlay, vor.ncpl), dtype=float)\n",
    "botm = np.zeros((nlay, vor.ncpl), dtype=float)\n",
    "dv = dv0\n",
    "topc[0] = top_vg.copy()\n",
    "botm[0] = topc[0] - dv\n",
    "for idx in range(1, nlay):\n",
    "    dv *= 1.5\n",
    "    topc[idx] = botm[idx - 1]\n",
    "    botm[idx] = topc[idx] - dv"
   ]
  },
  {
   "cell_type": "code",
   "execution_count": null,
   "metadata": {},
   "outputs": [],
   "source": [
    "for k in range(nlay):\n",
    "    print((topc[k] - botm[k]).mean())"
   ]
  },
  {
   "cell_type": "code",
   "execution_count": null,
   "metadata": {},
   "outputs": [],
   "source": [
    "exe_name = \"/Users/jdhughes/Documents/Development/modflow6/modflow6/bin/mf6\"\n",
    "sim = flopy.mf6.MFSimulation(\n",
    "    sim_name=\"create_vtk\",\n",
    "    sim_ws=\"temp_vtk\",\n",
    "    exe_name=\"mf6\",\n",
    ")\n",
    "\n",
    "tdis = flopy.mf6.ModflowTdis(sim)\n",
    "ims = flopy.mf6.ModflowIms(\n",
    "    sim, linear_acceleration=\"bicgstab\", complexity=\"simple\"\n",
    ")\n",
    "gwf = flopy.mf6.ModflowGwf(\n",
    "    sim, save_flows=True, newtonoptions=\"NEWTON UNDER_RELAXATION\"\n",
    ")\n",
    "\n",
    "dis = flopy.mf6.ModflowGwfdisv(\n",
    "    gwf,\n",
    "    nlay=nlay,\n",
    "    ncpl=vor.ncpl,\n",
    "    icelltype=1,\n",
    "    nvert=vor.get_disv_gridprops()[\"nvert\"],\n",
    "    vertices=vor.get_disv_gridprops()[\"vertices\"],\n",
    "    cell2d=vor.get_disv_gridprops()[\"cell2d\"],\n",
    "    top=top_vg,\n",
    "    botm=botm,\n",
    ")\n",
    "\n",
    "ic = flopy.mf6.ModflowGwfic(gwf, strt=top_vg.max())\n",
    "npf = flopy.mf6.ModflowGwfnpf(\n",
    "    gwf,\n",
    "    save_specific_discharge=True,\n",
    "    icelltype=1,\n",
    "    k=1.0,\n",
    ")\n",
    "rch = flopy.mf6.ModflowGwfrcha(\n",
    "    gwf,\n",
    "    recharge=0.000001,\n",
    ")\n",
    "drn = flopy.mf6.ModflowGwfdrn(\n",
    "    gwf,\n",
    "    stress_period_data=drn_data,\n",
    "    pname=\"river\",\n",
    ")\n",
    "drn_gwd = flopy.mf6.ModflowGwfdrn(\n",
    "    gwf,\n",
    "    auxiliary=[\"depth\"],\n",
    "    auxdepthname=\"depth\",\n",
    "    stress_period_data=gw_discharge_data,\n",
    "    pname=\"gwd\",\n",
    ")\n",
    "oc = flopy.mf6.ModflowGwfoc(\n",
    "    gwf,\n",
    "    head_filerecord=f\"{gwf.name}.hds\",\n",
    "    budget_filerecord=f\"{gwf.name}.cbc\",\n",
    "    saverecord=[(\"HEAD\", \"ALL\"), (\"BUDGET\", \"ALL\")],\n",
    ")"
   ]
  },
  {
   "cell_type": "code",
   "execution_count": null,
   "metadata": {},
   "outputs": [],
   "source": [
    "sim.write_simulation()\n",
    "sim.run_simulation()"
   ]
  },
  {
   "cell_type": "code",
   "execution_count": null,
   "metadata": {},
   "outputs": [],
   "source": [
    "def plot_river(\n",
    "    ax=None,\n",
    "    lw=1.0,\n",
    "):\n",
    "    if ax is None:\n",
    "        ax = plt.gca()\n",
    "    for sg in sgs:\n",
    "        sg_densify = np.array(densify_geometry(sg, 2000))\n",
    "        ax.plot(sg_densify[:, 0], sg_densify[:, 1], **river_dict)\n",
    "    return ax"
   ]
  },
  {
   "cell_type": "code",
   "execution_count": null,
   "metadata": {},
   "outputs": [],
   "source": [
    "head = gwf.output.head().get_data().squeeze()"
   ]
  },
  {
   "cell_type": "code",
   "execution_count": null,
   "metadata": {},
   "outputs": [],
   "source": [
    "head[0].min(), head[0].max()"
   ]
  },
  {
   "cell_type": "code",
   "execution_count": null,
   "metadata": {},
   "outputs": [],
   "source": [
    "gwf.output.methods()"
   ]
  },
  {
   "cell_type": "code",
   "execution_count": null,
   "metadata": {},
   "outputs": [],
   "source": [
    "cbc = gwf.output.budget()\n",
    "cbc.list_unique_records(), cbc.list_unique_packages()"
   ]
  },
  {
   "cell_type": "code",
   "execution_count": null,
   "metadata": {},
   "outputs": [],
   "source": [
    "spdis = cbc.get_data(text=\"DATA-SPDIS\")[0]\n",
    "qx, qy, qz = flopy.utils.postprocessing.get_specific_discharge(spdis, gwf)\n",
    "qx.shape"
   ]
  },
  {
   "cell_type": "code",
   "execution_count": null,
   "metadata": {},
   "outputs": [],
   "source": [
    "riv_q, gwd_q = cbc.get_data(text=\"DRN\", full3D=True)\n",
    "riv_q.shape, gwd_q.shape"
   ]
  },
  {
   "cell_type": "code",
   "execution_count": null,
   "metadata": {},
   "outputs": [],
   "source": [
    "riv_q_loc = np.zeros(riv_q.shape, dtype=int)\n",
    "gwd_q_loc = np.zeros(gwd_q.shape, dtype=int)"
   ]
  },
  {
   "cell_type": "code",
   "execution_count": null,
   "metadata": {},
   "outputs": [],
   "source": [
    "drn_q_loc = np.zeros(gwd_q.shape, dtype=int)\n",
    "drn_q_loc[riv_q < 0.0] = 1\n",
    "drn_q_loc[gwd_q < 0.0] = 2"
   ]
  },
  {
   "cell_type": "code",
   "execution_count": null,
   "metadata": {},
   "outputs": [],
   "source": [
    "idx = riv_q < 0.0\n",
    "riv_q_loc[idx] = 1"
   ]
  },
  {
   "cell_type": "code",
   "execution_count": null,
   "metadata": {},
   "outputs": [],
   "source": [
    "idx = gwd_q < 0.0\n",
    "gwd_q_loc[idx] = 1"
   ]
  },
  {
   "cell_type": "code",
   "execution_count": null,
   "metadata": {},
   "outputs": [],
   "source": [
    "dry_cell_loc = np.zeros(head.shape, dtype=int)\n",
    "dry_cell_loc[head < botm] = 1"
   ]
  },
  {
   "cell_type": "code",
   "execution_count": null,
   "metadata": {},
   "outputs": [],
   "source": [
    "upper_active_layer = np.ones(head.shape[1], dtype=int) * 99\n",
    "for k in range(nlay):\n",
    "    idx = (dry_cell_loc[k] < 1) & (upper_active_layer == 99)\n",
    "    upper_active_layer[idx] = k"
   ]
  },
  {
   "cell_type": "code",
   "execution_count": null,
   "metadata": {},
   "outputs": [],
   "source": [
    "qx_top = np.zeros(head.shape[1])\n",
    "qy_top = np.zeros(head.shape[1])\n",
    "for node, k in enumerate(upper_active_layer):\n",
    "    qx_top[node] = qx[k, node]\n",
    "    qy_top[node] = qy[k, node]"
   ]
  },
  {
   "cell_type": "code",
   "execution_count": null,
   "metadata": {},
   "outputs": [],
   "source": [
    "fig = plt.figure(figsize=(10, 6), constrained_layout=True)\n",
    "mm = flopy.plot.PlotMapView(model=gwf)\n",
    "cb = mm.plot_array(head, ec=\"0.5\")\n",
    "plot_river(ax=mm.ax)\n",
    "mm.plot_vector(qx_top, qy_top, normalize=True)\n",
    "mm.ax.axhline(y=42500, lw=2, color=\"red\")\n",
    "mm.ax.axvline(x=72500, lw=2, color=\"red\")\n",
    "plt.colorbar(cb, orientation=\"horizontal\");"
   ]
  },
  {
   "cell_type": "code",
   "execution_count": null,
   "metadata": {},
   "outputs": [],
   "source": [
    "extent = mm.extent\n",
    "extent"
   ]
  },
  {
   "cell_type": "code",
   "execution_count": null,
   "metadata": {},
   "outputs": [],
   "source": [
    "fx = flopy.plot.PlotCrossSection(\n",
    "    model=gwf, line={\"line\": [(0, 42500), (extent[1], 42500)]}\n",
    ")\n",
    "fx.plot_array(head, head=head)\n",
    "fx.plot_grid()"
   ]
  },
  {
   "cell_type": "code",
   "execution_count": null,
   "metadata": {},
   "outputs": [],
   "source": [
    "fx = flopy.plot.PlotCrossSection(\n",
    "    model=gwf,\n",
    "    line={\"line\": [(72500, extent[2]), (72500, extent[3])]},\n",
    ")\n",
    "fx.plot_array(head, head=head)\n",
    "fx.plot_grid()"
   ]
  },
  {
   "cell_type": "code",
   "execution_count": null,
   "metadata": {},
   "outputs": [],
   "source": [
    "topc.shape, head.shape"
   ]
  },
  {
   "cell_type": "code",
   "execution_count": null,
   "metadata": {},
   "outputs": [],
   "source": [
    "dtw = topc[0] - head[0]\n",
    "dtw.shape, dtw.min(), dtw.max()"
   ]
  },
  {
   "cell_type": "code",
   "execution_count": null,
   "metadata": {},
   "outputs": [],
   "source": [
    "fig = plt.figure(figsize=(10, 6), constrained_layout=True)\n",
    "mm = flopy.plot.PlotMapView(model=gwf)\n",
    "cb = mm.plot_array(dtw)\n",
    "cs = mm.contour_array(\n",
    "    dtw,\n",
    "    levels=[1, 5, 10],\n",
    "    colors=\"white\",\n",
    "    linewidths=1,\n",
    ")\n",
    "mm.ax.clabel(cs, inline=1, fmt=\"%2.0f\", fontsize=12, inline_spacing=0)\n",
    "plot_river(ax=mm.ax)\n",
    "plt.colorbar(cb, orientation=\"horizontal\");"
   ]
  },
  {
   "cell_type": "markdown",
   "metadata": {},
   "source": [
    "layer_cmap = colors.ListedColormap([\"white\", \"green\", \"blue\"])\n",
    "drain_cmap = colors.ListedColormap([\"red\", \"cyan\"])\n",
    "font_dict = {\"fontsize\": 5, \"color\": \"black\"}\n",
    "contour_color = \"black\""
   ]
  },
  {
   "cell_type": "code",
   "execution_count": null,
   "metadata": {},
   "outputs": [],
   "source": [
    "fig = plt.figure(figsize=(10, 6), constrained_layout=True)\n",
    "mm = flopy.plot.PlotMapView(model=gwf)\n",
    "dp = mm.plot_array(\n",
    "    drn_q_loc,\n",
    "    masked_values=[0],\n",
    "    cmap=drain_cmap,\n",
    "    edgecolor=\"none\",\n",
    "    alpha=0.5,\n",
    "    vmin=0.5,\n",
    "    vmax=2.5,\n",
    ")\n",
    "al = mm.plot_array(\n",
    "    upper_active_layer + 1,\n",
    "    alpha=0.25,\n",
    "    edgecolor=\"none\",\n",
    "    cmap=layer_cmap,\n",
    "    vmin=0.5,\n",
    "    vmax=3.5,\n",
    ")\n",
    "mm.plot_grid(color=\"black\", lw=0.5)\n",
    "plot_river(ax=mm.ax)\n",
    "\n",
    "cax = mm.ax.inset_axes(\n",
    "    [0.75, 0.85, 0.2, 0.05],\n",
    ")\n",
    "cbar = plt.colorbar(al, orientation=\"horizontal\", cax=cax)\n",
    "cbar.ax.tick_params(\n",
    "    labelsize=5,\n",
    "    labelcolor=\"black\",\n",
    "    color=\"white\",\n",
    "    length=6,\n",
    "    pad=2,\n",
    ")\n",
    "cax.set_xticks([1, 2, 3])\n",
    "cax.set_xticklabels([1, 2, 3])\n",
    "cbar.ax.set_title(\n",
    "    \"Upper most active model layer\",\n",
    "    pad=2.5,\n",
    "    loc=\"left\",\n",
    "    fontdict=font_dict,\n",
    ")\n",
    "\n",
    "cax = mm.ax.inset_axes(\n",
    "    [0.02, 0.065, 0.2, 0.05],\n",
    ")\n",
    "cbar = plt.colorbar(dp, orientation=\"horizontal\", cax=cax)\n",
    "cbar.ax.tick_params(\n",
    "    labelsize=5,\n",
    "    labelcolor=\"black\",\n",
    "    color=\"white\",\n",
    "    length=6,\n",
    "    pad=2,\n",
    ")\n",
    "cax.set_xticks([1, 2])\n",
    "cax.set_xticklabels([\"River\", \"Groundwater\\nseepage\"])\n",
    "cbar.ax.set_title(\n",
    "    \"Discharge type\",\n",
    "    pad=2.5,\n",
    "    loc=\"left\",\n",
    "    fontdict=font_dict,\n",
    ");"
   ]
  },
  {
   "cell_type": "code",
   "execution_count": null,
   "metadata": {},
   "outputs": [],
   "source": [
    "def set_map_axis_labels(ax, skip_ylabel=False):\n",
    "    ax.set_xticks(np.arange(0, 200000, 50000))\n",
    "    ax.set_xticklabels(np.arange(0, 200, 50))\n",
    "    ax.set_xlabel(\"x position (km)\")\n",
    "\n",
    "    ax.set_yticks(np.arange(0, 150000, 50000))\n",
    "    if skip_ylabel:\n",
    "        ax.set_yticklabels([])\n",
    "    else:\n",
    "        ax.set_yticklabels(np.arange(0, 150, 50))\n",
    "        ax.set_ylabel(\"y position (km)\")"
   ]
  },
  {
   "cell_type": "code",
   "execution_count": null,
   "metadata": {},
   "outputs": [],
   "source": [
    "def set_xsection_axis_labels(ax, skip_ylabel=False):\n",
    "    xlim = ax.get_xlim()\n",
    "    ax.set_ylim(-75, 125)\n",
    "    ax.set_xticks(np.arange(0, xlim[1], 25000))\n",
    "    ax.set_xticklabels(\n",
    "        [f\"{value:.0f}\" for value in np.arange(0, xlim[1] / 1000, 25)]\n",
    "    )\n",
    "    ax.set_xlabel(\"cross-section distance (km)\")\n",
    "\n",
    "    ax.set_yticks(np.arange(-75, 150, 25))\n",
    "    if skip_ylabel:\n",
    "        ax.set_yticklabels([])\n",
    "    else:\n",
    "        ax.set_yticklabels(\n",
    "            [f\"{value:.0f}\" for value in np.arange(-75, 150, 25)]\n",
    "        )\n",
    "        ax.set_ylabel(\"elevation (m)\")"
   ]
  },
  {
   "cell_type": "code",
   "execution_count": null,
   "metadata": {},
   "outputs": [],
   "source": [
    "figwidth = 17.15 / 2.54\n",
    "figheight = 2.65 * (Ly / Lx) * 8.25 / 2.54\n",
    "extent = (0, 180000, 0, 100000)\n",
    "\n",
    "cbar_axis = [0.75, 0.825, 0.2, 0.05]\n",
    "\n",
    "with styles.USGSMap():\n",
    "    fig = plt.figure(figsize=(figwidth, figheight), constrained_layout=True)\n",
    "    gs = gridspec.GridSpec(ncols=2, nrows=11, figure=fig)\n",
    "    axs = [fig.add_subplot(gs[:5, 0])]\n",
    "    axs.append(fig.add_subplot(gs[:5, 1]))\n",
    "    axs.append(fig.add_subplot(gs[5:10, 0]))\n",
    "    axs.append(fig.add_subplot(gs[5:10, 1]))\n",
    "    axs.append(fig.add_subplot(gs[10:, :]))\n",
    "    for ax in axs[:-1]:\n",
    "        ax.set_axisbelow(False)\n",
    "\n",
    "    # head\n",
    "    ax = axs[0]\n",
    "    ax.set_aspect(\"equal\", \"box\")\n",
    "    styles.heading(ax=ax, idx=0)\n",
    "    mm = flopy.plot.PlotMapView(model=gwf, ax=ax)\n",
    "    cb = mm.plot_array(head, ec=\"none\", vmin=vmin, vmax=vmax)\n",
    "    mm.plot_grid(**grid_dict)\n",
    "    plot_river(ax=ax)\n",
    "    cs = mm.contour_array(head, **contour_dict)\n",
    "    ax.clabel(cs, **clabel_dict)\n",
    "\n",
    "    q = mm.plot_vector(qx_top, qy_top, normalize=False)\n",
    "    qk = plt.quiverkey(\n",
    "        q,\n",
    "        0.96,\n",
    "        1.03,\n",
    "        0.001,\n",
    "        label=\"0.001 m/d\",\n",
    "        labelpos=\"W\",\n",
    "        labelcolor=\"black\",\n",
    "        fontproperties={\"size\": 8},\n",
    "    )\n",
    "    set_map_axis_labels(ax)\n",
    "\n",
    "    # colorbar for head\n",
    "    cax = mm.ax.inset_axes(\n",
    "        cbar_axis,\n",
    "    )\n",
    "    cbar = plt.colorbar(cb, orientation=\"horizontal\", cax=cax)\n",
    "    cbar.ax.tick_params(\n",
    "        labelsize=5,\n",
    "        labelcolor=\"black\",\n",
    "        color=\"white\",\n",
    "        length=5,\n",
    "        pad=2,\n",
    "    )\n",
    "    cbar.ax.set_title(\n",
    "        \"Head (m)\",\n",
    "        pad=2.5,\n",
    "        loc=\"left\",\n",
    "        fontdict=font_dict,\n",
    "    )\n",
    "\n",
    "    # cross-section lines\n",
    "    mm.ax.axhline(y=42500, lw=1, ls=\":\", color=\"red\")\n",
    "    styles.add_text(\n",
    "        ax=ax,\n",
    "        text=\"A\",\n",
    "        x=400,\n",
    "        y=42600,\n",
    "        transform=False,\n",
    "        bold=True,\n",
    "        color=\"red\",\n",
    "    )\n",
    "    styles.add_text(\n",
    "        ax=ax,\n",
    "        text=\"A'\",\n",
    "        x=extent[1] - 400,\n",
    "        y=42600,\n",
    "        transform=False,\n",
    "        bold=True,\n",
    "        color=\"red\",\n",
    "    )\n",
    "    mm.ax.plot([72500, 72500], [9000, 95000], lw=1, ls=\":\", color=\"red\")\n",
    "    styles.add_annotation(\n",
    "        ax=ax,\n",
    "        text=\"B\",\n",
    "        xy=(72500, 95000),\n",
    "        xytext=(-15, -15),\n",
    "        textcoords=\"offset points\",\n",
    "        arrowprops=arrowprops,\n",
    "        bold=True,\n",
    "        color=\"red\",\n",
    "    )\n",
    "    styles.add_annotation(\n",
    "        ax=ax,\n",
    "        text=\"B'\",\n",
    "        xy=(72500, 9000),\n",
    "        xytext=(15, 10),\n",
    "        textcoords=\"offset points\",\n",
    "        arrowprops=arrowprops,\n",
    "        bold=True,\n",
    "        color=\"red\",\n",
    "    )\n",
    "\n",
    "    # cell-by-cell\n",
    "    ax = axs[1]\n",
    "    ax.set_aspect(\"equal\", \"box\")\n",
    "    styles.heading(ax=ax, idx=1)\n",
    "    mm = flopy.plot.PlotMapView(model=gwf, ax=ax)\n",
    "    aml = mm.plot_array(\n",
    "        upper_active_layer + 1,\n",
    "        edgecolor=\"none\",\n",
    "        cmap=layer_cmap,\n",
    "        vmin=0.5,\n",
    "        vmax=3.5,\n",
    "    )\n",
    "    dp = mm.plot_array(\n",
    "        drn_q_loc,\n",
    "        masked_values=[0],\n",
    "        cmap=drain_cmap,\n",
    "        edgecolor=\"none\",\n",
    "        vmin=0.5,\n",
    "        vmax=2.5,\n",
    "    )\n",
    "    mm.plot_grid(**grid_dict)\n",
    "    plot_river(ax=ax)\n",
    "    set_map_axis_labels(ax, skip_ylabel=True)\n",
    "\n",
    "    # color bar for B (model layer)\n",
    "    cax = mm.ax.inset_axes(\n",
    "        cbar_axis,\n",
    "    )\n",
    "    cbar = plt.colorbar(aml, orientation=\"horizontal\", cax=cax)\n",
    "    cbar.ax.tick_params(\n",
    "        labelsize=5,\n",
    "        labelcolor=\"black\",\n",
    "        color=\"none\",\n",
    "        length=5,\n",
    "        pad=2,\n",
    "    )\n",
    "    cax.set_xticks([1, 2, 3])\n",
    "    cax.set_xticklabels([1, 2, 3])\n",
    "    cbar.ax.set_title(\n",
    "        \"Water-table layer\",\n",
    "        pad=2.5,\n",
    "        loc=\"left\",\n",
    "        fontdict=font_dict,\n",
    "    )\n",
    "\n",
    "    # color bar for B (drain locations)\n",
    "    cax = mm.ax.inset_axes(\n",
    "        [0.02, 0.065, 0.2, 0.05],\n",
    "    )\n",
    "    cbar = plt.colorbar(dp, orientation=\"horizontal\", cax=cax)\n",
    "    cbar.ax.tick_params(\n",
    "        labelsize=5,\n",
    "        labelcolor=\"black\",\n",
    "        color=\"none\",\n",
    "        length=6,\n",
    "        pad=2,\n",
    "    )\n",
    "    cax.set_xticks([1, 2])\n",
    "    cax.set_xticklabels([\"River\", \"Seepage\"])\n",
    "    cbar.ax.set_title(\n",
    "        \"Discharge type\",\n",
    "        pad=2.5,\n",
    "        loc=\"left\",\n",
    "        fontdict=font_dict,\n",
    "    )\n",
    "\n",
    "    # east-west cross-section\n",
    "    ax = axs[2]\n",
    "    styles.heading(ax=ax, idx=2)\n",
    "    fx = flopy.plot.PlotCrossSection(\n",
    "        model=gwf, ax=ax, line={\"line\": [(0, 42500), (extent[1], 42500)]}\n",
    "    )\n",
    "    cb = fx.plot_array(head, head=head, vmin=vmin, vmax=vmax)\n",
    "    fx.plot_grid(**grid_dict)\n",
    "    set_xsection_axis_labels(ax)\n",
    "\n",
    "    # colorbar for head\n",
    "    cax = fx.ax.inset_axes(\n",
    "        cbar_axis,\n",
    "    )\n",
    "    cbar = plt.colorbar(cb, orientation=\"horizontal\", cax=cax)\n",
    "    cbar.ax.tick_params(\n",
    "        labelsize=5,\n",
    "        labelcolor=\"black\",\n",
    "        color=\"white\",\n",
    "        length=5,\n",
    "        pad=2,\n",
    "    )\n",
    "    cbar.ax.set_title(\n",
    "        \"Head (m)\",\n",
    "        pad=2.5,\n",
    "        loc=\"left\",\n",
    "        fontdict=font_dict,\n",
    "    )\n",
    "    styles.add_annotation(\n",
    "        ax=ax,\n",
    "        text=\"A\",\n",
    "        xy=(0, 105),\n",
    "        xytext=(15, 2),\n",
    "        textcoords=\"offset points\",\n",
    "        arrowprops=arrowprops,\n",
    "        bold=True,\n",
    "        color=\"red\",\n",
    "    )\n",
    "    styles.add_annotation(\n",
    "        ax=ax,\n",
    "        text=\"A'\",\n",
    "        xy=(ax.get_xlim()[1], 0),\n",
    "        xytext=(-15, 17),\n",
    "        textcoords=\"offset points\",\n",
    "        arrowprops=arrowprops,\n",
    "        bold=True,\n",
    "        color=\"red\",\n",
    "    )\n",
    "\n",
    "    # north-south cross-section\n",
    "    ax = axs[3]\n",
    "    styles.heading(ax=ax, idx=3)\n",
    "    fx = flopy.plot.PlotCrossSection(\n",
    "        model=gwf,\n",
    "        ax=ax,\n",
    "        line={\"line\": [(72500, extent[3]), (72500, extent[2])]},\n",
    "    )\n",
    "    cb = fx.plot_array(head, head=head, vmin=60, vmax=70)\n",
    "    fx.plot_grid(**grid_dict)\n",
    "    set_xsection_axis_labels(ax, skip_ylabel=True)\n",
    "\n",
    "    # colorbar for head\n",
    "    cax = fx.ax.inset_axes(\n",
    "        cbar_axis,\n",
    "    )\n",
    "    cbar = plt.colorbar(cb, orientation=\"horizontal\", cax=cax)\n",
    "    cbar.ax.tick_params(\n",
    "        labelsize=5,\n",
    "        labelcolor=\"black\",\n",
    "        color=\"white\",\n",
    "        length=5,\n",
    "        pad=2,\n",
    "    )\n",
    "    cbar.ax.set_title(\n",
    "        \"Head (m)\",\n",
    "        pad=2.5,\n",
    "        loc=\"left\",\n",
    "        fontdict=font_dict,\n",
    "    )\n",
    "    styles.add_annotation(\n",
    "        ax=ax,\n",
    "        text=\"B\",\n",
    "        xy=(0, 80),\n",
    "        xytext=(15, 15),\n",
    "        textcoords=\"offset points\",\n",
    "        arrowprops=arrowprops,\n",
    "        bold=True,\n",
    "        color=\"red\",\n",
    "    )\n",
    "    styles.add_annotation(\n",
    "        ax=ax,\n",
    "        text=\"B'\",\n",
    "        xy=(ax.get_xlim()[1], 68),\n",
    "        xytext=(-11, 19),\n",
    "        textcoords=\"offset points\",\n",
    "        arrowprops=arrowprops,\n",
    "        bold=True,\n",
    "        color=\"red\",\n",
    "    )\n",
    "\n",
    "    # legend\n",
    "    ax = axs[4]\n",
    "    xy0 = (-100, -100)\n",
    "    ax.set_xlim(0, 1)\n",
    "    ax.set_ylim(0, 1)\n",
    "    ax.set_axis_off()\n",
    "\n",
    "    ax.axhline(xy0[0], color=\"blue\", lw=0.5, label=\"River\")\n",
    "    ax.axhline(xy0[0], color=\"red\", lw=1, ls=\":\", label=\"Cross-section line\")\n",
    "    ax.axhline(\n",
    "        xy0[0], color=contour_color, lw=0.5, ls=\"--\", label=\"Head contour (m)\"\n",
    "    )\n",
    "    styles.graph_legend(\n",
    "        ax,\n",
    "        ncol=3,\n",
    "        loc=\"lower center\",\n",
    "        labelspacing=0.5,\n",
    "        columnspacing=0.6,\n",
    "        handletextpad=0.3,\n",
    "    )\n",
    "\n",
    "    fig.align_labels()\n",
    "\n",
    "    fpth = os.path.join(\"..\", \"doc\", \"figures\", \"grids_flopy_plots.png\")\n",
    "    plt.savefig(fpth, dpi=300);"
   ]
  },
  {
   "cell_type": "markdown",
   "metadata": {},
   "source": [
    "### Export vtk"
   ]
  },
  {
   "cell_type": "code",
   "execution_count": null,
   "metadata": {},
   "outputs": [],
   "source": [
    "model_output_dir = \"temp_vtk/vtk\"\n",
    "gwf.export(model_output_dir, fmt=\"vtk\", vertical_exageration=500.0, pvd=True)"
   ]
  },
  {
   "cell_type": "code",
   "execution_count": null,
   "metadata": {},
   "outputs": [],
   "source": [
    "model_output_dir = \"temp_vtk/vtk_smooth\"\n",
    "gwf.export(\n",
    "    model_output_dir,\n",
    "    fmt=\"vtk\",\n",
    "    smooth=True,\n",
    "    vertical_exageration=500.0,\n",
    "    pvd=True,\n",
    ")"
   ]
  },
  {
   "cell_type": "code",
   "execution_count": null,
   "metadata": {},
   "outputs": [],
   "source": []
  }
 ],
 "metadata": {
  "kernelspec": {
   "display_name": "Python 3 (ipykernel)",
   "language": "python",
   "name": "python3"
  },
  "language_info": {
   "codemirror_mode": {
    "name": "ipython",
    "version": 3
   },
   "file_extension": ".py",
   "mimetype": "text/x-python",
   "name": "python",
   "nbconvert_exporter": "python",
   "pygments_lexer": "ipython3",
   "version": "3.9.12"
  }
 },
 "nbformat": 4,
 "nbformat_minor": 4
}
