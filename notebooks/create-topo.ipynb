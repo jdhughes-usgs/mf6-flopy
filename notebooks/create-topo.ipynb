{
 "cells": [
  {
   "cell_type": "markdown",
   "metadata": {},
   "source": [
    "# FloPy Model Grids"
   ]
  },
  {
   "cell_type": "markdown",
   "metadata": {},
   "source": [
    "## Notebook Setup"
   ]
  },
  {
   "cell_type": "code",
   "execution_count": null,
   "metadata": {},
   "outputs": [],
   "source": [
    "import os\n",
    "import sys\n",
    "import numpy as np\n",
    "import matplotlib.pyplot as plt\n",
    "from shapely.geometry import Polygon, LineString\n",
    "import flopy\n",
    "from flopy.discretization import StructuredGrid, VertexGrid\n",
    "from flopy.utils.triangle import Triangle\n",
    "from flopy.utils.voronoi import VoronoiGrid\n",
    "from flopy.utils.gridgen import Gridgen\n",
    "import flopy.plot.styles as styles"
   ]
  },
  {
   "cell_type": "code",
   "execution_count": null,
   "metadata": {},
   "outputs": [],
   "source": [
    "temp_path = \"./temp\"\n",
    "if not os.path.isdir(temp_path):\n",
    "    os.mkdir(temp_path)"
   ]
  },
  {
   "cell_type": "code",
   "execution_count": null,
   "metadata": {},
   "outputs": [],
   "source": [
    "# import all plot style information from defaults.py\n",
    "from defaults import *"
   ]
  },
  {
   "cell_type": "markdown",
   "metadata": {},
   "source": [
    "# Basin Example"
   ]
  },
  {
   "cell_type": "code",
   "execution_count": null,
   "metadata": {},
   "outputs": [],
   "source": [
    "boundary_polygon = string2geom(boundary)\n",
    "print(\"len boundary\", len(boundary_polygon))\n",
    "bp = np.array(boundary_polygon)\n",
    "\n",
    "sgs = [\n",
    "    string2geom(sg) for sg in (streamseg1, streamseg2, streamseg3, streamseg4)\n",
    "]\n",
    "\n",
    "fig = plt.figure(figsize=(15, 10))\n",
    "ax = fig.add_subplot()\n",
    "ax.set_aspect(\"equal\")\n",
    "\n",
    "ax.plot(bp[:, 0], bp[:, 1], \"ko-\")\n",
    "for sg, fmt in zip(sgs, (\"bo-\", \"ro-\", \"go-\", \"yo-\")):\n",
    "    print(\"Len segment: \", len(sg))\n",
    "    sa = np.array(sg)\n",
    "    ax.plot(sa[:, 0], sa[:, 1], fmt)"
   ]
  },
  {
   "cell_type": "code",
   "execution_count": null,
   "metadata": {},
   "outputs": [],
   "source": [
    "# Create a regular MODFLOW grid\n",
    "Lx = 180000\n",
    "Ly = 100000\n",
    "dx = dy = 2000\n",
    "nrow = int(Ly / dy)\n",
    "ncol = int(Lx / dx)\n",
    "print(Lx, Ly, nrow, ncol)\n",
    "delr = np.array(ncol * [dx])\n",
    "delc = np.array(nrow * [dy])\n",
    "regular_grid = StructuredGrid(delr=delr, delc=delc, xoff=0.0, yoff=0.0)\n",
    "\n",
    "figsize = (17.15 / 2.54, (Ly / Lx) * 17.15 / 2.54)\n",
    "fig = plt.figure(figsize=figsize)\n",
    "ax = fig.add_subplot()\n",
    "ax.set_aspect(\"equal\")\n",
    "regular_grid.plot(ax=ax)\n",
    "ax.plot(bp[:, 0], bp[:, 1], \"k-\")\n",
    "for sg in sgs:\n",
    "    sa = np.array(sg)\n",
    "    ax.plot(sa[:, 0], sa[:, 1], \"b-\")"
   ]
  },
  {
   "cell_type": "code",
   "execution_count": null,
   "metadata": {},
   "outputs": [],
   "source": [
    "def set_idomain(grid, boundary):\n",
    "    from flopy.utils.gridintersect import GridIntersect\n",
    "    from shapely.geometry import Polygon\n",
    "\n",
    "    ix = GridIntersect(grid, method=\"vertex\", rtree=True)\n",
    "    result = ix.intersect(Polygon(boundary))\n",
    "    idx = [coords for coords in result.cellids]\n",
    "    idx = np.array(idx, dtype=int)\n",
    "    nr = idx.shape[0]\n",
    "    if idx.ndim == 1:\n",
    "        idx = idx.reshape((nr, 1))\n",
    "    print(idx.shape, idx.ndim)\n",
    "    idx = tuple([idx[:, i] for i in range(idx.shape[1])])\n",
    "    # idx = (idx[:, 0], idx[:, 1])\n",
    "    idomain = np.zeros(grid.shape[1:], dtype=int)\n",
    "    idomain[idx] = 1\n",
    "    idomain = idomain.reshape(grid.shape)\n",
    "    grid.idomain = idomain"
   ]
  },
  {
   "cell_type": "code",
   "execution_count": null,
   "metadata": {},
   "outputs": [],
   "source": [
    "# Create a regular MODFLOW grid\n",
    "Lx = 180000\n",
    "Ly = 100000\n",
    "dx = dy = 1000\n",
    "nrow = int(Ly / dy)\n",
    "ncol = int(Lx / dx)\n",
    "print(Lx, Ly, nrow, ncol)\n",
    "delr = np.array(ncol * [dx])\n",
    "delc = np.array(nrow * [dy])\n",
    "regular_grid = StructuredGrid(nlay=1, delr=delr, delc=delc, xoff=0.0, yoff=0.0)\n",
    "\n",
    "set_idomain(regular_grid, boundary_polygon)\n",
    "\n",
    "fig = plt.figure(figsize=figsize)\n",
    "ax = fig.add_subplot()\n",
    "pmv = flopy.plot.PlotMapView(modelgrid=regular_grid)\n",
    "ax.set_aspect(\"equal\")\n",
    "pmv.plot_grid()\n",
    "pmv.plot_inactive()\n",
    "# regular_grid.plot(ax=ax, )\n",
    "ax.plot(bp[:, 0], bp[:, 1], \"k-\")\n",
    "for sg in sgs:\n",
    "    sa = np.array(sg)\n",
    "    ax.plot(sa[:, 0], sa[:, 1], \"b-\")"
   ]
  },
  {
   "cell_type": "code",
   "execution_count": null,
   "metadata": {},
   "outputs": [],
   "source": [
    "ixs = flopy.utils.GridIntersect(regular_grid, method=\"structured\")"
   ]
  },
  {
   "cell_type": "code",
   "execution_count": null,
   "metadata": {},
   "outputs": [],
   "source": [
    "chd_intersection = []\n",
    "chd_cellids = []\n",
    "for sg in sgs:\n",
    "    v = ixs.intersect(LineString(sg), sort_by_cellid=True)\n",
    "    chd_intersection.append(v)\n",
    "    chd_cellids += v[\"cellids\"].tolist()"
   ]
  },
  {
   "cell_type": "code",
   "execution_count": null,
   "metadata": {},
   "outputs": [],
   "source": [
    "regular_grid.nrow, regular_grid.ncol"
   ]
  },
  {
   "cell_type": "code",
   "execution_count": null,
   "metadata": {},
   "outputs": [],
   "source": [
    "regular_grid.delc"
   ]
  },
  {
   "cell_type": "code",
   "execution_count": null,
   "metadata": {},
   "outputs": [],
   "source": [
    "chd_elev = []\n",
    "for i, j in chd_cellids:\n",
    "    v = (0, i, j, (100.0 / regular_grid.ncol) * (regular_grid.ncol - j + 1))\n",
    "    if v not in chd_elev:\n",
    "        chd_elev.append(v)"
   ]
  },
  {
   "cell_type": "code",
   "execution_count": null,
   "metadata": {},
   "outputs": [],
   "source": []
  },
  {
   "cell_type": "code",
   "execution_count": null,
   "metadata": {},
   "outputs": [],
   "source": [
    "sim = flopy.mf6.MFSimulation(\n",
    "    sim_name=\"create_topo\", sim_ws=\"temp_topo\", exe_name=\"mf6\"\n",
    ")\n",
    "\n",
    "tdis = flopy.mf6.ModflowTdis(sim)\n",
    "ims = flopy.mf6.ModflowIms(sim, linear_acceleration=\"bicgstab\")\n",
    "gwf = flopy.mf6.ModflowGwf(sim, newtonoptions=\"NEWTON UNDER_RELAXATION\")\n",
    "\n",
    "dis = flopy.mf6.ModflowGwfdis(\n",
    "    gwf,\n",
    "    nlay=1,\n",
    "    nrow=regular_grid.nrow,\n",
    "    ncol=regular_grid.ncol,\n",
    "    delr=regular_grid.delr,\n",
    "    delc=regular_grid.delc,\n",
    "    idomain=regular_grid.idomain,\n",
    "    top=100,\n",
    "    botm=-100,\n",
    ")\n",
    "\n",
    "ic = flopy.mf6.ModflowGwfic(gwf, strt=50.0)\n",
    "npf = flopy.mf6.ModflowGwfnpf(gwf, icelltype=1)\n",
    "rch = flopy.mf6.ModflowGwfrcha(gwf, recharge=0.00001)\n",
    "chd = flopy.mf6.ModflowGwfchd(gwf, stress_period_data=chd_elev)\n",
    "oc = flopy.mf6.ModflowGwfoc(\n",
    "    gwf,\n",
    "    head_filerecord=f\"{gwf.name}.hds\",\n",
    "    saverecord=[(\"HEAD\", \"ALL\")],\n",
    ")"
   ]
  },
  {
   "cell_type": "code",
   "execution_count": null,
   "metadata": {},
   "outputs": [],
   "source": [
    "sim.write_simulation()\n",
    "sim.run_simulation()"
   ]
  },
  {
   "cell_type": "code",
   "execution_count": null,
   "metadata": {},
   "outputs": [],
   "source": [
    "head = gwf.output.head().get_data()"
   ]
  },
  {
   "cell_type": "code",
   "execution_count": null,
   "metadata": {},
   "outputs": [],
   "source": [
    "v = head.copy()\n",
    "v[v == 1e30] = 0.0\n",
    "v.max()"
   ]
  },
  {
   "cell_type": "code",
   "execution_count": null,
   "metadata": {},
   "outputs": [],
   "source": [
    "figsize = (8.25 / 2.54, (Ly / Lx) * 8.25 / 2.54)\n",
    "levels = np.arange(0, 110, 10)\n",
    "contour_dict = {\"levels\": levels, \"linewidths\": 1.0, \"colors\": \"white\"}\n",
    "clabel_dict = {\n",
    "    \"inline\": True,\n",
    "    \"fmt\": \"%1.0f\",\n",
    "    \"fontsize\": 6,\n",
    "    \"inline_spacing\": 0.5,\n",
    "}\n",
    "font_dict = {\"fontsize\": 5, \"color\": \"white\"}\n",
    "\n",
    "with styles.USGSMap():\n",
    "    fig = plt.figure(figsize=figsize, constrained_layout=True)\n",
    "\n",
    "    mv = flopy.plot.PlotMapView(model=gwf)\n",
    "    v = mv.plot_array(head, masked_values=(1.0e30,))\n",
    "    mv.plot_grid(lw=0.25, color=\"0.5\")\n",
    "    cg = mv.contour_array(head, masked_values=(1.0e30,), **contour_dict)\n",
    "    mv.ax.clabel(cg, cg.levels, **clabel_dict)\n",
    "    mv.plot_inactive(color_noflow=\"gray\")\n",
    "    mv.ax.plot(bp[:, 0], bp[:, 1], \"k-\", lw=2.0)\n",
    "    for sg in sgs:\n",
    "        sa = np.array(sg)\n",
    "        mv.ax.plot(sa[:, 0], sa[:, 1], \"b-\", lw=1.0)\n",
    "    mv.ax.set_xticks(np.arange(0, 200000, 50000))\n",
    "    mv.ax.set_xticklabels(np.arange(0, 200, 50))\n",
    "    mv.ax.set_yticks(np.arange(0, 150000, 50000))\n",
    "    mv.ax.set_yticklabels(np.arange(0, 150, 50))\n",
    "    mv.ax.set_xlabel(\"x position (km)\")\n",
    "    mv.ax.set_ylabel(\"y position (km)\")\n",
    "\n",
    "    cax = fig.add_axes([0.70, 0.85, 0.2, 0.025])\n",
    "    cbar = plt.colorbar(\n",
    "        v,\n",
    "        orientation=\"horizontal\",\n",
    "        shrink=0.5,\n",
    "        cax=cax,\n",
    "        ticks=[25, 50, 75, 100],\n",
    "    )\n",
    "    cbar.ax.tick_params(\n",
    "        labelsize=5, labelcolor=\"white\", color=\"white\", length=4.5, pad=2\n",
    "    )\n",
    "    cbar.ax.set_title(\"elevation (m)\", pad=2.5, loc=\"left\", fontdict=font_dict)\n",
    "\n",
    "    fpth = os.path.join(\"..\", \"doc\", \"figures\", \"fine_topo.png\")\n",
    "    plt.savefig(fpth, dpi=300);"
   ]
  },
  {
   "cell_type": "code",
   "execution_count": null,
   "metadata": {},
   "outputs": [],
   "source": [
    "# np.savetxt(\"grid_data/fine_topo.asc\", head[0], fmt=\"%.8g\")"
   ]
  },
  {
   "cell_type": "code",
   "execution_count": null,
   "metadata": {},
   "outputs": [],
   "source": []
  }
 ],
 "metadata": {
  "kernelspec": {
   "display_name": "Python 3 (ipykernel)",
   "language": "python",
   "name": "python3"
  },
  "language_info": {
   "codemirror_mode": {
    "name": "ipython",
    "version": 3
   },
   "file_extension": ".py",
   "mimetype": "text/x-python",
   "name": "python",
   "nbconvert_exporter": "python",
   "pygments_lexer": "ipython3",
   "version": "3.9.12"
  }
 },
 "nbformat": 4,
 "nbformat_minor": 4
}
