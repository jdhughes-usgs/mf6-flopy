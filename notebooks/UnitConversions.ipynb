{
 "cells": [
  {
   "cell_type": "code",
   "execution_count": null,
   "id": "6d9dfae7-fec9-4215-8d42-b513c5d32c61",
   "metadata": {},
   "outputs": [],
   "source": [
    "import rasterio\n",
    "import flopy\n",
    "from affine import Affine\n",
    "import numpy as np\n",
    "import matplotlib.pyplot as plt"
   ]
  },
  {
   "cell_type": "code",
   "execution_count": null,
   "id": "1bd7a647-a9ac-49e3-ba36-f8a159270af4",
   "metadata": {},
   "outputs": [],
   "source": [
    "ft2m = 1. / 3.28081"
   ]
  },
  {
   "cell_type": "code",
   "execution_count": null,
   "id": "8cc05bce-d5e2-47a5-93c2-87896ff2d660",
   "metadata": {},
   "outputs": [],
   "source": [
    "dy = 20000. * ft2m\n",
    "dy"
   ]
  },
  {
   "cell_type": "code",
   "execution_count": null,
   "id": "3513e216-4196-4e44-a9d3-abe2a151fb09",
   "metadata": {},
   "outputs": [],
   "source": [
    "bot = rasterio.open(\"./data/bottom.asc\")\n",
    "bot.shape, bot.transform, bot.offsets"
   ]
  },
  {
   "cell_type": "code",
   "execution_count": null,
   "id": "c3a7a578-d0dd-43c8-b0ed-530b09f25701",
   "metadata": {},
   "outputs": [],
   "source": [
    "bot.transform * bot.transform.scale(ft2m)"
   ]
  },
  {
   "cell_type": "code",
   "execution_count": null,
   "id": "fe812ed8-28a5-4cdb-a3a8-d4dc09a12fa7",
   "metadata": {},
   "outputs": [],
   "source": [
    "transform = Affine(152.40138868145368, 0.0, 0.0, 0.0, -152.40138868145368, 6096.0555)\n",
    "transform, transform.xoff, transform.yoff"
   ]
  },
  {
   "cell_type": "code",
   "execution_count": null,
   "id": "3e0ac37e-9ff7-423d-acab-1a4b959fbabd",
   "metadata": {},
   "outputs": [],
   "source": []
  },
  {
   "cell_type": "code",
   "execution_count": null,
   "id": "dbf24d51-3840-4206-9cf3-ca7487e448d6",
   "metadata": {},
   "outputs": [],
   "source": [
    "file_names = (\"./data/bottom\", \"./data/top\", \"./data/k_aq\", \"./data/k_clay\", \"./data/lake_location\",)\n",
    "dtypes = (float, float, float, float, np.int32,)\n",
    "multipliers = (ft2m, ft2m, ft2m, ft2m, 1,)"
   ]
  },
  {
   "cell_type": "code",
   "execution_count": null,
   "id": "c7c8457e-721a-48c0-acad-2dff57203fbc",
   "metadata": {},
   "outputs": [],
   "source": [
    "for file_name, dtype, factor in zip(file_names, dtypes, multipliers):\n",
    "    file_in = f\"{file_name}.asc\"\n",
    "    file_out = f\"{file_name}_SI.tif\"\n",
    "    raster = rasterio.open(file_in)\n",
    "    arr = np.array(raster.read(1) * factor, dtype=dtype)\n",
    "    with rasterio.open(\n",
    "            file_out,\n",
    "            mode=\"w\",\n",
    "            driver=\"GTiff\",\n",
    "            height=arr.shape[0],\n",
    "            width=arr.shape[1],\n",
    "            count=1,\n",
    "            dtype=arr.dtype,\n",
    "            transform=transform,\n",
    "    ) as new_dataset:\n",
    "            new_dataset.write(arr, 1)"
   ]
  },
  {
   "cell_type": "code",
   "execution_count": null,
   "id": "aba6f85a-aa96-4e89-9ad1-a8d2dbd81e98",
   "metadata": {},
   "outputs": [],
   "source": []
  },
  {
   "cell_type": "code",
   "execution_count": null,
   "id": "f4f6db98-6ff6-4a21-9e03-7324ef17c704",
   "metadata": {},
   "outputs": [],
   "source": []
  },
  {
   "cell_type": "code",
   "execution_count": null,
   "id": "6bdb5170-9d23-416a-8c56-d57b39fc1b89",
   "metadata": {},
   "outputs": [],
   "source": [
    "from rasterio.plot import show"
   ]
  },
  {
   "cell_type": "code",
   "execution_count": null,
   "id": "bc85c0b5-1e6f-4db5-9a90-f5241234ed22",
   "metadata": {},
   "outputs": [],
   "source": [
    "src = rasterio.open(\"./data/top_SI.tif\")"
   ]
  },
  {
   "cell_type": "code",
   "execution_count": null,
   "id": "7a2998a1-2ded-4aac-aa25-8fcdd37b12b1",
   "metadata": {},
   "outputs": [],
   "source": [
    "src.bounds"
   ]
  },
  {
   "cell_type": "code",
   "execution_count": null,
   "id": "f684cb57-ebc1-4135-ba0a-b9f3b76a5df1",
   "metadata": {},
   "outputs": [],
   "source": [
    "show(src)"
   ]
  },
  {
   "cell_type": "code",
   "execution_count": null,
   "id": "9155914c-fe5d-42ac-884a-fd4a4cc6b425",
   "metadata": {},
   "outputs": [],
   "source": [
    "src = rasterio.open(\"./data/k_clay_SI.tif\")\n",
    "show(src)\n"
   ]
  },
  {
   "cell_type": "code",
   "execution_count": null,
   "id": "3e032a94-db4b-4ea9-8c03-5a163d9177d6",
   "metadata": {},
   "outputs": [],
   "source": [
    "v = src.read(1)\n",
    "v.min(), v.max()"
   ]
  },
  {
   "cell_type": "code",
   "execution_count": null,
   "id": "19e83500-9993-455c-97bc-3b1880a18975",
   "metadata": {},
   "outputs": [],
   "source": []
  }
 ],
 "metadata": {
  "kernelspec": {
   "display_name": "Python 3 (ipykernel)",
   "language": "python",
   "name": "python3"
  },
  "language_info": {
   "codemirror_mode": {
    "name": "ipython",
    "version": 3
   },
   "file_extension": ".py",
   "mimetype": "text/x-python",
   "name": "python",
   "nbconvert_exporter": "python",
   "pygments_lexer": "ipython3",
   "version": "3.9.7"
  }
 },
 "nbformat": 4,
 "nbformat_minor": 5
}
