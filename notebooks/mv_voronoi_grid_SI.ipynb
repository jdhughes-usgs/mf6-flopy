{
 "cells": [
  {
   "cell_type": "code",
   "execution_count": null,
   "id": "9e701cd0-4f01-4d3a-8697-6ef2bd67952a",
   "metadata": {},
   "outputs": [],
   "source": [
    "import os\n",
    "import sys\n",
    "import numpy as np\n",
    "import matplotlib as mpl\n",
    "import matplotlib.pyplot as plt\n",
    "import matplotlib.gridspec as gridspec\n",
    "import matplotlib.ticker as mticker\n",
    "\n",
    "import rasterio\n",
    "import shapely\n",
    "from shapely.geometry import LineString, Polygon\n",
    "\n",
    "import flopy\n",
    "from flopy.discretization import StructuredGrid, VertexGrid\n",
    "from flopy.utils.triangle import Triangle\n",
    "from flopy.utils.voronoi import VoronoiGrid\n",
    "from flopy.utils.gridgen import Gridgen\n",
    "import flopy.plot.styles as styles"
   ]
  },
  {
   "cell_type": "code",
   "execution_count": null,
   "id": "7268f96d-093a-4ef9-ad73-a75e0a74d955",
   "metadata": {},
   "outputs": [],
   "source": [
    "# import all plot style information from defaults.py\n",
    "from defaults import *"
   ]
  },
  {
   "cell_type": "markdown",
   "id": "009136fa-6366-4349-b9ad-f0a2d178681a",
   "metadata": {},
   "source": [
    "### Conversion factors"
   ]
  },
  {
   "cell_type": "code",
   "execution_count": null,
   "id": "1b68d108-67eb-41cc-9714-74e2f5a04dcc",
   "metadata": {},
   "outputs": [],
   "source": [
    "ft2m = 1. / 3.28081\n",
    "ft3tom3 = 1. * ft2m * ft2m * ft2m\n",
    "ftpd2cmpy = 1000. * 365.25 * ft2m\n",
    "mpd2cmpy = 100. * 365.25\n",
    "mpd2inpy = 12. * 365.25 * 3.28081"
   ]
  },
  {
   "cell_type": "markdown",
   "id": "1d042c67-87b9-4506-af9d-b794bacf8ad6",
   "metadata": {},
   "source": [
    "### Load raster data"
   ]
  },
  {
   "cell_type": "code",
   "execution_count": null,
   "id": "d6e4d217-245e-4253-8018-cf1425c9d147",
   "metadata": {},
   "outputs": [],
   "source": [
    "kaq = flopy.utils.Raster.load(\"./data/k_aq_SI.tif\")\n",
    "kclay = flopy.utils.Raster.load(\"./data/k_clay_SI.tif\")\n",
    "top_base = flopy.utils.Raster.load(\"./data/top_SI.tif\")\n",
    "bot = flopy.utils.Raster.load(\"./data/bottom_SI.tif\")\n",
    "lake_location = flopy.utils.Raster.load(\"./data/lake_location_SI.tif\")"
   ]
  },
  {
   "cell_type": "markdown",
   "id": "51a5dd07-fe17-4151-befe-c47f1083dcb9",
   "metadata": {},
   "source": [
    "### create a structured grid for plotting"
   ]
  },
  {
   "cell_type": "code",
   "execution_count": null,
   "id": "a8e3a702-fc8f-485c-aa20-22d8225b3913",
   "metadata": {},
   "outputs": [],
   "source": [
    "nlay, nrow, ncol = 6, 40, 25\n",
    "shape2d = (nrow, ncol)\n",
    "shape3d = (nlay, nrow, ncol)\n",
    "delr = delc = 500.0 * ft2m\n",
    "delrs = np.ones(ncol, dtype=np.float32) * delr\n",
    "delcs = np.ones(nrow, dtype=np.float32) * delc\n",
    "top = top_base.get_array(1)\n",
    "botm = np.zeros(shape3d, dtype=np.float32)\n",
    "botm[0] = -5.0 * ft2m\n",
    "botm[1] = -50.0 * ft2m\n",
    "botm[2] = -51.0 * ft2m\n",
    "botm[3] = -100.0 * ft2m\n",
    "botm[4] = bot.get_array(1)"
   ]
  },
  {
   "cell_type": "code",
   "execution_count": null,
   "id": "e73b15d8-6153-4e21-996c-7fc92c7b73ff",
   "metadata": {},
   "outputs": [],
   "source": [
    "struct_grid = flopy.discretization.StructuredGrid(\n",
    "    nlay=1,\n",
    "    nrow=nrow,\n",
    "    ncol=ncol,\n",
    "    delr=delrs,\n",
    "    delc=delcs,\n",
    "    top=top,\n",
    "    botm=botm[0].reshape((1, nrow, ncol)),\n",
    ")"
   ]
  },
  {
   "cell_type": "markdown",
   "id": "2b5c237b-3c69-4640-ae77-439d82b88032",
   "metadata": {},
   "source": [
    "### define the features (in feet)"
   ]
  },
  {
   "cell_type": "code",
   "execution_count": null,
   "id": "9aef329b-d9b5-4b17-b4a6-19199ef29645",
   "metadata": {},
   "outputs": [],
   "source": [
    "mv_boundary = \"\"\"0.0 0.0\n",
    "0.0 20000.0\n",
    "12500.0 20000.0\n",
    "12500.0 0.0\"\"\""
   ]
  },
  {
   "cell_type": "code",
   "execution_count": null,
   "id": "439248dc-4020-4b9b-8d69-8fd8aa9ea064",
   "metadata": {},
   "outputs": [],
   "source": [
    "river = \"\"\"4250.0 8750.0 \n",
    "4250.0 0.0\"\"\""
   ]
  },
  {
   "cell_type": "code",
   "execution_count": null,
   "id": "5e686c84-ddae-445e-870e-78759aedcc6d",
   "metadata": {},
   "outputs": [],
   "source": [
    "river_box = \"\"\"3500.0 0.0\n",
    "3500.0 9500.0\n",
    "5000.0 9500.0\n",
    "5000.0 0.0\"\"\""
   ]
  },
  {
   "cell_type": "code",
   "execution_count": null,
   "id": "b155fc11-a1a8-47d3-80f1-81be73a1ae3c",
   "metadata": {},
   "outputs": [],
   "source": [
    "wells = \"\"\"7250. 17250.\n",
    "7750. 2750.\n",
    "2750 3750.\"\"\""
   ]
  },
  {
   "cell_type": "code",
   "execution_count": null,
   "id": "b4a38a4c-d4ab-4caa-b8c5-eea9a463405c",
   "metadata": {},
   "outputs": [],
   "source": [
    "lake = \"\"\"1500. 18500.\n",
    "3500. 18500.\n",
    "3500. 15500.\n",
    "4000. 15500.\n",
    "4000. 14500.\n",
    "4500. 14500.\n",
    "4500. 12000.\n",
    "2500. 12000.\n",
    "2500. 12500.\n",
    "2000. 12500.\n",
    "2000. 14000.\n",
    "1500. 14000.\n",
    "1500. 15000.\n",
    "1000. 15000.\n",
    "1000. 18000.\n",
    "1500. 18000.\"\"\""
   ]
  },
  {
   "cell_type": "code",
   "execution_count": null,
   "id": "0053c35f-e2dc-4479-b381-9ae578456d27",
   "metadata": {},
   "outputs": [],
   "source": [
    "# in meters\n",
    "boundary_refinement = 100.0\n",
    "river_refinement = 25.0\n",
    "lake_refinement = 30.0 \n",
    "max_boundary_area = boundary_refinement * boundary_refinement\n",
    "max_river_area = river_refinement * river_refinement\n",
    "max_lake_area = lake_refinement * lake_refinement"
   ]
  },
  {
   "cell_type": "code",
   "execution_count": null,
   "id": "5e2d4d9b-3bf4-4e3d-ae8c-6f7f39509750",
   "metadata": {},
   "outputs": [],
   "source": [
    "boundary_polygon = string2geom(mv_boundary, conversion=ft2m)\n",
    "print(\"len boundary\", len(boundary_polygon))\n",
    "bp = np.array(boundary_polygon)\n",
    "bp_densify = np.array(densify_geometry(bp, boundary_refinement))"
   ]
  },
  {
   "cell_type": "code",
   "execution_count": null,
   "id": "87a28fcf-2d67-4b07-8004-b61a65472f74",
   "metadata": {},
   "outputs": [],
   "source": [
    "river_polyline = string2geom(river, conversion=ft2m)\n",
    "sg = np.array(river_polyline)\n",
    "sg_densify = np.array(densify_geometry(sg, river_refinement))"
   ]
  },
  {
   "cell_type": "code",
   "execution_count": null,
   "id": "31dcaca0-58dd-4c70-bff2-fc1cc6382c04",
   "metadata": {},
   "outputs": [],
   "source": [
    "river_boundary = string2geom(river_box, conversion=ft2m)\n",
    "rb = np.array(river_boundary)\n",
    "rb_densify = np.array(densify_geometry(rb, river_refinement))"
   ]
  },
  {
   "cell_type": "code",
   "execution_count": null,
   "id": "8f3b41c0-e40f-4318-9c61-7fc7166638f6",
   "metadata": {},
   "outputs": [],
   "source": [
    "lake_polygon = string2geom(lake, conversion=ft2m)\n",
    "lake_plot = string2geom(lake, conversion=ft2m)\n",
    "lake_plot += [lake_plot[0]]\n",
    "lake_plot = np.array(lake_plot)\n",
    "lp = np.array(lake_polygon)\n",
    "lp_densify = np.array(densify_geometry(lp, lake_refinement))"
   ]
  },
  {
   "cell_type": "code",
   "execution_count": null,
   "id": "c73abb5e-8196-4f10-88f2-ab1ad34f9974",
   "metadata": {},
   "outputs": [],
   "source": [
    "well_points = string2geom(wells, conversion=ft2m)\n",
    "wp = np.array(well_points)"
   ]
  },
  {
   "cell_type": "markdown",
   "id": "883a22c0-a87f-434d-8497-49ae843140e0",
   "metadata": {},
   "source": [
    "#### simple plotting functions"
   ]
  },
  {
   "cell_type": "code",
   "execution_count": null,
   "id": "61af2726-c796-4ffb-b856-f82da8befce8",
   "metadata": {},
   "outputs": [],
   "source": [
    "def plot_wells(ax=None, ms=None):\n",
    "    if ax is None:\n",
    "        ax = plt.gca()\n",
    "    ax.plot(wp[:, 0], wp[:, 1], \"ro\", ms=ms)\n",
    "    return ax"
   ]
  },
  {
   "cell_type": "code",
   "execution_count": null,
   "id": "f024b851-1451-4253-938a-504a23ebcf16",
   "metadata": {},
   "outputs": [],
   "source": [
    "def plot_river(\n",
    "    ax=None,\n",
    "):\n",
    "    if ax is None:\n",
    "        ax = plt.gca()\n",
    "    ax.plot(sg_densify[:, 0], sg_densify[:, 1], **river_dict)\n",
    "    return ax"
   ]
  },
  {
   "cell_type": "code",
   "execution_count": null,
   "id": "0a187e33-2cd3-40ec-afcc-47bbd693707d",
   "metadata": {},
   "outputs": [],
   "source": [
    "def plot_lake(ax=None, lw=0.5, color=\"cyan\", marker=None, densify=False):\n",
    "    if ax is None:\n",
    "        ax = plt.gca()\n",
    "    if densify:\n",
    "        arr = lp_densify\n",
    "    else:\n",
    "        arr = lake_plot\n",
    "    ax.plot(arr[:, 0], arr[:, 1], ls=\"-\", color=color, lw=lw, marker=marker)\n",
    "    return ax"
   ]
  },
  {
   "cell_type": "code",
   "execution_count": null,
   "id": "27ff91ed-9505-467b-818f-0c0c42ea3912",
   "metadata": {},
   "outputs": [],
   "source": [
    "def plot_circles(ax=None, radius=1.0, lw=0.5, color=\"red\"):\n",
    "    if ax is None:\n",
    "        ax = plt.gca()\n",
    "    for pt in wp:\n",
    "        center = (pt[0], pt[1])\n",
    "        pts = circle_function(center=center, radius=radius)\n",
    "        ax.plot(pts[:, 0], pts[:, 1], ls=\":\", color=color, lw=lw)\n",
    "    return ax"
   ]
  },
  {
   "cell_type": "markdown",
   "id": "690b7438-21cf-4eac-be96-a24703988f75",
   "metadata": {},
   "source": [
    "### plot the features"
   ]
  },
  {
   "cell_type": "code",
   "execution_count": null,
   "id": "436a7475-c63b-4e0a-92dc-199a80691cdc",
   "metadata": {},
   "outputs": [],
   "source": [
    "fig = plt.figure(figsize=(15, 10))\n",
    "ax = fig.add_subplot()\n",
    "ax.set_aspect(\"equal\")\n",
    "\n",
    "ax.plot(bp_densify[:, 0], bp_densify[:, 1], \"ko-\")\n",
    "plot_lake(ax, marker=\"o\", densify=True)\n",
    "plot_river(ax)\n",
    "plot_wells(ax)\n",
    "plot_circles(ax, radius=300);"
   ]
  },
  {
   "cell_type": "markdown",
   "id": "7fcab50f-202f-4403-9893-5469f0eacc54",
   "metadata": {},
   "source": [
    "### use Triangle to create mesh"
   ]
  },
  {
   "cell_type": "code",
   "execution_count": null,
   "id": "17c0d2eb-0667-4c09-9bc9-16283c260f02",
   "metadata": {},
   "outputs": [],
   "source": [
    "temp_path = \"triangle_data\""
   ]
  },
  {
   "cell_type": "code",
   "execution_count": null,
   "id": "2bd6d3f6-d706-499a-b873-6da6896c40b0",
   "metadata": {},
   "outputs": [],
   "source": [
    "maximum_area = 150. * 150.\n",
    "well_dv = 300.0"
   ]
  },
  {
   "cell_type": "code",
   "execution_count": null,
   "id": "f1866d48-9a30-404b-a947-436cf1e3ae27",
   "metadata": {},
   "outputs": [],
   "source": [
    "tri = Triangle(\n",
    "    angle=30,\n",
    "    nodes=sg_densify,\n",
    "    model_ws=temp_path,\n",
    ")\n",
    "tri.add_polygon(bp_densify)\n",
    "tri.add_polygon(rb_densify)\n",
    "tri.add_polygon(lp_densify)\n",
    "tri.add_region((10, 10), attribute=10, maximum_area=max_boundary_area)\n",
    "tri.add_region(\n",
    "   (3050.0, 3050.0), attribute=10, maximum_area=max_boundary_area,)\n",
    "tri.add_region((900.0, 4600.0), attribute=11, maximum_area=max_lake_area)\n",
    "tri.add_region((1200.0, 150.0), attribute=10, maximum_area=max_river_area)\n",
    "for idx, w in enumerate(wp):\n",
    "    center = (w[0], w[1])\n",
    "    tri.add_polygon(circle_function(center=center, radius=100.0))\n",
    "    tri.add_region(center, attribute=idx, maximum_area=500.0)\n",
    "tri.build(verbose=False)"
   ]
  },
  {
   "cell_type": "code",
   "execution_count": null,
   "id": "3d260add-d3a5-4c9c-a808-80edba058ba1",
   "metadata": {},
   "outputs": [],
   "source": [
    "tri.plot(lw=0.5)\n",
    "ax = plot_wells(ms=3)\n",
    "plot_river(ax)"
   ]
  },
  {
   "cell_type": "markdown",
   "id": "cab6f2b7-42a7-4dde-b57a-85d29bdd6253",
   "metadata": {},
   "source": [
    "### convert triangular mesh to a voronoi grid"
   ]
  },
  {
   "cell_type": "code",
   "execution_count": null,
   "id": "8151d7ef-ebe8-4ae5-9b09-d688ae9b1ea7",
   "metadata": {},
   "outputs": [],
   "source": [
    "vor = VoronoiGrid(tri)"
   ]
  },
  {
   "cell_type": "code",
   "execution_count": null,
   "id": "d356a6f2-9e7c-49d5-9cab-0fc6c13c2967",
   "metadata": {},
   "outputs": [],
   "source": [
    "vor.plot()\n",
    "ax = plot_wells(ms=3)"
   ]
  },
  {
   "cell_type": "markdown",
   "id": "a60e059a-e89d-4a89-90a8-c76501c5921f",
   "metadata": {},
   "source": [
    "### create a flopy Vertex grid to use for the model"
   ]
  },
  {
   "cell_type": "code",
   "execution_count": null,
   "id": "94db6503-b469-4977-a578-357628356df7",
   "metadata": {},
   "outputs": [],
   "source": [
    "gridprops = vor.get_gridprops_vertexgrid()\n",
    "idomain = np.ones((1, vor.ncpl), dtype=int)\n",
    "voronoi_grid = VertexGrid(**gridprops, nlay=1, idomain=idomain)"
   ]
  },
  {
   "cell_type": "code",
   "execution_count": null,
   "id": "22b6f5f4-ef15-42d2-99f6-388b7b99a3cc",
   "metadata": {},
   "outputs": [],
   "source": [
    "voronoi_grid.plot()"
   ]
  },
  {
   "cell_type": "markdown",
   "id": "fe7ab84a-ef10-488f-9560-494ff7298541",
   "metadata": {},
   "source": [
    "### intersect the rasters with the vertex grid"
   ]
  },
  {
   "cell_type": "code",
   "execution_count": null,
   "id": "1ae76c01-c4bb-40ad-bfb0-9feda78157fd",
   "metadata": {},
   "outputs": [],
   "source": [
    "top_vg = top_base.resample_to_grid(\n",
    "    voronoi_grid,\n",
    "    band=top_base.bands[0],\n",
    "    method=\"linear\",\n",
    "    extrapolate_edges=True,\n",
    ")"
   ]
  },
  {
   "cell_type": "code",
   "execution_count": null,
   "id": "f0dbc3ec-76b4-4477-a5f2-a1daba669e52",
   "metadata": {},
   "outputs": [],
   "source": [
    "bot_vg = bot.resample_to_grid(\n",
    "    voronoi_grid,\n",
    "    band=bot.bands[0],\n",
    "    method=\"linear\",\n",
    "    extrapolate_edges=True,\n",
    ")"
   ]
  },
  {
   "cell_type": "code",
   "execution_count": null,
   "id": "6a098a95-9957-40d3-adc5-8571fd6018ac",
   "metadata": {},
   "outputs": [],
   "source": [
    "lake_cells_vg = lake_location.resample_to_grid(\n",
    "    voronoi_grid,\n",
    "    band=lake_location.bands[0],\n",
    "    method=\"nearest\",\n",
    "    extrapolate_edges=True,\n",
    ")"
   ]
  },
  {
   "cell_type": "code",
   "execution_count": null,
   "id": "c4c0d7f7-e90f-40a9-86a9-7284d5baf315",
   "metadata": {},
   "outputs": [],
   "source": [
    "kaq_vg = kaq.resample_to_grid(\n",
    "    voronoi_grid,\n",
    "    band=kaq.bands[0],\n",
    "    method=\"nearest\",\n",
    "    extrapolate_edges=True,\n",
    ")"
   ]
  },
  {
   "cell_type": "code",
   "execution_count": null,
   "id": "374200ba-edba-41f8-b1c7-8d92ac540eb9",
   "metadata": {},
   "outputs": [],
   "source": [
    "kclay_vg = kclay.resample_to_grid(\n",
    "    voronoi_grid,\n",
    "    band=kclay.bands[0],\n",
    "    method=\"nearest\",\n",
    ")"
   ]
  },
  {
   "cell_type": "code",
   "execution_count": null,
   "id": "e2a94141-0a28-4c94-8ce0-ad99a98d401a",
   "metadata": {},
   "outputs": [],
   "source": [
    "np.unique(kaq_vg)"
   ]
  },
  {
   "cell_type": "code",
   "execution_count": null,
   "id": "54e1bc66-8b6a-4d52-a89e-3000ba2fa248",
   "metadata": {},
   "outputs": [],
   "source": [
    "np.unique(kclay_vg)"
   ]
  },
  {
   "cell_type": "code",
   "execution_count": null,
   "id": "03c9a59d-aadd-4caf-b6b2-cc61184abb7f",
   "metadata": {},
   "outputs": [],
   "source": [
    "# create confining unit location map\n",
    "kclay_loc_vg = np.zeros(kclay_vg.shape, dtype=int)\n",
    "kclay_loc_vg[kclay_vg < 60.] = 1"
   ]
  },
  {
   "cell_type": "code",
   "execution_count": null,
   "id": "e983dc59-b63e-48c2-b7b9-25f59b0b0d92",
   "metadata": {},
   "outputs": [],
   "source": [
    "kclay_vg.min(), kclay_vg.max(), kclay.get_array(1).min(), kclay.get_array(1).max()"
   ]
  },
  {
   "cell_type": "code",
   "execution_count": null,
   "id": "000442a2-a2ab-4e09-b9e8-a3dc938c2320",
   "metadata": {},
   "outputs": [],
   "source": [
    "idomain_2 = np.ones(kclay_vg.shape, dtype=int)\n",
    "idomain_2[kclay_loc_vg == 0] = -1"
   ]
  },
  {
   "cell_type": "code",
   "execution_count": null,
   "id": "f94a6573-f0b9-4afe-bbf8-88c70c97a2de",
   "metadata": {},
   "outputs": [],
   "source": [
    "porosity_2 = np.full(kclay_vg.shape, 0.2, dtype=float)\n",
    "porosity_2[kclay_loc_vg == 1] = 0.4"
   ]
  },
  {
   "cell_type": "code",
   "execution_count": null,
   "id": "b3e41a1a-3705-4cd0-b57d-6a6bbc8a282f",
   "metadata": {},
   "outputs": [],
   "source": [
    "vmin, vmax = kclay.get_array(1).min(), kclay.get_array(1).max()\n",
    "with styles.USGSMap():\n",
    "    fig, ax = plt.subplots(\n",
    "        1,\n",
    "        1,\n",
    "        sharey=True,\n",
    "        # figsize=one_panel_figsize,\n",
    "        constrained_layout=True,\n",
    "        subplot_kw=dict(aspect=\"equal\"),\n",
    "    )\n",
    "    mm = flopy.plot.PlotMapView(modelgrid=voronoi_grid, ax=ax)\n",
    "    cb = mm.plot_array(idomain_2)\n",
    "    mm.plot_grid(**grid_dict)\n",
    "    plot_wells(ax=ax, ms=3)\n",
    "    plot_river(ax=ax)\n",
    "    plot_lake(ax=ax)\n",
    "    plt.colorbar(cb, ax=ax, shrink=0.5)"
   ]
  },
  {
   "cell_type": "markdown",
   "id": "479f547c-97cf-4948-a737-6d9dc9db83a7",
   "metadata": {},
   "source": [
    "### set the bottom of each layer"
   ]
  },
  {
   "cell_type": "code",
   "execution_count": null,
   "id": "47b40b32-7cff-4ef9-bb2f-0f689c153996",
   "metadata": {},
   "outputs": [],
   "source": [
    "# zero-based variable names\n",
    "bot_l2 = np.full(bot_vg.shape, -51.0 * ft2m, dtype=float)\n",
    "bot_l3 = np.full(bot_vg.shape, -100.0 * ft2m, dtype=float)\n",
    "bot_l4 = bot_vg + 0.5 * (bot_l3 - bot_vg)"
   ]
  },
  {
   "cell_type": "code",
   "execution_count": null,
   "id": "34347b19-cf5b-46f5-8b8e-296e818fef31",
   "metadata": {},
   "outputs": [],
   "source": [
    "bot_l2[idomain_2] = -50. * ft2m"
   ]
  },
  {
   "cell_type": "code",
   "execution_count": null,
   "id": "56addf17-c916-41dd-a0e0-f83d6baa08fb",
   "metadata": {},
   "outputs": [],
   "source": [
    "botm = [-5. * ft2m, -50. * ft2m, bot_l2, -100.0 * ft2m, bot_l4, bot_vg]\n",
    "botm[0:4]"
   ]
  },
  {
   "cell_type": "markdown",
   "id": "d7412065-a956-4976-b002-dd030587ecb5",
   "metadata": {},
   "source": [
    "### create a model grid for the lake"
   ]
  },
  {
   "cell_type": "code",
   "execution_count": null,
   "id": "3edc0dbb-8435-4e67-9e14-1d65428f4fed",
   "metadata": {},
   "outputs": [],
   "source": [
    "lake_grid_top = np.full((vor.ncpl), 50.0, dtype=float)\n",
    "lake_vg_grid = flopy.discretization.VertexGrid(**gridprops, nlay=1, idomain=idomain, top=lake_grid_top, botm=top_vg.reshape(1, vor.ncpl))"
   ]
  },
  {
   "cell_type": "markdown",
   "id": "6eb98751-2fe7-4119-8c65-ee3bd422baa5",
   "metadata": {},
   "source": [
    "### plot the resampled rasters"
   ]
  },
  {
   "cell_type": "code",
   "execution_count": null,
   "id": "bddde4c1-3642-4a84-b9ab-a4b9ab20c275",
   "metadata": {},
   "outputs": [],
   "source": [
    "two_panel_figsize = (17.15 / 2.541, 0.8333 * 17.15 / 2.541)\n",
    "one_panel_figsize = (8.25 / 2.541, 13.2 / 2.541)\n",
    "six_panel_figsize = (17.15 / 2.541, 1.4 * 0.8333 * 17.15 / 2.541)"
   ]
  },
  {
   "cell_type": "code",
   "execution_count": null,
   "id": "9c1c0fc6-a7d5-4e87-9f65-93c983512c5f",
   "metadata": {},
   "outputs": [],
   "source": [
    "vmin, vmax = 1, 20\n",
    "with styles.USGSMap():\n",
    "    fig, [ax1, ax2] = plt.subplots(\n",
    "        1,\n",
    "        2,\n",
    "        sharey=True,\n",
    "        figsize=two_panel_figsize,\n",
    "        constrained_layout=True,\n",
    "        subplot_kw=dict(aspect=\"equal\"),\n",
    "    )\n",
    "    ax = ax1\n",
    "    mm = flopy.plot.PlotMapView(modelgrid=struct_grid, ax=ax)\n",
    "    mm.plot_array(top_base.get_array(1), vmin=vmin, vmax=vmax)\n",
    "    mm.plot_grid(**grid_dict)\n",
    "    plot_wells(ax=ax, ms=3)\n",
    "    plot_river(ax=ax)\n",
    "    plot_lake(ax=ax)\n",
    "    cs = mm.contour_array(\n",
    "        top_base.get_array(1),\n",
    "        **mv_contour_dict,\n",
    "    )\n",
    "    ax.clabel(cs, **clabel_dict)\n",
    "\n",
    "    ax = ax2\n",
    "    mm = flopy.plot.PlotMapView(modelgrid=voronoi_grid, ax=ax)\n",
    "    mm.plot_array(top_vg.reshape(1, voronoi_grid.ncpl), vmin=vmin, vmax=vmax)\n",
    "    mm.plot_grid(**grid_dict)\n",
    "    plot_wells(ax=ax, ms=3)\n",
    "    plot_river(ax=ax)\n",
    "    plot_lake(ax=ax)\n",
    "    cs = mm.contour_array(\n",
    "        top_vg,\n",
    "        **mv_contour_dict,\n",
    "    )\n",
    "    ax.clabel(cs, **clabel_dict)\n",
    "\n",
    "    fpth = \"figures/mv_voronoi_top.png\"\n",
    "    plt.savefig(fpth, dpi=300);"
   ]
  },
  {
   "cell_type": "code",
   "execution_count": null,
   "id": "62cadd20-c75a-42e6-8d45-d07d08f79794",
   "metadata": {},
   "outputs": [],
   "source": [
    "vmin, vmax = -75, -50\n",
    "with styles.USGSMap():\n",
    "    fig, [ax1, ax2] = plt.subplots(\n",
    "        1,\n",
    "        2,\n",
    "        sharey=True,\n",
    "        figsize=two_panel_figsize,\n",
    "        constrained_layout=True,\n",
    "        subplot_kw=dict(aspect=\"equal\"),\n",
    "    )\n",
    "    ax = ax1\n",
    "    mm = flopy.plot.PlotMapView(modelgrid=struct_grid, ax=ax)\n",
    "    mm.plot_array(bot.get_array(1), vmin=vmin, vmax=vmax)\n",
    "    mm.plot_grid(**grid_dict)\n",
    "    plot_wells(ax=ax, ms=3)\n",
    "    plot_river(ax=ax)\n",
    "    plot_lake(ax=ax)\n",
    "\n",
    "    ax = ax2\n",
    "    mm = flopy.plot.PlotMapView(modelgrid=voronoi_grid, ax=ax)\n",
    "    mm.plot_array(bot_vg, vmin=vmin, vmax=vmax)\n",
    "    mm.plot_grid(**grid_dict)\n",
    "    plot_wells(ax=ax, ms=3)\n",
    "    plot_river(ax=ax)\n",
    "    plot_lake(ax=ax)\n",
    "\n",
    "    fpth = \"figures/mv_voronoi_bot.png\"\n",
    "    plt.savefig(fpth, dpi=300);"
   ]
  },
  {
   "cell_type": "code",
   "execution_count": null,
   "id": "80024457-9d49-4cf4-98ca-69b248b25839",
   "metadata": {},
   "outputs": [],
   "source": [
    "with styles.USGSMap():\n",
    "    fig, [ax1, ax2] = plt.subplots(\n",
    "        1,\n",
    "        2,\n",
    "        sharey=True,\n",
    "        figsize=two_panel_figsize,\n",
    "        constrained_layout=True,\n",
    "        subplot_kw=dict(aspect=\"equal\"),\n",
    "    )\n",
    "    ax = ax1\n",
    "    mm = flopy.plot.PlotMapView(modelgrid=struct_grid, ax=ax)\n",
    "    mm.plot_array(lake_location.get_array(1))\n",
    "    mm.plot_grid(**grid_dict)\n",
    "    plot_wells(ax=ax, ms=3)\n",
    "    plot_river(ax=ax)\n",
    "    plot_lake(ax=ax)\n",
    "\n",
    "    ax = ax2\n",
    "    mm = flopy.plot.PlotMapView(modelgrid=voronoi_grid, ax=ax)\n",
    "    mm.plot_array(lake_cells_vg)\n",
    "    mm.plot_grid(**grid_dict)\n",
    "    plot_wells(ax=ax, ms=3)\n",
    "    plot_river(ax=ax)\n",
    "    plot_lake(ax=ax)\n",
    "\n",
    "    fpth = \"figures/mv_voronoi_lake.png\"\n",
    "    plt.savefig(fpth, dpi=300);"
   ]
  },
  {
   "cell_type": "code",
   "execution_count": null,
   "id": "4e215262-5d71-43f8-97fa-c7a6d1435eb9",
   "metadata": {},
   "outputs": [],
   "source": [
    "vmin, vmax = kaq.get_array(1).min(), kaq.get_array(1).max()\n",
    "with styles.USGSMap():\n",
    "    fig, [ax1, ax2] = plt.subplots(\n",
    "        1,\n",
    "        2,\n",
    "        sharey=True,\n",
    "        figsize=two_panel_figsize,\n",
    "        constrained_layout=True,\n",
    "        subplot_kw=dict(aspect=\"equal\"),\n",
    "    )\n",
    "    ax = ax1\n",
    "    mm = flopy.plot.PlotMapView(modelgrid=struct_grid, ax=ax)\n",
    "    mm.plot_array(kaq.get_array(1), vmin=vmin, vmax=vmax)\n",
    "    mm.plot_grid(**grid_dict)\n",
    "    plot_wells(ax=ax, ms=3)\n",
    "    plot_river(ax=ax)\n",
    "    plot_lake(ax=ax)\n",
    "\n",
    "    ax = ax2\n",
    "    mm = flopy.plot.PlotMapView(modelgrid=voronoi_grid, ax=ax)\n",
    "    pa = mm.plot_array(kaq_vg, vmin=vmin, vmax=vmax)\n",
    "    mm.plot_grid(**grid_dict)\n",
    "    plot_wells(ax=ax, ms=3)\n",
    "    plot_river(ax=ax)\n",
    "    plot_lake(ax=ax)\n",
    "    \n",
    "    axs = np.array([ax1, ax2])\n",
    "    cb = plt.colorbar(\n",
    "    pa,\n",
    "    ax=axs[:], # select all axis from second column\n",
    "    orientation='horizontal',\n",
    "    shrink=0.75)\n",
    "\n",
    "    fpth = \"figures/mv_voronoi_kaq.png\"\n",
    "    plt.savefig(fpth, dpi=300);"
   ]
  },
  {
   "cell_type": "code",
   "execution_count": null,
   "id": "52381169-4d54-4c03-abcc-5f88a5c09857",
   "metadata": {},
   "outputs": [],
   "source": [
    "vmin, vmax = kclay.get_array(1).min(), kclay.get_array(1).max()\n",
    "with styles.USGSMap():\n",
    "    fig, [ax1, ax2] = plt.subplots(\n",
    "        1,\n",
    "        2,\n",
    "        sharey=True,\n",
    "        figsize=two_panel_figsize,\n",
    "        constrained_layout=True,\n",
    "        subplot_kw=dict(aspect=\"equal\"),\n",
    "    )\n",
    "    ax = ax1\n",
    "    mm = flopy.plot.PlotMapView(modelgrid=struct_grid, ax=ax)\n",
    "    mm.plot_array(kclay.get_array(1), vmin=vmin, vmax=vmax)\n",
    "    mm.plot_grid(**grid_dict)\n",
    "    plot_wells(ax=ax, ms=3)\n",
    "    plot_river(ax=ax)\n",
    "    plot_lake(ax=ax)\n",
    "\n",
    "    ax = ax2\n",
    "    mm = flopy.plot.PlotMapView(modelgrid=voronoi_grid, ax=ax)\n",
    "    pa = mm.plot_array(kclay_vg, vmin=vmin, vmax=vmax)\n",
    "    mm.plot_grid(**grid_dict)\n",
    "    plot_wells(ax=ax, ms=3)\n",
    "    plot_river(ax=ax)\n",
    "    plot_lake(ax=ax)\n",
    "\n",
    "    axs = np.array([ax1, ax2])\n",
    "    cb = plt.colorbar(\n",
    "    pa,\n",
    "    ax=axs[:], # select all axis from second column\n",
    "    orientation='horizontal',\n",
    "    shrink=0.75)    \n",
    "    \n",
    "    fpth = \"figures/mv_voronoi_kclay.png\"\n",
    "    plt.savefig(fpth, dpi=300);"
   ]
  },
  {
   "cell_type": "markdown",
   "id": "d27ba78f-6be4-4ecc-9c1e-956ae88aa87b",
   "metadata": {},
   "source": [
    "### intersect features with the grid"
   ]
  },
  {
   "cell_type": "code",
   "execution_count": null,
   "id": "e41c8a47-254d-4e47-9908-4b8a3cbb39e2",
   "metadata": {},
   "outputs": [],
   "source": [
    "ixs = flopy.utils.GridIntersect(voronoi_grid, method=\"vertex\")\n",
    "sg_result = ixs.intersect(LineString(sg_densify), sort_by_cellid=False)"
   ]
  },
  {
   "cell_type": "code",
   "execution_count": null,
   "id": "7ee6feb8-26b2-4312-b71e-41c0a11dc47f",
   "metadata": {},
   "outputs": [],
   "source": [
    "sg_result.shape, sg_result[\"lengths\"].sum(), sg_result.dtype.names"
   ]
  },
  {
   "cell_type": "code",
   "execution_count": null,
   "id": "1c76c88e-56cc-482b-9fbb-92d5ceef627a",
   "metadata": {},
   "outputs": [],
   "source": [
    "sg_result[\"vertices\"][0:5]"
   ]
  },
  {
   "cell_type": "code",
   "execution_count": null,
   "id": "a93e7cca-27f8-4fad-8a42-45d873bc4254",
   "metadata": {},
   "outputs": [],
   "source": [
    "flopy.plot.plot_shapefile(sg_result[\"ixshapes\"])\n",
    "ax = plt.gca()\n",
    "ax.set_xlim(voronoi_grid.extent[0:2])\n",
    "ax.set_ylim(voronoi_grid.extent[2:])"
   ]
  },
  {
   "cell_type": "markdown",
   "id": "cd2c68ba-6987-4d1e-9651-016b76c14c97",
   "metadata": {},
   "source": [
    "### forcing data"
   ]
  },
  {
   "cell_type": "code",
   "execution_count": null,
   "id": "5fdbdd41-7f12-4587-8d05-40342418270c",
   "metadata": {},
   "outputs": [],
   "source": [
    "rainfall = 0.00821918 * ft2m\n",
    "evaporation = 0.0062296 * ft2m\n",
    "net_rainfall = 0.003641 * ft2m"
   ]
  },
  {
   "cell_type": "code",
   "execution_count": null,
   "id": "7990ff85-5dba-45a4-8073-63fdcc17de29",
   "metadata": {},
   "outputs": [],
   "source": [
    "rainfall, evaporation"
   ]
  },
  {
   "cell_type": "code",
   "execution_count": null,
   "id": "3ab5a657-f0ef-4631-9f50-7d69f01b1391",
   "metadata": {},
   "outputs": [],
   "source": [
    "rainfall * mpd2cmpy, evaporation * mpd2cmpy, net_rainfall * mpd2cmpy"
   ]
  },
  {
   "cell_type": "code",
   "execution_count": null,
   "id": "bfcd11f2-5226-456f-8665-5edbd24cbe7e",
   "metadata": {},
   "outputs": [],
   "source": [
    "rainfall * mpd2inpy, evaporation * mpd2inpy, net_rainfall * mpd2inpy"
   ]
  },
  {
   "cell_type": "markdown",
   "id": "f17d9f0e",
   "metadata": {},
   "source": [
    "## Build SFR, LAK, DRN, and WEL datasets\n",
    "\n",
    "SFR datasets"
   ]
  },
  {
   "cell_type": "code",
   "execution_count": null,
   "id": "1d948b66",
   "metadata": {},
   "outputs": [],
   "source": [
    "sfr_unit_conversion = 1.0 * 86400.0  #1.486 * 86400.0"
   ]
  },
  {
   "cell_type": "code",
   "execution_count": null,
   "id": "2163b3c8",
   "metadata": {},
   "outputs": [],
   "source": [
    "sfr_plt_array = np.zeros(voronoi_grid.ncpl, dtype=int)"
   ]
  },
  {
   "cell_type": "code",
   "execution_count": null,
   "id": "654ae289",
   "metadata": {},
   "outputs": [],
   "source": [
    "sfr_nodes = np.arange(0, sg_result.shape[0])\n",
    "gwf_nodes = sg_result[\"cellids\"][::-1]\n",
    "sfr_lengths = sg_result[\"lengths\"][::-1]"
   ]
  },
  {
   "cell_type": "code",
   "execution_count": null,
   "id": "9219b3be",
   "metadata": {},
   "outputs": [],
   "source": [
    "total_cond = 1800000.0 * ft3tom3\n",
    "sfr_width = 10.0 * ft2m\n",
    "sfr_bedthick = 1.0 * ft2m\n",
    "sfr_hk = total_cond * sfr_bedthick / (sfr_width * sfr_lengths.sum())\n",
    "total_cond, sfr_hk"
   ]
  },
  {
   "cell_type": "code",
   "execution_count": null,
   "id": "a302ee12",
   "metadata": {},
   "outputs": [],
   "source": [
    "b0, b1 = -0.3 * ft2m, -2.05 * ft2m\n",
    "sfr_slope = -0.0002\n",
    "cum_dist = np.zeros(sfr_nodes.shape, dtype=float)\n",
    "cum_dist[0] = 0.5 * sfr_lengths[0]\n",
    "for idx in range(1, sfr_nodes.shape[0]):\n",
    "    cum_dist[idx] = cum_dist[idx - 1] + 0.5 * (\n",
    "        sfr_lengths[idx - 1] + sfr_lengths[idx]\n",
    "    )\n",
    "sfr_bot = b0 + sfr_slope * cum_dist\n",
    "cum_dist[-1], sfr_lengths.sum(), sfr_lengths[-1], sfr_bot[-1]"
   ]
  },
  {
   "cell_type": "code",
   "execution_count": null,
   "id": "54161a95",
   "metadata": {},
   "outputs": [],
   "source": [
    "sfr_conn = []\n",
    "for idx, node in enumerate(sfr_nodes):\n",
    "    iconn = [node]\n",
    "    if idx > 0:\n",
    "        iconn.append(sfr_nodes[idx - 1])\n",
    "    if idx < sfr_nodes.shape[0] - 1:\n",
    "        iconn.append(-sfr_nodes[idx + 1])\n",
    "    sfr_conn.append(iconn)"
   ]
  },
  {
   "cell_type": "code",
   "execution_count": null,
   "id": "77c287dd",
   "metadata": {},
   "outputs": [],
   "source": [
    "# <rno> <cellid(ncelldim)> <rlen> <rwid> <rgrd> <rtp> <rbth> <rhk> <man> <ncon> <ustrf> <ndv>\n",
    "sfrpak_data = []\n",
    "for idx, (cellid, rlen, rtp) in enumerate(\n",
    "    zip(gwf_nodes, sfr_lengths, sfr_bot)\n",
    "):\n",
    "    sfr_plt_array[cellid] = 1\n",
    "    sfrpak_data.append(\n",
    "        (\n",
    "            idx,\n",
    "            (\n",
    "                0,\n",
    "                cellid,\n",
    "            ),\n",
    "            rlen,\n",
    "            sfr_width,\n",
    "            -sfr_slope,\n",
    "            rtp,\n",
    "            sfr_bedthick,\n",
    "            sfr_hk,\n",
    "            0.030,\n",
    "            (len(sfr_conn[idx]) - 1),\n",
    "            1.0,\n",
    "            0,\n",
    "        )\n",
    "    )\n",
    "sfrpak_data[-2:]"
   ]
  },
  {
   "cell_type": "code",
   "execution_count": null,
   "id": "5619f18a",
   "metadata": {},
   "outputs": [],
   "source": [
    "sfr_spd = [(node, \"rainfall\", rainfall) for node in sfr_nodes] + [\n",
    "    (node, \"evaporation\", evaporation) for node in sfr_nodes\n",
    "]"
   ]
  },
  {
   "cell_type": "markdown",
   "id": "0276e12c",
   "metadata": {},
   "source": [
    "LAK datasets"
   ]
  },
  {
   "cell_type": "code",
   "execution_count": null,
   "id": "c2a73a7c",
   "metadata": {},
   "outputs": [],
   "source": [
    "lak_length_conversion = 1.0  #3.28081\n",
    "lak_time_conversion = 86400.0"
   ]
  },
  {
   "cell_type": "code",
   "execution_count": null,
   "id": "ad23453f",
   "metadata": {},
   "outputs": [],
   "source": [
    "lake_ic = 11.3 * ft2m\n",
    "idx = np.where(lake_cells_vg == 1.0)\n",
    "\n",
    "lake_map = np.ones(voronoi_grid.ncpl, dtype=int) * -1\n",
    "lake_map[idx] = 0\n",
    "\n",
    "(idomain, lakpak_dict, lak_connections) = flopy.mf6.utils.get_lak_connections(\n",
    "    voronoi_grid,\n",
    "    lake_map,\n",
    "    bedleak=0.0013,\n",
    ")\n",
    "\n",
    "# add concentration to lake data as aux\n",
    "lakpak_data = [(0, lake_ic, lakpak_dict[0], 1.0)]\n",
    "lake_spd = [\n",
    "    (0, \"rainfall\", rainfall),\n",
    "    (0, \"evaporation\", evaporation),\n",
    "]"
   ]
  },
  {
   "cell_type": "code",
   "execution_count": null,
   "id": "bf565011",
   "metadata": {},
   "outputs": [],
   "source": [
    "lake_ic, lakpak_data"
   ]
  },
  {
   "cell_type": "code",
   "execution_count": null,
   "id": "565abf88",
   "metadata": {},
   "outputs": [],
   "source": [
    "lak_connections[0:10]"
   ]
  },
  {
   "cell_type": "markdown",
   "id": "e9f06a86",
   "metadata": {},
   "source": [
    "DRN datasets"
   ]
  },
  {
   "cell_type": "code",
   "execution_count": null,
   "id": "2021a616-22f8-4f8f-86af-18c4648de403",
   "metadata": {},
   "outputs": [],
   "source": [
    "areas = []\n",
    "for idx in range(voronoi_grid.ncpl):\n",
    "    vertices = np.array(voronoi_grid.get_cell_vertices(idx))\n",
    "    area = Polygon(vertices).area\n",
    "    areas.append(area)"
   ]
  },
  {
   "cell_type": "code",
   "execution_count": null,
   "id": "039aa8ea-218c-4bad-a2aa-1f971dd7ea0d",
   "metadata": {},
   "outputs": [],
   "source": [
    "0.1 * ft2m"
   ]
  },
  {
   "cell_type": "code",
   "execution_count": null,
   "id": "6631956f",
   "metadata": {},
   "outputs": [],
   "source": [
    "drn_kv = 0.1 * ft2m\n",
    "drn_depth = 1.0 * ft2m\n",
    "drn_spd = []\n",
    "for idx, elev in enumerate(top_vg):\n",
    "    if lake_cells_vg[idx] > 0:\n",
    "        cond = drn_kv * areas[idx] / drn_depth\n",
    "        drn_spd.append([(0, idx), elev, cond, -drn_depth])\n",
    "drn_spd[:10]"
   ]
  },
  {
   "cell_type": "markdown",
   "id": "977635ed",
   "metadata": {},
   "source": [
    "WEL datasets"
   ]
  },
  {
   "cell_type": "code",
   "execution_count": null,
   "id": "e9f04251-68ca-4c83-898e-d02ed7309c6a",
   "metadata": {},
   "outputs": [],
   "source": [
    "well_points"
   ]
  },
  {
   "cell_type": "code",
   "execution_count": null,
   "id": "8afe9a79-0734-4b0b-b571-53e90705c049",
   "metadata": {},
   "outputs": [],
   "source": [
    "well_loc = []\n",
    "for x, y in well_points:\n",
    "    well_loc.append(voronoi_grid.intersect(x, y))\n",
    "well_loc"
   ]
  },
  {
   "cell_type": "code",
   "execution_count": null,
   "id": "9130ce4d",
   "metadata": {},
   "outputs": [],
   "source": [
    "# first well is Virginia City well site 2\n",
    "# second well is Reilly well\n",
    "# third well is Virginia City well site 1\n",
    "# boundname = [\"VC2\", \"Reilly\", \"VC1\"]\n",
    "well_boundnames = [\"P3\", \"P1\", \"P2\"]\n",
    "rates = [-1900.0, -7600.0, -7600.0]\n",
    "welspd = [\n",
    "    [nlay - 1, cellid, rates[idx], well_boundnames[idx]]\n",
    "    for idx, cellid in enumerate(well_loc)\n",
    "]\n",
    "welspd"
   ]
  },
  {
   "cell_type": "code",
   "execution_count": null,
   "id": "882f5adb-4160-4d7d-9d9a-7e5ce345cd77",
   "metadata": {},
   "outputs": [],
   "source": [
    "p2_loc = tuple(welspd[-1][0:2])\n",
    "p2_loc"
   ]
  },
  {
   "cell_type": "code",
   "execution_count": null,
   "id": "69eed1ae-4aa9-418c-a87b-5c38abdb14eb",
   "metadata": {},
   "outputs": [],
   "source": [
    "p2_loc = tuple(welspd[-1][0:2])"
   ]
  },
  {
   "cell_type": "markdown",
   "id": "5a9bd0fa",
   "metadata": {},
   "source": [
    "## Plot a series of grids"
   ]
  },
  {
   "cell_type": "code",
   "execution_count": null,
   "id": "348dfc95",
   "metadata": {},
   "outputs": [],
   "source": [
    "def add_subdomain(ax, xll, xur, yll, yur, lw=0.75, color=\"black\", text=\"B\"):\n",
    "    x = [xll, xll, xur, xur, xll]\n",
    "    y = [yll, yur, yur, yll, yll]\n",
    "    ax.plot(x, y, lw=lw, color=color)\n",
    "    styles.add_text(\n",
    "        ax=ax,\n",
    "        text=text,\n",
    "        x=xll,\n",
    "        y=yur,\n",
    "        color=color,\n",
    "        transform=False,\n",
    "        ha=\"right\",\n",
    "        va=\"bottom\",\n",
    "        italic=False,\n",
    "    )"
   ]
  },
  {
   "cell_type": "code",
   "execution_count": null,
   "id": "608f222a",
   "metadata": {},
   "outputs": [],
   "source": [
    "def add_nodes(ax, xll, xur, yll, yur, edge=20.0, text_offset=2.0):\n",
    "    for idx, (x, y) in enumerate(zip(xcv, ycv)):\n",
    "        if x > xll and x < xur and y > yll and y < yur:\n",
    "            ax.plot(x, y, marker=\".\", markersize=4, color=\"black\")\n",
    "            if (\n",
    "                x > xll + edge\n",
    "                and x < xur - edge\n",
    "                and y > yll\n",
    "                and y < yur - edge\n",
    "            ):\n",
    "                xt = x + 4 * text_offset\n",
    "                yt = y + text_offset\n",
    "                styles.add_text(\n",
    "                    ax=ax,\n",
    "                    x=xt,\n",
    "                    y=yt,\n",
    "                    text=f\"{idx + 1}\",\n",
    "                    bold=False,\n",
    "                    transform=False,\n",
    "                    ha=\"center\",\n",
    "                    va=\"bottom\",\n",
    "                    fontsize=5,\n",
    "                )"
   ]
  },
  {
   "cell_type": "code",
   "execution_count": null,
   "id": "1da216cb-894b-4427-aaab-9fe2ef178556",
   "metadata": {},
   "outputs": [],
   "source": [
    "def set_ticklabels(\n",
    "    ax,\n",
    "    fmt=\"{:.1f}\",\n",
    "    skip_xticklabels=False,\n",
    "    skip_yticklabels=False,\n",
    "    skip_xlabel=False,\n",
    "    skip_ylabel=False,\n",
    "    xticks=None,\n",
    "    yticks=None,\n",
    "):\n",
    "    if xticks is None:\n",
    "        labels = [ax.get_xticks().tolist()]\n",
    "    else:\n",
    "        ax.set_xticks(xticks, labels=[str(value) for value in xticks])\n",
    "        labels = [xticks]\n",
    "\n",
    "    if yticks is None:\n",
    "        labels += [ax.get_yticks().tolist()]\n",
    "    else:\n",
    "        ax.set_yticks(yticks, labels=[str(value) for value in yticks])\n",
    "        labels += [yticks]\n",
    "\n",
    "    for idx, label in enumerate(labels):\n",
    "        for jdx, value in enumerate(label):\n",
    "            labels[idx][jdx] = fmt.format(float(value) / 1000.0)\n",
    "\n",
    "    if skip_xticklabels:\n",
    "        ax.set_xticklabels([])\n",
    "    else:\n",
    "        ax.xaxis.set_major_locator(mticker.FixedLocator(ax.get_xticks()))\n",
    "        ax.set_xticklabels(labels[0])\n",
    "\n",
    "    if skip_yticklabels:\n",
    "        ax.set_yticklabels([])\n",
    "    else:\n",
    "        ax.yaxis.set_major_locator(mticker.FixedLocator(ax.get_yticks()))\n",
    "        ax.set_yticklabels(labels[1])\n",
    "\n",
    "    if not skip_xlabel:\n",
    "        ax.set_xlabel(\"x position (km)\")\n",
    "    if not skip_ylabel:\n",
    "        ax.set_ylabel(\"y position (km)\")"
   ]
  },
  {
   "cell_type": "code",
   "execution_count": null,
   "id": "b6363aa9-3f15-49e8-bd59-3437f4782979",
   "metadata": {},
   "outputs": [],
   "source": [
    "def plot_feature_labels(ax):\n",
    "    styles.add_text(ax=ax, text=\"Blue\\nLake\", x=610, y=5000., transform=False, bold=False, ha=\"center\", va=\"center\")\n",
    "    styles.add_text(ax=ax, text=\"Straight River\", x=1425, y=1500., transform=False, bold=False, va=\"center\", ha=\"center\", rotation=90)\n",
    "    for xy, name in zip(well_points, well_boundnames):\n",
    "        styles.add_annotation(ax=ax, text=name, xy=xy, xytext=(-15, 10),\n",
    "                              bold=False,\n",
    "                              textcoords=\"offset points\",\n",
    "                              arrowprops=arrowprops,)\n",
    "\n",
    "    return"
   ]
  },
  {
   "cell_type": "markdown",
   "id": "68eb4065-2029-44a2-a849-fa03d7cfde07",
   "metadata": {},
   "source": [
    "A few coordinates for plotting"
   ]
  },
  {
   "cell_type": "code",
   "execution_count": null,
   "id": "9125cdbf-9b62-4912-ab00-3e0190bc5bbd",
   "metadata": {},
   "outputs": [],
   "source": [
    "xcv, ycv = voronoi_grid.xcellcenters, voronoi_grid.ycellcenters"
   ]
  },
  {
   "cell_type": "code",
   "execution_count": null,
   "id": "865b146d-6d19-4f47-b800-4463bb5567d4",
   "metadata": {},
   "outputs": [],
   "source": [
    "x0 = x1 = sg[:, 0].min()\n",
    "y0, y1 = sg[:, 1].max(), sg[:, 1].min()\n",
    "x0, y0, x1, y1"
   ]
  },
  {
   "cell_type": "markdown",
   "id": "ada3b1f8",
   "metadata": {},
   "source": [
    "## Build the Model"
   ]
  },
  {
   "cell_type": "code",
   "execution_count": null,
   "id": "e5cf46a8-e1b2-4732-9e5c-0d27f69badf6",
   "metadata": {},
   "outputs": [],
   "source": [
    "base_ws = \"./temp/mv_voronoi_SI/\"\n",
    "name = \"mv\"\n",
    "exe_name = \"mf6\"\n",
    "pertim = 365.25 * 30."
   ]
  },
  {
   "cell_type": "code",
   "execution_count": null,
   "id": "e32616e9-fb86-4041-8a86-e813a71ba466",
   "metadata": {},
   "outputs": [],
   "source": [
    "pertim"
   ]
  },
  {
   "cell_type": "markdown",
   "id": "03dc4759-5069-4de2-b7f7-638513ada583",
   "metadata": {},
   "source": [
    "### flow model"
   ]
  },
  {
   "cell_type": "code",
   "execution_count": null,
   "id": "67617eab",
   "metadata": {},
   "outputs": [],
   "source": [
    "ws = f\"{base_ws}/flow/\"\n",
    "sim = flopy.mf6.MFSimulation(sim_ws=ws, sim_name=name, exe_name=exe_name)\n",
    "tdis = flopy.mf6.ModflowTdis(sim, time_units=\"days\", perioddata=((pertim, 1, 1.0),))\n",
    "ims = flopy.mf6.ModflowIms(\n",
    "    sim,\n",
    "    print_option=\"all\",\n",
    "    complexity=\"simple\",\n",
    "    outer_dvclose=1e-3,\n",
    "    outer_maximum=200,\n",
    "    linear_acceleration=\"bicgstab\",\n",
    "    inner_dvclose=1e-4,\n",
    "    inner_maximum=200,\n",
    "    rcloserecord=\"1e-2 strict\",\n",
    ")\n",
    "gwf = flopy.mf6.ModflowGwf(\n",
    "    sim,\n",
    "    modelname=name,\n",
    "    save_flows=True,\n",
    "    newtonoptions=\"NEWTON UNDER_RELAXATION\",\n",
    ")\n",
    "dis = flopy.mf6.ModflowGwfdisv(\n",
    "    gwf,\n",
    "    length_units=\"meters\",\n",
    "    nlay=nlay,\n",
    "    ncpl=vor.ncpl,\n",
    "    nvert=vor.nverts,\n",
    "    top=top_vg,\n",
    "    botm=botm,\n",
    "    vertices=vor.get_disv_gridprops()[\"vertices\"],\n",
    "    cell2d=vor.get_disv_gridprops()[\"cell2d\"],\n",
    "    idomain=[1, 1, idomain_2, 1, 1, 1],\n",
    ")\n",
    "ic = flopy.mf6.ModflowGwfic(gwf, strt=11.0)\n",
    "npf = flopy.mf6.ModflowGwfnpf(\n",
    "    gwf,\n",
    "    xt3doptions=True,\n",
    "    save_specific_discharge=True,\n",
    "    save_saturation=True,\n",
    "    icelltype=[1, 0, 0, 0, 0, 0],\n",
    "    k=[kaq_vg, kaq_vg, kclay_vg, kaq_vg, kaq_vg, kaq_vg],\n",
    "    k33=[0.25 * kaq_vg, 0.25 * kaq_vg, kclay_vg, 0.25 * kaq_vg, 0.25 * kaq_vg, 0.25 * kaq_vg],\n",
    ")\n",
    "rch = flopy.mf6.ModflowGwfrcha(gwf, recharge=rainfall)\n",
    "evt = flopy.mf6.ModflowGwfevta(\n",
    "    gwf, surface=top_vg, rate=evaporation, depth=1.0\n",
    ")\n",
    "wel = flopy.mf6.ModflowGwfwel(gwf, stress_period_data=welspd, boundnames=True)\n",
    "drn = flopy.mf6.ModflowGwfdrn(\n",
    "    gwf,\n",
    "    auxiliary=[\"depth\"],\n",
    "    auxdepthname=\"depth\",\n",
    "    stress_period_data=drn_spd,\n",
    ")\n",
    "sfr = flopy.mf6.ModflowGwfsfr(\n",
    "    gwf,\n",
    "    print_stage=True,\n",
    "    print_flows=True,\n",
    "    unit_conversion=sfr_unit_conversion,\n",
    "    stage_filerecord=\"{}.sfr.stage.bin\".format(name),\n",
    "    budget_filerecord=\"{}.sfr.cbc\".format(name),\n",
    "    nreaches=len(sfrpak_data),\n",
    "    packagedata=sfrpak_data,\n",
    "    connectiondata=sfr_conn,\n",
    "    perioddata=sfr_spd,\n",
    ")\n",
    "lak = flopy.mf6.ModflowGwflak(\n",
    "    gwf,\n",
    "    pname=\"LAK-1\",\n",
    "    time_conversion=lak_time_conversion,\n",
    "    length_conversion=lak_length_conversion,\n",
    "    auxiliary=[\"concentration\"],\n",
    "    print_stage=True,\n",
    "    print_flows=True,\n",
    "    stage_filerecord=\"{}.lak.stage.bin\".format(name),\n",
    "    budget_filerecord=\"{}.lak.cbc\".format(name),\n",
    "    nlakes=1,\n",
    "    packagedata=lakpak_data,\n",
    "    connectiondata=lak_connections,\n",
    "    perioddata=lake_spd,\n",
    ")\n",
    "oc = flopy.mf6.ModflowGwfoc(\n",
    "    gwf,\n",
    "    head_filerecord=name + \".hds\",\n",
    "    budget_filerecord=name + \".cbc\",\n",
    "    saverecord=[(\"HEAD\", \"ALL\"), (\"BUDGET\", \"ALL\")],\n",
    "    printrecord=[(\"BUDGET\", \"ALL\")],\n",
    ")\n",
    "# write the model datasets\n",
    "sim.write_simulation()\n",
    "\n",
    "# run the model\n",
    "success = sim.run_simulation()"
   ]
  },
  {
   "cell_type": "markdown",
   "id": "14f7d964-f60a-4d56-8fba-d128f7970418",
   "metadata": {},
   "source": [
    "### Transport model"
   ]
  },
  {
   "cell_type": "code",
   "execution_count": null,
   "id": "d7729965-cd7d-4428-9f7a-d6c1cd33241c",
   "metadata": {},
   "outputs": [],
   "source": [
    "pertim, pertim / 360"
   ]
  },
  {
   "cell_type": "code",
   "execution_count": null,
   "id": "16367420-3d09-4725-afaa-6fddf03eab34",
   "metadata": {},
   "outputs": [],
   "source": [
    "ws = f\"{base_ws}/transport/\"\n",
    "simt = flopy.mf6.MFSimulation(sim_ws=ws, sim_name=name, exe_name=exe_name)\n",
    "tdis = flopy.mf6.ModflowTdis(simt, time_units=\"days\", perioddata=((pertim, pertim / (365.25 / 12.), 1.0),))\n",
    "ims = flopy.mf6.ModflowIms(\n",
    "    simt,\n",
    "    print_option=\"all\",\n",
    "    complexity=\"simple\",\n",
    "    outer_dvclose=1e-3,\n",
    "    outer_maximum=200,\n",
    "    linear_acceleration=\"bicgstab\",\n",
    "    inner_dvclose=1e-4,\n",
    "    inner_maximum=200,\n",
    "    rcloserecord=\"1e-2 strict\",\n",
    ")\n",
    "gwt = flopy.mf6.ModflowGwt(\n",
    "    simt,\n",
    "    modelname=name,\n",
    ")\n",
    "dis = flopy.mf6.ModflowGwtdisv(\n",
    "    gwt,\n",
    "    length_units=\"meters\",\n",
    "    nlay=nlay,\n",
    "    ncpl=vor.ncpl,\n",
    "    nvert=vor.nverts,\n",
    "    top=top_vg,\n",
    "    botm=botm,\n",
    "    vertices=vor.get_disv_gridprops()[\"vertices\"],\n",
    "    cell2d=vor.get_disv_gridprops()[\"cell2d\"],\n",
    "    idomain = [1, 1, idomain_2, 1, 1, 1],\n",
    "\n",
    ")\n",
    "ic = flopy.mf6.ModflowGwtic(gwt, strt=0.0)\n",
    "adv = flopy.mf6.ModflowGwtadv(\n",
    "    gwt, scheme=\"tvd\",\n",
    ")\n",
    "dsp = flopy.mf6.ModflowGwtdsp(gwt, diffc=0.0e-12, alh=75.0, ath1=7.5)\n",
    "mst = flopy.mf6.ModflowGwtmst(gwt, porosity=[0.2, 0.2, porosity_2, 0.2, 0.2, 0.2])\n",
    "pd = [\n",
    "    (\"GWFHEAD\", f\"../flow/{name}.hds\", None),\n",
    "    (\"GWFBUDGET\", f\"../flow/{name}.cbc\", None),\n",
    "]\n",
    "fmi = flopy.mf6.ModflowGwtfmi(gwt, packagedata=pd)\n",
    "sourcerecarray = [\n",
    "    (\"LAK-1\", \"AUX\", \"CONCENTRATION\"),\n",
    "]\n",
    "ssm = flopy.mf6.ModflowGwtssm(gwt, sources=sourcerecarray)\n",
    "\n",
    "oc = flopy.mf6.ModflowGwtoc(\n",
    "    gwt,\n",
    "    concentration_filerecord=f\"{name}.ucn\",\n",
    "    saverecord=[(\"CONCENTRATION\", \"LAST\"),],\n",
    "    printrecord=[(\"BUDGET\", \"ALL\")],\n",
    ")\n",
    "# write the model datasets\n",
    "simt.write_simulation()"
   ]
  },
  {
   "cell_type": "code",
   "execution_count": null,
   "id": "2d884424-3afc-4e1e-a639-f9da8355e93c",
   "metadata": {},
   "outputs": [],
   "source": [
    "# run the model\n",
    "success = simt.run_simulation(silent=True)"
   ]
  },
  {
   "cell_type": "code",
   "execution_count": null,
   "id": "71e2884c-0d10-44c0-b8da-883f2dcfb636",
   "metadata": {},
   "outputs": [],
   "source": [
    "success"
   ]
  },
  {
   "cell_type": "markdown",
   "id": "892dbb55-7e97-4a99-a811-64c04cbef91f",
   "metadata": {},
   "source": [
    "### process model results"
   ]
  },
  {
   "cell_type": "code",
   "execution_count": null,
   "id": "9dd186e0-1ab0-4f6d-bf87-6bc05d748aa5",
   "metadata": {},
   "outputs": [],
   "source": [
    "lake_stage = float(gwf.lak.output.stage().get_data().squeeze())\n",
    "lake_stage"
   ]
  },
  {
   "cell_type": "code",
   "execution_count": null,
   "id": "c17da331-3316-4b4f-8081-a9beec2cf5ab",
   "metadata": {},
   "outputs": [],
   "source": [
    "lake_stage_vg = np.full(vor.ncpl, 1e30, dtype=float)\n",
    "idx = (lake_stage > top_vg) & (lake_cells_vg > 0)\n",
    "lake_stage_vg[idx] = lake_stage "
   ]
  },
  {
   "cell_type": "code",
   "execution_count": null,
   "id": "9744465f-8fb2-4aad-a3af-a0cdbc378320",
   "metadata": {},
   "outputs": [],
   "source": [
    "head = gwf.output.head().get_data().squeeze()\n",
    "head.shape, head.min(), head.max()"
   ]
  },
  {
   "cell_type": "code",
   "execution_count": null,
   "id": "0f4a74f9-cab2-41ff-bdef-8af2645ae6d9",
   "metadata": {},
   "outputs": [],
   "source": [
    "cbc = gwf.output.budget()\n",
    "cbc.list_unique_records(), cbc.list_unique_packages()"
   ]
  },
  {
   "cell_type": "code",
   "execution_count": null,
   "id": "8b55dd8a-42a7-4c30-a029-6daec33c135a",
   "metadata": {},
   "outputs": [],
   "source": [
    "spdis = cbc.get_data(text=\"DATA-SPDIS\")[0]\n",
    "qx, qy, qz = flopy.utils.postprocessing.get_specific_discharge(\n",
    "    spdis, gwf, head=head\n",
    ")\n",
    "qx.shape"
   ]
  },
  {
   "cell_type": "code",
   "execution_count": null,
   "id": "b25efeff-7a2e-48c9-a139-827f38f2781e",
   "metadata": {},
   "outputs": [],
   "source": [
    "lake_q = cbc.get_data(text=\"LAK\", full3D=True)[0]\n",
    "lake_q.shape"
   ]
  },
  {
   "cell_type": "code",
   "execution_count": null,
   "id": "28cf4bf3-b249-4f48-ae48-7aa3f8e75c6a",
   "metadata": {},
   "outputs": [],
   "source": [
    "lake_q_dir = np.zeros(lake_q.shape, dtype=int)\n",
    "lake_q_dir[lake_q < 0.0] = -1\n",
    "lake_q_dir[lake_q > 0.0] = 1"
   ]
  },
  {
   "cell_type": "markdown",
   "id": "151635c9-354f-4e9a-8310-2ca400aac91f",
   "metadata": {},
   "source": [
    "#### plot top of model and results"
   ]
  },
  {
   "cell_type": "code",
   "execution_count": null,
   "id": "8beaea8c-0c8e-4ae8-ba1f-7cd9c66f6c96",
   "metadata": {},
   "outputs": [],
   "source": [
    "top_range = (0, 20)\n",
    "top_levels = np.arange(0, 25, 5)\n",
    "head_range = (-1, 5)\n",
    "head_levels = np.arange(1, head_range[1] + 1, 1)\n",
    "\n",
    "extent = gwf.modelgrid.extent\n",
    "xA = well_points[-1][0]\n",
    "yB = 10500 * ft2m\n",
    "xsA_pts = ((xA, extent[3]), (xA, extent[2])) \n",
    "xsB_pts = ((extent[0], yB), (extent[1], yB))\n",
    "xsA_line = ((xsA_pts[0][0], xsA_pts[1][0]), (xsA_pts[0][1], xsA_pts[1][1]))\n",
    "xsB_line = ((xsB_pts[0][0], xsB_pts[1][0]), (xsB_pts[0][1], xsB_pts[1][1]))"
   ]
  },
  {
   "cell_type": "code",
   "execution_count": null,
   "id": "2b112c70-6c3a-467d-bb93-12149f61456e",
   "metadata": {},
   "outputs": [],
   "source": [
    "xsA_line, xsA_pts"
   ]
  },
  {
   "cell_type": "markdown",
   "id": "a7fdd1ff-d451-4f27-b34c-d1f9cc39801d",
   "metadata": {},
   "source": [
    "Plot river mapping"
   ]
  },
  {
   "cell_type": "code",
   "execution_count": null,
   "id": "2664baa7",
   "metadata": {},
   "outputs": [],
   "source": [
    "# dv = 150.0 * ft2m\n",
    "dv = 100.0  # m\n",
    "cmap = \"viridis\"\n",
    "\n",
    "with styles.USGSMap():\n",
    "    fig = plt.figure(figsize=two_panel_figsize, constrained_layout=False)\n",
    "    gs = gridspec.GridSpec(ncols=10, nrows=24, figure=fig)\n",
    "    ax0 = fig.add_subplot(gs[:, :5])\n",
    "    ax2 = fig.add_subplot(gs[9:17, 5:])\n",
    "    ax1 = fig.add_subplot(gs[0:8, 5:], sharex=ax2)\n",
    "    # ax1.get_shared_x_axes().join(ax1, ax2)\n",
    "    ax3 = fig.add_subplot(gs[17:, 5:])\n",
    "\n",
    "    ax = ax0\n",
    "    ax.set_aspect(\"equal\", \"box\")\n",
    "    styles.heading(ax=ax, idx=0)\n",
    "    mm = flopy.plot.PlotMapView(modelgrid=voronoi_grid, ax=ax)\n",
    "    mm.plot_array(\n",
    "        kclay_loc_vg,\n",
    "        masked_values=[\n",
    "            0,\n",
    "        ],\n",
    "        cmap=clay_cmap,\n",
    "        alpha=0.5,\n",
    "    )\n",
    "    mm.plot_array(\n",
    "        lake_cells_vg,\n",
    "        masked_values=[\n",
    "            0,\n",
    "        ],\n",
    "        cmap=lake_cmap,\n",
    "        alpha=0.5,\n",
    "    )\n",
    "    mm.plot_grid(**grid_dict)\n",
    "    plot_river(ax)\n",
    "    plot_wells(ax, ms=3)\n",
    "    plot_feature_labels(ax)\n",
    "\n",
    "    # # cross-section lines\n",
    "    # dlabel = 400\n",
    "    # ax.plot(\n",
    "    #     xsA_line[0],\n",
    "    #     xsA_line[1],\n",
    "    #     [voronoi_grid.extent[3], 0],\n",
    "    #     lw=1,\n",
    "    #     ls=\":\",\n",
    "    #     color=\"red\",\n",
    "    # )\n",
    "    # styles.add_annotation(\n",
    "    #     ax=ax,\n",
    "    #     text=\"A\",\n",
    "    #     xy=xsA_pts[0],\n",
    "    #     xytext=(-15, -15),\n",
    "    #     textcoords=\"offset points\",\n",
    "    #     arrowprops=arrowprops,\n",
    "    #     bold=True,\n",
    "    #     color=\"red\",\n",
    "    # )\n",
    "    # styles.add_annotation(\n",
    "    #     ax=ax,\n",
    "    #     text=\"A'\",\n",
    "    #     xy=xsA_pts[1],\n",
    "    #     xytext=(-15, 10),\n",
    "    #     textcoords=\"offset points\",\n",
    "    #     arrowprops=arrowprops,\n",
    "    #     bold=True,\n",
    "    #     color=\"red\",\n",
    "    # )\n",
    "    # mm.ax.plot(\n",
    "    #     xsB_line[0],\n",
    "    #     xsB_line[1],\n",
    "    #     lw=1, \n",
    "    #     ls=\":\", \n",
    "    #     color=\"red\",\n",
    "    # )\n",
    "    # styles.add_annotation(\n",
    "    #     ax=ax,\n",
    "    #     text=\"B\",\n",
    "    #     xy=xsB_pts[0],\n",
    "    #     xytext=(15, 15),\n",
    "    #     textcoords=\"offset points\",\n",
    "    #     arrowprops=arrowprops,\n",
    "    #     bold=True,\n",
    "    #     color=\"red\",\n",
    "    # )\n",
    "    # styles.add_annotation(\n",
    "    #     ax=ax,\n",
    "    #     text=\"B'\",\n",
    "    #     xy=xsB_pts[1],\n",
    "    #     xytext=(-15, 10),\n",
    "    #     textcoords=\"offset points\",\n",
    "    #     arrowprops=arrowprops,\n",
    "    #     bold=True,\n",
    "    #     color=\"red\",\n",
    "    # )\n",
    "   \n",
    "    \n",
    "    xticks = np.arange(mm.extent[0], mm.extent[1], 1000.0).tolist()\n",
    "    yticks = np.arange(mm.extent[2], mm.extent[3], 1000.0).tolist()\n",
    "    set_ticklabels(ax, fmt=\"{:.0f}\", xticks=xticks, yticks=yticks)\n",
    "\n",
    "    ax = ax1\n",
    "    ax.set_aspect(\"equal\", \"box\")\n",
    "    plt.setp(ax.get_xticklabels(), visible=False)\n",
    "    styles.heading(ax=ax, idx=1)\n",
    "\n",
    "    xll, xur = x0 - dv, x1 + dv\n",
    "    yll, yur = y0 - 2.0 * dv, y0\n",
    "    xticks = np.arange(xll, xur + 100, 100.0).tolist()\n",
    "    yticks = np.arange(yll, yur + 100, 100.0).tolist()\n",
    "    add_subdomain(ax0, xll, xur, yll, yur, text=\"B\")\n",
    "\n",
    "    mm = flopy.plot.PlotMapView(\n",
    "        modelgrid=voronoi_grid, ax=ax, extent=(xll, xur, yll, yur)\n",
    "    )\n",
    "    mm.plot_array(\n",
    "        sfr_plt_array,\n",
    "        lw=0,\n",
    "        alpha=0.5,\n",
    "        masked_values=[0],\n",
    "        cmap=intersection_cmap,\n",
    "    )\n",
    "    mm.plot_grid(**grid_dict)\n",
    "    plot_river(ax)\n",
    "    add_nodes(ax, xll, xur, yll, yur)\n",
    "    set_ticklabels(ax, yticks=yticks, skip_xlabel=True)\n",
    "\n",
    "    ax = ax2\n",
    "    ax.set_aspect(\"equal\", \"box\")\n",
    "    styles.heading(ax=ax, idx=2)\n",
    "\n",
    "    xll, xur = x0 - dv, x1 + dv\n",
    "    yll, yur = y1, y1 + 2.0 * dv\n",
    "    yticks = np.arange(yll, yur + 100.0, 100.0).tolist()\n",
    "    add_subdomain(ax0, xll, xur, yll, yur, text=\"C\")\n",
    "\n",
    "    mm = flopy.plot.PlotMapView(\n",
    "        modelgrid=voronoi_grid, ax=ax, extent=(xll, xur, yll, yur)\n",
    "    )\n",
    "    mm.plot_array(\n",
    "        sfr_plt_array,\n",
    "        lw=0,\n",
    "        alpha=0.5,\n",
    "        masked_values=[0],\n",
    "        cmap=intersection_cmap,\n",
    "    )\n",
    "    mm.plot_grid(**grid_dict)\n",
    "    plot_river(ax)\n",
    "    add_nodes(ax, xll, xur, yll, yur)\n",
    "    set_ticklabels(ax, xticks=xticks, yticks=yticks)\n",
    "\n",
    "    # legend\n",
    "    ax = ax3\n",
    "    xy0 = (-100, -100)\n",
    "    ax.set_ylim(0, 1)\n",
    "    ax.set_axis_off()\n",
    "\n",
    "    # fake data to set up legend\n",
    "    ax.plot(\n",
    "        xy0,\n",
    "        xy0,\n",
    "        lw=0.0,\n",
    "        marker=\".\",\n",
    "        ms=5,\n",
    "        mfc=\"black\",\n",
    "        mec=\"none\",\n",
    "        mew=0.0,\n",
    "        label=\"Cell centroid\",\n",
    "    )\n",
    "    ax.plot(\n",
    "        xy0,\n",
    "        xy0,\n",
    "        lw=0.0,\n",
    "        marker=\".\",\n",
    "        ms=5,\n",
    "        mfc=\"red\",\n",
    "        mec=\"none\",\n",
    "        mew=0.0,\n",
    "        label=\"Well\",\n",
    "    )\n",
    "    ax.plot(\n",
    "        xy0,\n",
    "        xy0,\n",
    "        lw=0.0,\n",
    "        marker=\"s\",\n",
    "        mfc=\"cyan\",\n",
    "        mec=\"black\",\n",
    "        mew=0.5,\n",
    "        alpha=0.5,\n",
    "        label=\"Lake\",\n",
    "    )\n",
    "    ax.plot(\n",
    "        xy0,\n",
    "        xy0,\n",
    "        lw=0.0,\n",
    "        marker=\"s\",\n",
    "        mfc=\"brown\",\n",
    "        mec=\"black\",\n",
    "        mew=0.5,\n",
    "        alpha=0.5,\n",
    "        label=\"Confining unit\",\n",
    "    )\n",
    "    ax.axhline(xy0[0], **river_dict, label=\"River\")\n",
    "    ax.plot(\n",
    "        xy0,\n",
    "        xy0,\n",
    "        lw=0.0,\n",
    "        marker=\"s\",\n",
    "        mfc=intersection_rgba,\n",
    "        mec=\"black\",\n",
    "        mew=0.5,\n",
    "        alpha=0.5,\n",
    "        label=\"River cells\",\n",
    "    )\n",
    "    # ax.axhline(xy0[0], lw=1, ls=\":\", color=\"red\", label=\"Cross-section\\nline\")\n",
    "    styles.graph_legend(\n",
    "        ax,\n",
    "        ncol=2,\n",
    "        loc=\"lower center\",\n",
    "        labelspacing=0.1,\n",
    "        columnspacing=0.6,\n",
    "        handletextpad=0.3,\n",
    "    )\n",
    "\n",
    "    # save the figure\n",
    "    fpth = \"../doc/figures/mv_voronoi_river_discretization.png\"\n",
    "    plt.savefig(fpth, dpi=300);"
   ]
  },
  {
   "cell_type": "code",
   "execution_count": null,
   "id": "5cd012f9-47a1-4d8d-8892-5db7045dd302",
   "metadata": {
    "tags": []
   },
   "outputs": [],
   "source": [
    "xlims = (voronoi_grid.extent[0], voronoi_grid.extent[1])\n",
    "xticks = np.arange(\n",
    "    xlims[0], xlims[1], 1000.0\n",
    ").tolist()\n",
    "ylims = (voronoi_grid.extent[2], voronoi_grid.extent[3])\n",
    "yticks = np.arange(\n",
    "    ylims[0], ylims[1], 1000.0\n",
    ").tolist()\n",
    "xlims, xticks, ylims, yticks\n",
    "\n",
    "p2_loc = tuple(welspd[-1][0:2])\n",
    "p2_z = gwf.modelgrid.zcellcenters[p2_loc]"
   ]
  },
  {
   "cell_type": "code",
   "execution_count": null,
   "id": "0887b5c3-4470-4f07-bc53-49960f837bbf",
   "metadata": {},
   "outputs": [],
   "source": [
    "with styles.USGSMap():\n",
    "    fig = plt.figure(figsize=two_panel_figsize, constrained_layout=True)\n",
    "    gs = gridspec.GridSpec(ncols=2, nrows=24, figure=fig)\n",
    "    ax0 = fig.add_subplot(gs[:22, 0])\n",
    "    ax1 = fig.add_subplot(gs[:22, 1])\n",
    "    ax2 = fig.add_subplot(gs[22:, :])\n",
    "\n",
    "    for ax in (ax0, ax1):\n",
    "        ax.set_xlim(xlims)\n",
    "        # ax.set_xticks(xticks)\n",
    "        ax.set_ylim(ylims)\n",
    "        # ax.set_yticks(yticks)\n",
    "        ax.set_aspect(\"equal\", \"box\")\n",
    "\n",
    "    # topography\n",
    "    ax = ax0\n",
    "    styles.heading(ax=ax, idx=0)\n",
    "    mm = flopy.plot.PlotMapView(\n",
    "        model=gwf,\n",
    "        ax=ax,\n",
    "        extent=voronoi_grid.extent,\n",
    "    )\n",
    "    cb = mm.plot_array(top_vg, vmin=top_range[0], vmax=top_range[1])\n",
    "    mm.plot_grid(**grid_dict)\n",
    "    plot_wells(ax=ax, ms=3)\n",
    "    plot_river(ax=ax)\n",
    "    plot_lake(ax=ax)\n",
    "    cs = mm.contour_array(\n",
    "        top_vg,\n",
    "        **mv_contour_dict,\n",
    "        levels=top_levels,\n",
    "    )\n",
    "    ax.clabel(\n",
    "        cs,\n",
    "        **clabel_dict,\n",
    "    )\n",
    "    set_ticklabels(ax, fmt=\"{:.0f}\")\n",
    "\n",
    "    # topography colorbar\n",
    "    cbar = plt.colorbar(cb, ax=ax, orientation=\"horizontal\", shrink=0.65)\n",
    "    cbar.ax.tick_params(\n",
    "        labelsize=5,\n",
    "        labelcolor=\"black\",\n",
    "        color=\"black\",\n",
    "        length=6,\n",
    "        pad=2,\n",
    "    )\n",
    "    cbar.ax.set_title(\n",
    "        \"Elevation (m)\",\n",
    "        pad=2.5,\n",
    "        loc=\"left\",\n",
    "        fontdict=font_dict,\n",
    "    )\n",
    "\n",
    "    # cross-section lines\n",
    "    dlabel = 400\n",
    "    ax.plot(\n",
    "        # [7750.0 * ft2m, 7750.0 * ft2m],\n",
    "        xsA_line[0],\n",
    "        xsA_line[1],\n",
    "        [voronoi_grid.extent[3], 0],\n",
    "        lw=1,\n",
    "        ls=\":\",\n",
    "        color=\"red\",\n",
    "    )\n",
    "    styles.add_annotation(\n",
    "        ax=ax,\n",
    "        text=\"A\",\n",
    "        # xy=(7750 * ft2m, voronoi_grid.extent[3]),\n",
    "        xy=xsA_pts[0],\n",
    "        xytext=(-15, -15),\n",
    "        textcoords=\"offset points\",\n",
    "        arrowprops=arrowprops,\n",
    "        bold=True,\n",
    "        color=\"red\",\n",
    "    )\n",
    "    styles.add_annotation(\n",
    "        ax=ax,\n",
    "        text=\"A'\",\n",
    "        # xy=(7750 * ft2m, 0),\n",
    "        xy=xsA_pts[1],\n",
    "        xytext=(15, 10),\n",
    "        textcoords=\"offset points\",\n",
    "        arrowprops=arrowprops,\n",
    "        bold=True,\n",
    "        color=\"red\",\n",
    "    )\n",
    "    mm.ax.plot(\n",
    "        # [0, voronoi_grid.extent[1]], [10500 * ft2m, 10500 * ft2m], \n",
    "        xsB_line[0],\n",
    "        xsB_line[1],\n",
    "        lw=1, \n",
    "        ls=\":\", \n",
    "        color=\"red\",\n",
    "    )\n",
    "    styles.add_annotation(\n",
    "        ax=ax,\n",
    "        text=\"B\",\n",
    "        # xy=(0, 10500 * ft2m),\n",
    "        xy=xsB_pts[0],\n",
    "        xytext=(15, 15),\n",
    "        textcoords=\"offset points\",\n",
    "        arrowprops=arrowprops,\n",
    "        bold=True,\n",
    "        color=\"red\",\n",
    "    )\n",
    "    styles.add_annotation(\n",
    "        ax=ax,\n",
    "        text=\"B'\",\n",
    "        # xy=(voronoi_grid.extent[1], 10500 * ft2m),\n",
    "        xy=xsB_pts[1],\n",
    "        xytext=(-15, 10),\n",
    "        textcoords=\"offset points\",\n",
    "        arrowprops=arrowprops,\n",
    "        bold=True,\n",
    "        color=\"red\",\n",
    "    )\n",
    "\n",
    "    # head\n",
    "    ax = ax1\n",
    "    styles.heading(ax=ax, idx=1)\n",
    "    mm = flopy.plot.PlotMapView(\n",
    "        model=gwf,\n",
    "        ax=ax,\n",
    "        extent=voronoi_grid.extent,\n",
    "    )\n",
    "    cb = mm.plot_array(head, vmin=head_range[0], vmax=head_range[1])\n",
    "    # lp = mm.plot_array(lake_q_dir, masked_values=[0], cmap=drain_cmap, edgecolor=\"none\", vmin=0.5, vmax=2.5,)\n",
    "\n",
    "    mm.plot_grid(**grid_dict)\n",
    "    q = mm.plot_vector(qx, qy, normalize=False)\n",
    "    qk = plt.quiverkey(\n",
    "        q,\n",
    "        0.97,\n",
    "        1.02,\n",
    "        1,\n",
    "        label=\"1 m/d\",\n",
    "        labelpos=\"W\",\n",
    "        labelcolor=\"black\",\n",
    "        fontproperties={\"size\": 8},\n",
    "    )\n",
    "\n",
    "    plot_wells(ax=ax, ms=3)\n",
    "    plot_river(ax=ax)\n",
    "    plot_lake(ax=ax)\n",
    "    cs = mm.contour_array(\n",
    "        head,\n",
    "        **mv_contour_dict,\n",
    "        levels=head_levels,\n",
    "    )\n",
    "    ax.clabel(\n",
    "        cs,\n",
    "        **clabel_dict,\n",
    "    )\n",
    "    set_ticklabels(ax, fmt=\"{:.0f}\", skip_yticklabels=True, skip_ylabel=True)\n",
    "\n",
    "    # head colorbar\n",
    "    cbar = plt.colorbar(cb, ax=ax, orientation=\"horizontal\", shrink=0.65)\n",
    "    cbar.ax.tick_params(\n",
    "        labelsize=5,\n",
    "        labelcolor=\"black\",\n",
    "        color=\"black\",\n",
    "        length=6,\n",
    "        pad=2,\n",
    "    )\n",
    "    cbar.ax.set_title(\n",
    "        \"Head (m)\",\n",
    "        pad=2.5,\n",
    "        loc=\"left\",\n",
    "        fontdict=font_dict,\n",
    "    )\n",
    "\n",
    "    # legend\n",
    "    ax = ax2\n",
    "    xy0 = (-100, -100)\n",
    "    ax.set_xlim(0, 1)\n",
    "    ax.set_ylim(0, 1)\n",
    "    ax.set_axis_off()\n",
    "\n",
    "    # fake data to set up legend\n",
    "    ax.plot(\n",
    "        xy0,\n",
    "        xy0,\n",
    "        lw=0.0,\n",
    "        marker=\".\",\n",
    "        ms=5,\n",
    "        mfc=\"red\",\n",
    "        mec=\"none\",\n",
    "        mew=0.0,\n",
    "        label=\"Well\",\n",
    "    )\n",
    "    ax.axhline(xy0[0], color=\"cyan\", lw=0.5, label=\"Lake\")\n",
    "    ax.axhline(xy0[0], **river_dict, label=\"River\")\n",
    "    ax.axhline(xy0[0], lw=1, ls=\":\", color=\"red\", label=\"Cross-section line\")\n",
    "    ax.axhline(xy0[0], **contour_label_dict, label=\"Contour line (m)\")\n",
    "    styles.graph_legend(\n",
    "        ax,\n",
    "        ncol=5,\n",
    "        loc=\"lower center\",\n",
    "        labelspacing=0.1,\n",
    "        columnspacing=0.6,\n",
    "        handletextpad=0.3,\n",
    "    )\n",
    "\n",
    "    fpth = \"../doc/figures/mv_voronoi_map.png\"\n",
    "    plt.savefig(fpth, dpi=300);"
   ]
  },
  {
   "cell_type": "code",
   "execution_count": null,
   "id": "5491bc27-5df5-49ce-bb3c-c72b2bc29638",
   "metadata": {},
   "outputs": [],
   "source": [
    "ylim = (-80, 30)\n",
    "with styles.USGSMap():\n",
    "    fig = plt.figure(figsize=one_panel_figsize, constrained_layout=True)\n",
    "    gs = gridspec.GridSpec(ncols=1, nrows=21, figure=fig)\n",
    "    ax0 = fig.add_subplot(gs[:11, :])\n",
    "    ax1 = fig.add_subplot(gs[11:22, :])\n",
    "\n",
    "    # cross-section A-A'\n",
    "    ax = ax0\n",
    "    styles.heading(ax, idx=0)\n",
    "    fx = flopy.plot.PlotCrossSection(\n",
    "        model=gwf,\n",
    "        ax=ax,\n",
    "        line={\n",
    "            \"line\": xsA_pts\n",
    "        },\n",
    "    )\n",
    "    fx.plot_array(head, head=head, vmin=head_range[0], vmax=head_range[1])\n",
    "    fx.plot_grid(**grid_dict)\n",
    "    \n",
    "    fxl = flopy.plot.PlotCrossSection(\n",
    "        modelgrid=lake_vg_grid,\n",
    "        ax=ax,\n",
    "        line={\n",
    "            \"line\": xsA_pts\n",
    "        },\n",
    "    )\n",
    "    fxl.plot_array(lake_stage_vg, head=lake_stage_vg, cmap=lake_cmap, masked_values=[1e30], edgecolor=\"none\")\n",
    "        \n",
    "\n",
    "    ax.set_ylim(ylim)\n",
    "    xs_xticks = np.arange(0, ax.get_xlim()[1], 1000)\n",
    "    ax.set_xticks(xs_xticks, labels=[f\"{x/1000:.0f}\" for x in xs_xticks])\n",
    "    ax.set_xlabel(\"Cross-section distance (km)\")\n",
    "    ax.set_ylabel(\"Elevation (m)\")\n",
    "\n",
    "    # annotation\n",
    "    styles.add_annotation(\n",
    "        ax=ax,\n",
    "        text=\"A\",\n",
    "        xy=(0, 6),\n",
    "        xytext=(8, 4),\n",
    "        textcoords=\"offset points\",\n",
    "        arrowprops=arrowprops,\n",
    "        bold=True,\n",
    "        color=\"red\",\n",
    "    )\n",
    "    styles.add_annotation(\n",
    "        ax=ax,\n",
    "        text=\"A'\",\n",
    "        xy=(ax.get_xlim()[1], 3.),\n",
    "        xytext=(-15, 12),\n",
    "        textcoords=\"offset points\",\n",
    "        arrowprops=arrowprops,\n",
    "        bold=True,\n",
    "        color=\"red\",\n",
    "    )\n",
    "    styles.add_annotation(\n",
    "        ax=ax,\n",
    "        text=well_boundnames[-1],\n",
    "        # xy=(ax.get_xlim()[1] - 2700 * ft2m, -150 * ft2m),\n",
    "        xy=(ax.get_xlim()[1] - well_points[-1][1], p2_z),\n",
    "        xytext=(-25, 15),\n",
    "        textcoords=\"offset points\",\n",
    "        arrowprops=arrowprops,\n",
    "        bold=True,\n",
    "        color=\"red\",\n",
    "    )\n",
    "    styles.add_annotation(\n",
    "        ax=ax,\n",
    "        text=\"Blue Lake\",\n",
    "        # xy=(ax.get_xlim()[1] - 2700 * ft2m, -150 * ft2m),\n",
    "        xy=(1500, lake_stage),\n",
    "        xytext=(-25, 15),\n",
    "        textcoords=\"offset points\",\n",
    "        arrowprops=arrowprops,\n",
    "        bold=True,\n",
    "        color=\"black\",\n",
    "    )\n",
    "\n",
    "    # cross-section B-B'\n",
    "    ax = ax1\n",
    "    styles.heading(ax, idx=1)\n",
    "    fx = flopy.plot.PlotCrossSection(\n",
    "        model=gwf,\n",
    "        ax=ax,\n",
    "        # line={\"line\": [(0, 10500 * ft2m), (12500 * ft2m, 10500 * ft2m)]},\n",
    "        line= {\"line\": xsB_pts},\n",
    "    )\n",
    "    hv = fx.plot_array(head, head=head, vmin=head_range[0], vmax=head_range[1])\n",
    "    fx.plot_grid(**grid_dict)\n",
    "\n",
    "    ax.set_ylim(ylim)\n",
    "    xs_xticks = np.arange(0, ax.get_xlim()[1], 1000)\n",
    "    ax.set_xticks(xs_xticks, labels=[f\"{x/1000:.0f}\" for x in xs_xticks])\n",
    "    ax.set_xlabel(\"Cross-section distance (km)\")\n",
    "    ax.set_ylabel(\"Elevation (m)\")\n",
    "\n",
    "    # annotation\n",
    "    styles.add_annotation(\n",
    "        ax=ax,\n",
    "        text=\"B\",\n",
    "        xy=(0, 43 * ft2m),\n",
    "        xytext=(12, 8),\n",
    "        textcoords=\"offset points\",\n",
    "        arrowprops=arrowprops,\n",
    "        bold=True,\n",
    "        color=\"red\",\n",
    "    )\n",
    "    styles.add_annotation(\n",
    "        ax=ax,\n",
    "        text=\"B'\",\n",
    "        xy=(ax.get_xlim()[1], 12),\n",
    "        xytext=(-16, 10),\n",
    "        textcoords=\"offset points\",\n",
    "        arrowprops=arrowprops,\n",
    "        bold=True,\n",
    "        color=\"red\",\n",
    "    )\n",
    "\n",
    "    # head colorbar\n",
    "    cbar = plt.colorbar(hv, ax=ax, orientation=\"horizontal\", shrink=0.65)\n",
    "    cbar.ax.tick_params(\n",
    "        labelsize=5,\n",
    "        labelcolor=\"black\",\n",
    "        color=\"black\",\n",
    "        length=6,\n",
    "        pad=2,\n",
    "    )\n",
    "    cbar.ax.set_title(\n",
    "        \"Head (m)\",\n",
    "        pad=2.5,\n",
    "        loc=\"left\",\n",
    "        fontdict=font_dict,\n",
    "    )\n",
    "\n",
    "    fig.align_labels()\n",
    "\n",
    "    fpth = \"../doc/figures/mv_voronoi_xsection.png\"\n",
    "    plt.savefig(fpth, dpi=300);"
   ]
  },
  {
   "cell_type": "code",
   "execution_count": null,
   "id": "f8ec4024-9961-4eb7-9c1f-3dce78ff0a6e",
   "metadata": {},
   "outputs": [],
   "source": [
    "# fig, axs = plt.subplots(nrows=2, ncols=3, sharex=True, sharey=True,\n",
    "#         figsize=two_panel_figsize,\n",
    "#         constrained_layout=True,\n",
    "#         subplot_kw=dict(aspect=\"equal\"),)\n",
    "\n",
    "with styles.USGSMap():\n",
    "    fig = plt.figure(figsize=six_panel_figsize, constrained_layout=True)\n",
    "    gs = gridspec.GridSpec(ncols=3, nrows=24, figure=fig)\n",
    "    ax0 = fig.add_subplot(gs[:11, 0])\n",
    "    ax1 = fig.add_subplot(gs[:11, 1])\n",
    "    ax2 = fig.add_subplot(gs[:11, 2])\n",
    "    ax3 = fig.add_subplot(gs[11:22, 0])\n",
    "    ax4 = fig.add_subplot(gs[11:22, 1])\n",
    "    ax5 = fig.add_subplot(gs[11:22, 2])\n",
    "    ax6 = fig.add_subplot(gs[22:, :])\n",
    "\n",
    "    axs = [ax0, ax1, ax2, ax3, ax4, ax5]\n",
    "\n",
    "    for ax in axs:\n",
    "        ax.set_xlim(xlims)\n",
    "        ax.set_xticks(xticks)\n",
    "        ax.set_ylim(ylims)\n",
    "        ax.set_yticks(yticks)\n",
    "        ax.set_aspect(\"equal\", \"box\")\n",
    "\n",
    "    skip_x = [True, True, True, False, False, False]\n",
    "    skip_y = [False, True, True, False, True, True]\n",
    "\n",
    "    times = gwt.output.concentration().get_times()\n",
    "    conc = gwt.output.concentration().get_data(totim=times[-1])\n",
    "\n",
    "    for k in range(6):\n",
    "        ax = axs[k]\n",
    "        ax.set_title(f\"Layer {k + 1}\")\n",
    "        mm = flopy.plot.PlotMapView(\n",
    "            model=gwt,\n",
    "            ax=ax,\n",
    "            extent=gwt.modelgrid.extent,\n",
    "            layer=k,\n",
    "        )\n",
    "        mm.plot_grid(**grid_dict)\n",
    "\n",
    "        #plot confining unit\n",
    "        if k == 2:\n",
    "            mm.plot_array(\n",
    "                kclay_loc_vg,\n",
    "                masked_values=[\n",
    "                    0,\n",
    "                ],\n",
    "                cmap=clay_cmap,\n",
    "                alpha=0.5,\n",
    "            )\n",
    "        plot_wells(ax=ax, ms=3)\n",
    "        plot_river(ax=ax)\n",
    "        plot_lake(ax=ax)\n",
    "        cs = mm.contour_array(conc, \n",
    "                              masked_values=[0], \n",
    "                              levels=[0.001, 0.01, 0.1, 1], \n",
    "                              **mv_contour_dict)\n",
    "\n",
    "        ax.clabel(\n",
    "            cs,\n",
    "            inline=True,\n",
    "            fmt=\"%1.3g\",\n",
    "            fontsize=6,\n",
    "            inline_spacing=0.5,\n",
    "        )\n",
    "        set_ticklabels(ax, fmt=\"{:.0f}\", skip_yticklabels=skip_y[k], skip_ylabel=skip_y[k], skip_xticklabels=skip_x[k], skip_xlabel=skip_x[k])\n",
    "        styles.heading(ax, idx=k)\n",
    "\n",
    "\n",
    "    # legend\n",
    "    ax = ax6\n",
    "    xy0 = (-100, -100)\n",
    "    ax.set_xlim(0, 1)\n",
    "    ax.set_ylim(0, 1)\n",
    "    ax.set_axis_off()\n",
    "\n",
    "    # fake data to set up legend\n",
    "    ax.plot(\n",
    "        xy0,\n",
    "        xy0,\n",
    "        lw=0.0,\n",
    "        marker=\".\",\n",
    "        ms=5,\n",
    "        mfc=\"red\",\n",
    "        mec=\"none\",\n",
    "        mew=0.0,\n",
    "        label=\"Well\",\n",
    "    )\n",
    "    ax.axhline(xy0[0], color=\"cyan\", lw=0.5, label=\"Lake\")\n",
    "    ax.axhline(xy0[0], **river_dict, label=\"River\")\n",
    "    ax.axhline(xy0[0], **contour_label_dict, label=\"Concentration (mg/L)\")\n",
    "    ax.plot(\n",
    "        xy0,\n",
    "        xy0,\n",
    "        lw=0.0,\n",
    "        marker=\"s\",\n",
    "        mfc=\"brown\",\n",
    "        mec=\"black\",\n",
    "        mew=0.5,\n",
    "        alpha=0.5,\n",
    "        label=\"Confining unit\",\n",
    "    )\n",
    "    styles.graph_legend(\n",
    "        ax,\n",
    "        ncol=5,\n",
    "        loc=\"lower center\",\n",
    "        labelspacing=0.1,\n",
    "        columnspacing=0.6,\n",
    "        handletextpad=0.3,\n",
    "        frameon=False,\n",
    "    )\n",
    "\n",
    "    fpth = \"../doc/figures/mv_voronoi_map_concentration.png\"\n",
    "    plt.savefig(fpth, dpi=300);    \n",
    "    "
   ]
  },
  {
   "cell_type": "code",
   "execution_count": null,
   "id": "a651a908-b985-4a01-a659-ac14e11cffb8",
   "metadata": {},
   "outputs": [],
   "source": [
    "gwf.sfr.output.methods()"
   ]
  },
  {
   "cell_type": "code",
   "execution_count": null,
   "id": "6f60ae31-33b9-42ed-8d58-f33979acc1c3",
   "metadata": {},
   "outputs": [],
   "source": [
    "gwf.lak.output.methods()"
   ]
  },
  {
   "cell_type": "code",
   "execution_count": null,
   "id": "e1b58803-ce0b-4d61-b5c6-88f17d7bd135",
   "metadata": {},
   "outputs": [],
   "source": [
    "gwt.output.methods()"
   ]
  },
  {
   "cell_type": "code",
   "execution_count": null,
   "id": "7da430f7-3f58-4b0a-9a9e-26e66bfa0c28",
   "metadata": {},
   "outputs": [],
   "source": [
    "gwf.output.list().get_data(totim=10958, incremental=True)"
   ]
  },
  {
   "cell_type": "code",
   "execution_count": null,
   "id": "5523f19c-267d-4b02-a691-95ae09f33ed0",
   "metadata": {},
   "outputs": [],
   "source": [
    "gwf.output.budget().list_unique_records()"
   ]
  },
  {
   "cell_type": "code",
   "execution_count": null,
   "id": "c2172c17-9947-4104-89cf-05fc56b17045",
   "metadata": {},
   "outputs": [],
   "source": []
  }
 ],
 "metadata": {
  "kernelspec": {
   "display_name": "Python 3 (ipykernel)",
   "language": "python",
   "name": "python3"
  },
  "language_info": {
   "codemirror_mode": {
    "name": "ipython",
    "version": 3
   },
   "file_extension": ".py",
   "mimetype": "text/x-python",
   "name": "python",
   "nbconvert_exporter": "python",
   "pygments_lexer": "ipython3",
   "version": "3.9.13"
  }
 },
 "nbformat": 4,
 "nbformat_minor": 5
}
