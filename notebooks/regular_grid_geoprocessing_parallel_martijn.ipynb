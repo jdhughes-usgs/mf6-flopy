{
 "cells": [
  {
   "cell_type": "markdown",
   "metadata": {},
   "source": [
    "# FloPy Model Grids - Geoprocessing"
   ]
  },
  {
   "cell_type": "markdown",
   "metadata": {},
   "source": [
    "## Notebook Setup"
   ]
  },
  {
   "cell_type": "code",
   "execution_count": null,
   "metadata": {},
   "outputs": [],
   "source": [
    "import os\n",
    "import sys\n",
    "import shutil\n",
    "import numpy as np\n",
    "import matplotlib as mpl\n",
    "import matplotlib.pyplot as plt\n",
    "import matplotlib.gridspec as gridspec\n",
    "from shapely.geometry import Polygon, LineString\n",
    "import flopy\n",
    "from flopy.discretization import StructuredGrid\n",
    "import flopy.plot.styles as styles"
   ]
  },
  {
   "cell_type": "code",
   "execution_count": null,
   "metadata": {},
   "outputs": [],
   "source": [
    "# import all plot style information from defaults.py\n",
    "from defaults import *"
   ]
  },
  {
   "cell_type": "code",
   "execution_count": null,
   "metadata": {},
   "outputs": [],
   "source": [
    "from model_splitter import Mf6Splitter"
   ]
  },
  {
   "cell_type": "code",
   "execution_count": null,
   "metadata": {},
   "outputs": [],
   "source": [
    "fine_topo = flopy.utils.Raster.load(\"./grid_data/fine_topo.asc\")"
   ]
  },
  {
   "cell_type": "code",
   "execution_count": null,
   "metadata": {},
   "outputs": [],
   "source": [
    "fine_topo.plot()"
   ]
  },
  {
   "cell_type": "code",
   "execution_count": null,
   "metadata": {},
   "outputs": [],
   "source": [
    "Lx = 180000\n",
    "Ly = 100000\n",
    "extent = (0, Lx, 0, Ly)\n",
    "dv0 = 5.0\n",
    "levels = np.arange(10, 110, 10)\n",
    "vmin, vmax = 0.0, 100.0"
   ]
  },
  {
   "cell_type": "code",
   "execution_count": null,
   "metadata": {},
   "outputs": [],
   "source": [
    "temp_path = \"./temp\"\n",
    "if not os.path.isdir(temp_path):\n",
    "    os.mkdir(temp_path)"
   ]
  },
  {
   "cell_type": "code",
   "execution_count": null,
   "metadata": {},
   "outputs": [],
   "source": [
    "figwidth = 180  # 90 # mm\n",
    "figwidth = figwidth / 10 / 2.54  # inches\n",
    "figheight = figwidth\n",
    "figsize = (figwidth, figheight)"
   ]
  },
  {
   "cell_type": "markdown",
   "metadata": {},
   "source": [
    "# Basin Example"
   ]
  },
  {
   "cell_type": "code",
   "execution_count": null,
   "metadata": {},
   "outputs": [],
   "source": [
    "boundary_polygon = string2geom(boundary)\n",
    "print(\"len boundary\", len(boundary_polygon))\n",
    "bp = np.array(boundary_polygon)\n",
    "\n",
    "sgs = [\n",
    "    string2geom(sg) for sg in (streamseg1, streamseg2, streamseg3, streamseg4)\n",
    "]\n",
    "\n",
    "fig = plt.figure(figsize=(15, 10))\n",
    "ax = fig.add_subplot()\n",
    "ax.set_aspect(\"equal\")\n",
    "\n",
    "riv_colors = (\"blue\", \"cyan\", \"green\", \"orange\", \"red\")\n",
    "\n",
    "ax.plot(bp[:, 0], bp[:, 1], \"ro-\")\n",
    "for idx, sg in enumerate(sgs):\n",
    "    print(\"Len segment: \", len(sg))\n",
    "    sa = np.array(sg)\n",
    "    ax.plot(sa[:, 0], sa[:, 1], color=riv_colors[idx], lw=0.75, marker=\"o\")"
   ]
  },
  {
   "cell_type": "code",
   "execution_count": null,
   "metadata": {},
   "outputs": [],
   "source": [
    "def set_idomain(grid, boundary):\n",
    "    from flopy.utils.gridintersect import GridIntersect\n",
    "    from shapely.geometry import Polygon\n",
    "\n",
    "    ix = GridIntersect(grid, method=\"vertex\", rtree=True)\n",
    "    result = ix.intersect(Polygon(boundary))\n",
    "    idx = [coords for coords in result.cellids]\n",
    "    idx = np.array(idx, dtype=int)\n",
    "    nr = idx.shape[0]\n",
    "    if idx.ndim == 1:\n",
    "        idx = idx.reshape((nr, 1))\n",
    "    print(idx.shape, idx.ndim)\n",
    "    idx = tuple([idx[:, i] for i in range(idx.shape[1])])\n",
    "    # idx = (idx[:, 0], idx[:, 1])\n",
    "    idomain = np.zeros(grid.shape[1:], dtype=int)\n",
    "    idomain[idx] = 1\n",
    "    idomain = idomain.reshape(grid.shape)\n",
    "    grid.idomain = idomain"
   ]
  },
  {
   "cell_type": "code",
   "execution_count": null,
   "metadata": {},
   "outputs": [],
   "source": [
    "# Create a regular MODFLOW grid\n",
    "Lx = 180000\n",
    "Ly = 100000\n",
    "dx = dy = 5000 #166.666666667\n",
    "nlay = 1\n",
    "nrow = int(Ly / dy) + 1\n",
    "ncol = int(Lx / dx) + 1\n",
    "print(Lx, Ly, nrow, ncol)\n",
    "delr = np.array(ncol * [dx])\n",
    "delc = np.array(nrow * [dy])\n",
    "top = np.ones((nrow, ncol)) * 1000.0\n",
    "botm = np.ones((nlay, nrow, ncol)) * -100.0\n",
    "regular_grid = StructuredGrid(\n",
    "    nlay=nlay, delr=delr, delc=delc, xoff=0.0, yoff=0.0, top=top, botm=botm\n",
    ")\n",
    "\n",
    "set_idomain(regular_grid, boundary_polygon)"
   ]
  },
  {
   "cell_type": "code",
   "execution_count": null,
   "metadata": {},
   "outputs": [],
   "source": [
    "top_rg = fine_topo.resample_to_grid(\n",
    "    regular_grid,\n",
    "    band=fine_topo.bands[0],\n",
    "    method=\"linear\",\n",
    "    extrapolate_edges=True,\n",
    ")"
   ]
  },
  {
   "cell_type": "code",
   "execution_count": null,
   "metadata": {},
   "outputs": [],
   "source": [
    "regular_grid.shape"
   ]
  },
  {
   "cell_type": "code",
   "execution_count": null,
   "metadata": {},
   "outputs": [],
   "source": [
    "ixs = flopy.utils.GridIntersect(regular_grid, method=\"structured\")\n",
    "cellids = []\n",
    "for sg in sgs:\n",
    "    v = ixs.intersect(LineString(sg), sort_by_cellid=True)\n",
    "    cellids += v[\"cellids\"].tolist()\n",
    "intersection_rg = np.zeros(regular_grid.shape[1:])\n",
    "for loc in cellids:\n",
    "    intersection_rg[loc] = 1"
   ]
  },
  {
   "cell_type": "code",
   "execution_count": null,
   "metadata": {},
   "outputs": [],
   "source": [
    "fig = plt.figure(figsize=figsize)\n",
    "ax = fig.add_subplot()\n",
    "pmv = flopy.plot.PlotMapView(modelgrid=regular_grid)\n",
    "ax.set_aspect(\"equal\")\n",
    "pmv.plot_array(top_rg)\n",
    "pmv.plot_array(\n",
    "    intersection_rg,\n",
    "    masked_values=[\n",
    "        0,\n",
    "    ],\n",
    "    alpha=0.2,\n",
    "    cmap=\"Reds_r\",\n",
    ")\n",
    "pmv.plot_grid(lw=0.25, color=\"0.5\")\n",
    "pmv.plot_inactive()\n",
    "#regular_grid.plot(ax=ax, )\n",
    "ax.plot(bp[:, 0], bp[:, 1], \"r-\")\n",
    "for sg in sgs:\n",
    "    sa = np.array(sg)\n",
    "    ax.plot(sa[:, 0], sa[:, 1], \"b-\")"
   ]
  },
  {
   "cell_type": "markdown",
   "metadata": {},
   "source": [
    "### Build a model"
   ]
  },
  {
   "cell_type": "code",
   "execution_count": null,
   "metadata": {},
   "outputs": [],
   "source": [
    "newton = True\n",
    "\n",
    "# redefine the number of layers\n",
    "nlay = 5"
   ]
  },
  {
   "cell_type": "code",
   "execution_count": null,
   "metadata": {},
   "outputs": [],
   "source": [
    "if newton:\n",
    "    newton_options = \"NEWTON UNDER_RELAXATION\"\n",
    "    linear_accelerator = \"bicgstab\"\n",
    "    outer_maximum = 1000\n",
    "    rewet_record = None\n",
    "    wetdry = None\n",
    "else:\n",
    "    newton_options = None\n",
    "    linear_accelerator = \"cg\"\n",
    "    outer_maximum = 10000\n",
    "    rewet_record = \"WETFCT 1.0 IWETIT 1 IHDWET 1\"\n",
    "    wetdry = -0.001"
   ]
  },
  {
   "cell_type": "code",
   "execution_count": null,
   "metadata": {},
   "outputs": [],
   "source": [
    "drn_intersection = []\n",
    "drn_cellids = []\n",
    "drn_lengths = []\n",
    "for sg in sgs:\n",
    "    v = ixs.intersect(LineString(sg), sort_by_cellid=True)\n",
    "    drn_intersection.append(v)\n",
    "    drn_cellids += v[\"cellids\"].tolist()\n",
    "    drn_lengths += v[\"lengths\"].tolist()"
   ]
  },
  {
   "cell_type": "code",
   "execution_count": null,
   "metadata": {},
   "outputs": [],
   "source": [
    "leakance = 1.0 / (0.5 * dv0)  # kv / b\n",
    "drn_data = []\n",
    "for (r, c), length in zip(drn_cellids, drn_lengths):\n",
    "    x = regular_grid.xcellcenters[r, c]\n",
    "    width = 5.0 + (14.0 / Lx) * (Lx - x)\n",
    "    conductance = leakance * length * width\n",
    "    drn_data.append((0, r, c, top_rg[r, c], conductance))\n",
    "drn_data[:10]"
   ]
  },
  {
   "cell_type": "code",
   "execution_count": null,
   "metadata": {},
   "outputs": [],
   "source": [
    "# groundwater discharge to surface\n",
    "idomain = regular_grid.idomain[0].copy()\n",
    "index = tuple(np.array(list(zip(*drn_cellids))))\n",
    "idomain[index] = -1\n",
    "gw_discharge_data = []\n",
    "for r in range(nrow):\n",
    "    for c in range(ncol):\n",
    "        if idomain[r, c] < 1:\n",
    "            continue\n",
    "        conductance = leakance * dx * dy\n",
    "        gw_discharge_data.append(\n",
    "            (0, r, c, top_rg[r, c] - 0.5, conductance, 1.0)\n",
    "        )\n",
    "gw_discharge_data[:10]"
   ]
  },
  {
   "cell_type": "code",
   "execution_count": null,
   "metadata": {},
   "outputs": [],
   "source": [
    "plt.imshow(idomain)"
   ]
  },
  {
   "cell_type": "code",
   "execution_count": null,
   "metadata": {},
   "outputs": [],
   "source": [
    "topc = np.zeros((nlay, nrow, ncol), dtype=float)\n",
    "botm = np.zeros((nlay, nrow, ncol), dtype=float)\n",
    "dv = dv0\n",
    "topc[0] = top_rg.copy()\n",
    "botm[0] = topc[0] - dv\n",
    "for idx in range(1, nlay):\n",
    "    dv *= 1.5\n",
    "    topc[idx] = botm[idx - 1]\n",
    "    botm[idx] = topc[idx] - dv"
   ]
  },
  {
   "cell_type": "code",
   "execution_count": null,
   "metadata": {},
   "outputs": [],
   "source": [
    "for k in range(nlay):\n",
    "    print((topc[k] - botm[k]).mean())"
   ]
  },
  {
   "cell_type": "code",
   "execution_count": null,
   "metadata": {},
   "outputs": [],
   "source": [
    "idomain = np.array([regular_grid.idomain[0, :, :].copy() for k in range(nlay)], dtype=int)\n",
    "strt = np.array([top_rg.copy() for k in range(nlay)], dtype=float)"
   ]
  },
  {
   "cell_type": "code",
   "execution_count": null,
   "metadata": {},
   "outputs": [],
   "source": [
    "sim = flopy.mf6.MFSimulation(\n",
    "    sim_name=\"basin\",\n",
    "    sim_ws=\"basin\",\n",
    "    exe_name=\"mf6\",\n",
    ")\n",
    "tdis = flopy.mf6.ModflowTdis(sim)\n",
    "outer_head_close = 1e-6\n",
    "inner_head_close = 0.1*outer_head_close\n",
    "ims = flopy.mf6.ModflowIms(\n",
    "    sim, linear_acceleration=linear_accelerator, complexity=\"simple\", print_option=\"SUMMARY\",\n",
    "    outer_maximum=outer_maximum, inner_maximum=100, \n",
    "    outer_dvclose=outer_head_close, inner_dvclose=inner_head_close,\n",
    ")\n",
    "gwf = flopy.mf6.ModflowGwf(\n",
    "    sim, save_flows=True, newtonoptions=newton_options\n",
    ")\n",
    "\n",
    "dis = flopy.mf6.ModflowGwfdis(\n",
    "    gwf,\n",
    "    nlay=nlay,\n",
    "    nrow=nrow,\n",
    "    ncol=ncol,\n",
    "    delr=dx,\n",
    "    delc=dy,\n",
    "    idomain=idomain,\n",
    "    top=top_rg,\n",
    "    botm=botm,\n",
    "    xorigin=0.0,\n",
    "    yorigin=0.0,\n",
    ")\n",
    "\n",
    "ic = flopy.mf6.ModflowGwfic(gwf, strt=100.0)\n",
    "npf = flopy.mf6.ModflowGwfnpf(\n",
    "    gwf,\n",
    "    save_specific_discharge=True,\n",
    "    icelltype=0,\n",
    "    k=1.0,\n",
    "    rewet_record=rewet_record,\n",
    "    wetdry=wetdry,\n",
    ")\n",
    "# sto = flopy.mf6.ModflowGwfsto(\n",
    "#     gwf,\n",
    "#     iconvert=1,\n",
    "#     ss=1e-5,\n",
    "#     sy=0.2,\n",
    "#     steady_state=True,\n",
    "# )\n",
    "rch = flopy.mf6.ModflowGwfrcha(\n",
    "    gwf,\n",
    "    recharge=0.000001,\n",
    ")\n",
    "drn = flopy.mf6.ModflowGwfdrn(\n",
    "    gwf,\n",
    "    stress_period_data=drn_data,\n",
    "    pname=\"river\",\n",
    ")\n",
    "drn_gwd = flopy.mf6.ModflowGwfdrn(\n",
    "    gwf,\n",
    "    auxiliary=[\"depth\"],\n",
    "    auxdepthname=\"depth\",\n",
    "    stress_period_data=gw_discharge_data,\n",
    "    pname=\"gwd\",\n",
    ")\n",
    "oc = flopy.mf6.ModflowGwfoc(\n",
    "    gwf,\n",
    "    head_filerecord=f\"{gwf.name}.hds\",\n",
    "    budget_filerecord=f\"{gwf.name}.cbc\",\n",
    "    saverecord=[(\"HEAD\", \"ALL\"), (\"BUDGET\", \"ALL\")],\n",
    "    printrecord=[(\"BUDGET\", \"ALL\")],\n",
    ")"
   ]
  },
  {
   "cell_type": "code",
   "execution_count": null,
   "metadata": {},
   "outputs": [],
   "source": [
    "sim.write_simulation()\n",
    "sim.run_simulation()"
   ]
  },
  {
   "cell_type": "markdown",
   "metadata": {},
   "source": [
    "### Plot the heads for the full model"
   ]
  },
  {
   "cell_type": "code",
   "execution_count": null,
   "metadata": {},
   "outputs": [],
   "source": [
    "gwfhead = flopy.utils.postprocessing.get_water_table(gwf.output.head().get_data())\n",
    "hmin, hmax = gwfhead.min(), gwfhead.max()\n",
    "contours = np.arange(0, 100, 10)\n",
    "hmin, hmax"
   ]
  },
  {
   "cell_type": "code",
   "execution_count": null,
   "metadata": {},
   "outputs": [],
   "source": [
    "def plot_head2d(heads):\n",
    "    fig = plt.figure(figsize=figsize)\n",
    "    ax = fig.add_subplot()\n",
    "    ax.set_xlim(0, Lx)\n",
    "    ax.set_ylim(0, Ly)\n",
    "    ax.set_aspect(\"equal\")\n",
    "    pmv = flopy.plot.PlotMapView(modelgrid=gwf.modelgrid, ax=ax)\n",
    "    h = pmv.plot_array(heads, vmin=hmin, vmax=hmax)\n",
    "    c = pmv.contour_array(heads, levels=contours, colors=\"white\", linewidths=0.75, linestyles=\":\")\n",
    "    plt.clabel(c, fontsize=8)\n",
    "    pmv.plot_inactive()\n",
    "    plt.colorbar(h, ax=ax, shrink=0.35)\n",
    "\n",
    "    ax.plot(bp[:, 0], bp[:, 1], \"r-\")\n",
    "    for sg in sgs:\n",
    "        sa = np.array(sg)\n",
    "        ax.plot(sa[:, 0], sa[:, 1], \"b-\")"
   ]
  },
  {
   "cell_type": "code",
   "execution_count": null,
   "metadata": {},
   "outputs": [],
   "source": [
    "plot_head2d(gwfhead)"
   ]
  },
  {
   "cell_type": "markdown",
   "metadata": {},
   "source": [
    "### Build a splitting array"
   ]
  },
  {
   "cell_type": "code",
   "execution_count": null,
   "metadata": {},
   "outputs": [],
   "source": [
    "nrow_blocks, ncol_blocks = 1, 4"
   ]
  },
  {
   "cell_type": "code",
   "execution_count": null,
   "metadata": {},
   "outputs": [],
   "source": [
    "row_inc, col_inc = int(nrow/nrow_blocks), int(ncol/ncol_blocks)\n",
    "row_inc, col_inc"
   ]
  },
  {
   "cell_type": "code",
   "execution_count": null,
   "metadata": {},
   "outputs": [],
   "source": [
    "icnt = 0\n",
    "row_blocks = [icnt]\n",
    "for i in range(nrow_blocks):\n",
    "    icnt += row_inc\n",
    "    row_blocks.append(icnt)\n",
    "if row_blocks[-1] < nrow:\n",
    "    row_blocks[-1] = nrow\n",
    "row_blocks"
   ]
  },
  {
   "cell_type": "code",
   "execution_count": null,
   "metadata": {},
   "outputs": [],
   "source": [
    "icnt = 0\n",
    "col_blocks = [icnt]\n",
    "for i in range(ncol_blocks):\n",
    "    icnt += col_inc\n",
    "    col_blocks.append(icnt)\n",
    "if col_blocks[-1] < ncol:\n",
    "    col_blocks[-1] = ncol\n",
    "col_blocks"
   ]
  },
  {
   "cell_type": "code",
   "execution_count": null,
   "metadata": {},
   "outputs": [],
   "source": [
    "mask = np.zeros((nrow, ncol), dtype=int)"
   ]
  },
  {
   "cell_type": "code",
   "execution_count": null,
   "metadata": {},
   "outputs": [],
   "source": [
    "model_llcorner = {}\n",
    "ival = 1\n",
    "for idx in range(len(row_blocks)-1):\n",
    "    for jdx in range(len(col_blocks)-1):\n",
    "        mask[row_blocks[idx]:row_blocks[idx+1], col_blocks[jdx]:col_blocks[jdx+1]] = ival\n",
    "        # get xoff yoff\n",
    "        xoff = gwf.modelgrid.xvertices[row_blocks[idx+1], col_blocks[jdx]]\n",
    "        yoff = gwf.modelgrid.yvertices[row_blocks[idx+1], col_blocks[jdx]]\n",
    "        model_llcorner[ival] = (xoff, yoff)\n",
    "        # increment model number\n",
    "        ival += 1"
   ]
  },
  {
   "cell_type": "code",
   "execution_count": null,
   "metadata": {},
   "outputs": [],
   "source": [
    "model_llcorner"
   ]
  },
  {
   "cell_type": "code",
   "execution_count": null,
   "metadata": {},
   "outputs": [],
   "source": [
    "np.unique(mask)"
   ]
  },
  {
   "cell_type": "code",
   "execution_count": null,
   "metadata": {},
   "outputs": [],
   "source": [
    "plt.imshow(mask)"
   ]
  },
  {
   "cell_type": "markdown",
   "metadata": {},
   "source": [
    "### Split into (nrow_blocks, ncol_blocks) models"
   ]
  },
  {
   "cell_type": "code",
   "execution_count": null,
   "metadata": {},
   "outputs": [],
   "source": [
    "mfsplit = Mf6Splitter(sim)"
   ]
  },
  {
   "cell_type": "code",
   "execution_count": null,
   "metadata": {},
   "outputs": [],
   "source": [
    "new_sim = mfsplit.split_model(mask)"
   ]
  },
  {
   "cell_type": "code",
   "execution_count": null,
   "metadata": {},
   "outputs": [],
   "source": [
    "new_ws = \"basin_split\"\n",
    "shutil.rmtree(new_ws, ignore_errors=True) \n",
    "new_sim.set_sim_path(new_ws)"
   ]
  },
  {
   "cell_type": "markdown",
   "metadata": {},
   "source": [
    "### Plot the submodels"
   ]
  },
  {
   "cell_type": "code",
   "execution_count": null,
   "metadata": {},
   "outputs": [],
   "source": [
    "extent = (0., Lx, 0., Ly)"
   ]
  },
  {
   "cell_type": "code",
   "execution_count": null,
   "metadata": {},
   "outputs": [],
   "source": [
    "fig = plt.figure(figsize=figsize)\n",
    "ax = fig.add_subplot()\n",
    "ax.set_xlim(0, Lx)\n",
    "ax.set_ylim(0, Ly)\n",
    "ax.set_aspect(\"equal\")\n",
    "for name in new_sim.model_names:\n",
    "    m = new_sim.get_model(name)\n",
    "    pmv = flopy.plot.PlotMapView(modelgrid=m.modelgrid, ax=ax, extent=extent)\n",
    "    pmv.plot_array(m.dis.top.array, vmin=top_rg.min(), vmax=top_rg.max())\n",
    "    pmv.plot_inactive()\n",
    "ax.plot(bp[:, 0], bp[:, 1], \"r-\")\n",
    "for sg in sgs:\n",
    "    sa = np.array(sg)\n",
    "    ax.plot(sa[:, 0], sa[:, 1], \"b-\")"
   ]
  },
  {
   "cell_type": "markdown",
   "metadata": {},
   "source": [
    "### Write and run the simulation "
   ]
  },
  {
   "cell_type": "code",
   "execution_count": null,
   "metadata": {},
   "outputs": [],
   "source": [
    "new_sim.write_simulation()"
   ]
  },
  {
   "cell_type": "code",
   "execution_count": null,
   "metadata": {},
   "outputs": [],
   "source": [
    "new_sim.run_simulation()"
   ]
  },
  {
   "cell_type": "markdown",
   "metadata": {},
   "source": [
    "### Plot the multi-model heads"
   ]
  },
  {
   "cell_type": "code",
   "execution_count": null,
   "metadata": {},
   "outputs": [],
   "source": [
    "# build a single head dataset\n",
    "model_names = list(new_sim.model_names)\n",
    "head_tot_serial = np.zeros((nlay, nrow, ncol), dtype=float)\n",
    "im = 0\n",
    "for idx in range(len(row_blocks)-1):\n",
    "    for jdx in range(len(col_blocks)-1):\n",
    "        m = new_sim.get_model(model_names[im])\n",
    "        mhead = m.output.head().get_data()\n",
    "        head_tot_serial[:, row_blocks[idx]:row_blocks[idx+1], col_blocks[jdx]:col_blocks[jdx+1]] = mhead[:, :, :]\n",
    "        # increment model number\n",
    "        im += 1\n",
    "wt_tot = flopy.utils.postprocessing.get_water_table(head_tot_serial)"
   ]
  },
  {
   "cell_type": "code",
   "execution_count": null,
   "metadata": {},
   "outputs": [],
   "source": [
    "plot_head2d(wt_tot)"
   ]
  },
  {
   "attachments": {},
   "cell_type": "markdown",
   "metadata": {},
   "source": [
    "### Check: multi-model versus single model"
   ]
  },
  {
   "cell_type": "code",
   "execution_count": null,
   "metadata": {},
   "outputs": [],
   "source": [
    "def plot_diff(diff, title):\n",
    "    fig = plt.figure(figsize=figsize)\n",
    "    ax = fig.add_subplot()\n",
    "    ax.set_xlim(0, Lx)\n",
    "    ax.set_ylim(0, Ly)\n",
    "    ax.set_aspect(\"equal\")\n",
    "        \n",
    "    pmv = flopy.plot.PlotMapView(modelgrid=gwf.modelgrid, ax=ax, extent=extent)\n",
    "    h = pmv.plot_array(diff)\n",
    "    pmv.plot_inactive()\n",
    "    plt.colorbar(h, ax=ax, shrink=0.35)\n",
    "    plt.title(title)"
   ]
  },
  {
   "cell_type": "code",
   "execution_count": null,
   "metadata": {},
   "outputs": [],
   "source": [
    "diff = head_tot_serial - gwfhead\n",
    "ilay = 1\n",
    "title = f\"multi-model (serial) minus single model, layer {ilay+1}\"\n",
    "plot_diff(diff[ilay], title)"
   ]
  },
  {
   "cell_type": "markdown",
   "metadata": {},
   "source": [
    "### Write and run parallel simulation"
   ]
  },
  {
   "cell_type": "code",
   "execution_count": null,
   "metadata": {},
   "outputs": [],
   "source": [
    "par_ws = \"basin_split_parallel\"\n",
    "shutil.rmtree(par_ws, ignore_errors=True) \n",
    "new_sim.set_sim_path(par_ws)\n",
    "for idx, name in enumerate(new_sim.model_names):\n",
    "    m = new_sim.get_model(name)\n",
    "new_sim.write_simulation()"
   ]
  },
  {
   "cell_type": "code",
   "execution_count": null,
   "metadata": {},
   "outputs": [],
   "source": [
    "ncpus = 4"
   ]
  },
  {
   "cell_type": "code",
   "execution_count": null,
   "metadata": {},
   "outputs": [],
   "source": [
    "# write petsc cfg for parallel solve\n",
    "petsc_db_file = os.path.join(par_ws, \".petscrc\")\n",
    "with open(petsc_db_file, 'w') as petsc_file:\n",
    "    if ncpus > 1:\n",
    "        petsc_file.write(\"-ksp_type bcgs\\n\")\n",
    "        petsc_file.write(\"-pc_type bjacobi\\n\")\n",
    "        petsc_file.write(\"-sub_pc_type ilu\\n\")\n",
    "        petsc_file.write(\"-sub_pc_factor_levels 2\\n\")\n",
    "        petsc_file.write(\"-dvclose 1.0e-6\\n\")\n",
    "        petsc_file.write(\"-options_left no\\n\")\n",
    "    else:\n",
    "        petsc_file.write(\"-ksp_type bcgs\\n\")\n",
    "        petsc_file.write(\"-pc_type ilu\\n\")\n",
    "        petsc_file.write(\"-pc_factor_levels 2\\n\")\n",
    "        petsc_file.write(\"-dvclose 1.0e-6\\n\")\n",
    "        petsc_file.write(\"-options_left no\\n\")"
   ]
  },
  {
   "cell_type": "code",
   "execution_count": null,
   "metadata": {},
   "outputs": [],
   "source": [
    "cmd = f\"mpiexec --oversubscribe -np {ncpus} mf6 -p\"\n",
    "current_wd = os.getcwd()\n",
    "os.chdir(par_ws)\n",
    "!{cmd}\n",
    "os.chdir(current_wd)"
   ]
  },
  {
   "cell_type": "markdown",
   "metadata": {},
   "source": [
    "### Plot the parallel heads"
   ]
  },
  {
   "cell_type": "code",
   "execution_count": null,
   "metadata": {},
   "outputs": [],
   "source": [
    "# build a single head dataset\n",
    "model_names = list(new_sim.model_names)\n",
    "head_tot_parallel = np.zeros((nlay, nrow, ncol), dtype=float)\n",
    "im = 0\n",
    "for idx in range(len(row_blocks)-1):\n",
    "    for jdx in range(len(col_blocks)-1):\n",
    "        m = new_sim.get_model(model_names[im])\n",
    "        mhead = m.output.head().get_data()\n",
    "        head_tot_parallel[:, row_blocks[idx]:row_blocks[idx+1], col_blocks[jdx]:col_blocks[jdx+1]] = mhead[:, :, :]\n",
    "        # increment model number\n",
    "        im += 1\n",
    "wt_tot = flopy.utils.postprocessing.get_water_table(head_tot_parallel)"
   ]
  },
  {
   "cell_type": "code",
   "execution_count": null,
   "metadata": {},
   "outputs": [],
   "source": [
    "plot_head2d(wt_tot)"
   ]
  },
  {
   "attachments": {},
   "cell_type": "markdown",
   "metadata": {},
   "source": [
    "### Check: parallel versus serial"
   ]
  },
  {
   "cell_type": "code",
   "execution_count": null,
   "metadata": {},
   "outputs": [],
   "source": [
    "diff = head_tot_parallel - head_tot_serial\n",
    "ilay = 1 # layer to plot\n",
    "title = f\"parallel minus multi-model (serial), layer {ilay+1}\"\n",
    "plot_diff(diff[ilay], title)"
   ]
  },
  {
   "attachments": {},
   "cell_type": "markdown",
   "metadata": {},
   "source": [
    "### Check: parallel versus single model"
   ]
  },
  {
   "cell_type": "code",
   "execution_count": null,
   "metadata": {},
   "outputs": [],
   "source": [
    "diff = head_tot_parallel - gwfhead\n",
    "ilay = 1\n",
    "title = f\"parallel minus single model, layer {ilay+1}\"\n",
    "plot_diff(diff[ilay], title)"
   ]
  },
  {
   "cell_type": "markdown",
   "metadata": {},
   "source": [
    "bgf = flopy.mf6.utils.MfGrdFile(\"basin/model.dis.grb\")"
   ]
  },
  {
   "cell_type": "markdown",
   "metadata": {},
   "source": [
    "iaverts = bgf.modelgrid.iverts"
   ]
  },
  {
   "cell_type": "markdown",
   "metadata": {},
   "source": [
    "ia, ja = bgf.ia - 1, bgf.ja - 1"
   ]
  },
  {
   "cell_type": "markdown",
   "metadata": {},
   "source": [
    "bgf.ncells"
   ]
  },
  {
   "cell_type": "markdown",
   "metadata": {},
   "source": [
    "ia[15400:15500]"
   ]
  },
  {
   "cell_type": "markdown",
   "metadata": {},
   "source": [
    "ia.shape"
   ]
  },
  {
   "cell_type": "markdown",
   "metadata": {},
   "source": [
    "adj_list = []\n",
    "for i in range(ia.shape[0] - 1):\n",
    "    ia0 = ia[i] + 1\n",
    "    ia1 = ia[i + 1] - 1\n",
    "    if ia1 == ia0:\n",
    "        continue\n",
    "    temp = [ja[ia[i]]]\n",
    "    for j in range(ia0, ia1):\n",
    "        temp.append(ja[j])\n",
    "    adj_list.append(temp)\n",
    "    \n",
    "adj_list"
   ]
  }
 ],
 "metadata": {
  "kernelspec": {
   "display_name": "Python 3 (ipykernel)",
   "language": "python",
   "name": "python3"
  },
  "language_info": {
   "codemirror_mode": {
    "name": "ipython",
    "version": 3
   },
   "file_extension": ".py",
   "mimetype": "text/x-python",
   "name": "python",
   "nbconvert_exporter": "python",
   "pygments_lexer": "ipython3",
   "version": "3.9.15"
  }
 },
 "nbformat": 4,
 "nbformat_minor": 4
}
