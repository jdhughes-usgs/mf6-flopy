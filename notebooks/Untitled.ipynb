{
 "cells": [
  {
   "cell_type": "code",
   "execution_count": null,
   "id": "db600279-8dd7-4d6f-a82a-b18edc2e6793",
   "metadata": {},
   "outputs": [],
   "source": [
    "import os\n",
    "import numpy as np\n",
    "import matplotlib.pyplot as plt\n",
    "import flopy"
   ]
  },
  {
   "cell_type": "code",
   "execution_count": null,
   "id": "2c31bcde-fd26-409b-826f-98abb8e757b9",
   "metadata": {},
   "outputs": [],
   "source": [
    "path = \"/Users/jdhughes/Documents/Development/modflow6/modflow6-testmodels/mf6/test059_mvlake_lak_ss\""
   ]
  },
  {
   "cell_type": "code",
   "execution_count": null,
   "id": "39b6274b-af07-4122-95a5-67df670c102b",
   "metadata": {},
   "outputs": [],
   "source": [
    "sim = flopy.mf6.MFSimulation.load(\n",
    "    sim_name=\"mv\", sim_ws=path, load_only=[\"wel\"]\n",
    ")"
   ]
  },
  {
   "cell_type": "code",
   "execution_count": null,
   "id": "2575668e-5f0a-4f7b-8f2d-2f5b30228a89",
   "metadata": {},
   "outputs": [],
   "source": [
    "gwf = sim.get_model()"
   ]
  },
  {
   "cell_type": "code",
   "execution_count": null,
   "id": "f38abba1-6c5a-40b3-a44d-ca490efd1118",
   "metadata": {},
   "outputs": [],
   "source": [
    "wel = gwf.wel.stress_period_data.array[0]\n",
    "wel"
   ]
  },
  {
   "cell_type": "code",
   "execution_count": null,
   "id": "e8b45bc6-20cb-4767-beea-1f11fb7845cf",
   "metadata": {},
   "outputs": [],
   "source": [
    "gwf.modelgrid.xcellcenters[32, 5]"
   ]
  },
  {
   "cell_type": "code",
   "execution_count": null,
   "id": "d509da23-bde8-4ffa-a818-b72949666014",
   "metadata": {},
   "outputs": [],
   "source": [
    "wells = \"\"\"7250. 17250.\n",
    "7750. 2750.\n",
    "2750 3750.\"\"\""
   ]
  },
  {
   "cell_type": "code",
   "execution_count": null,
   "id": "befe46ac-14b4-425f-b16c-8403d55ea0ac",
   "metadata": {},
   "outputs": [],
   "source": [
    "mv = flopy.plot.PlotMapView(model=gwf)\n",
    "mv.plot_inactive()\n",
    "mv.plot_grid()\n",
    "mv.ax.set_ylim(11500, 20000)\n",
    "mv.ax.set_xlim(0, 5000)"
   ]
  },
  {
   "cell_type": "code",
   "execution_count": null,
   "id": "8052ba0a-9530-417f-96b1-21f2e7781ad6",
   "metadata": {},
   "outputs": [],
   "source": [
    "lake_inside = \"\"\"2000. 18000.\n",
    "3000. 18000.\n",
    "3000. 15000.\n",
    "3500. 15000.\n",
    "3500. 14000.\n",
    "4000. 14000.\n",
    "4000. 12500.\n",
    "3000. 12500.\n",
    "3000. 13000.\n",
    "2500. 13000.\n",
    "2500. 14500.\n",
    "2000. 14500.\n",
    "2000. 15500.\n",
    "1500. 15500.\n",
    "1500. 17500.\n",
    "2000. 17500.\"\"\""
   ]
  },
  {
   "cell_type": "code",
   "execution_count": null,
   "id": "0f37784e-c671-468b-8fa3-40272b29b625",
   "metadata": {},
   "outputs": [],
   "source": [
    "lake = \"\"\"1500. 18500.\n",
    "3500. 18500.\n",
    "3500. 15500.\n",
    "4000. 15500.\n",
    "4000. 14500.\n",
    "4500. 14500.\n",
    "4500. 12000.\n",
    "2500. 12000.\n",
    "2500. 12500.\n",
    "2000. 12500.\n",
    "2000. 14000.\n",
    "1500. 14000.\n",
    "1500. 15000.\n",
    "1000. 15000.\n",
    "1000. 18000.\n",
    "1500. 18000.\n",
    "1500. 18500.\n",
    "\"\"\""
   ]
  },
  {
   "cell_type": "code",
   "execution_count": null,
   "id": "1bc2973a-e223-456c-8235-a3640b33f039",
   "metadata": {},
   "outputs": [],
   "source": [
    "idomain = gwf.dis.idomain.array[0]\n",
    "idomain_ma = np.ma.masked_where(idomain == 1, idomain)"
   ]
  },
  {
   "cell_type": "code",
   "execution_count": null,
   "id": "65c75ba5-7aea-4000-b2b3-4ccfeec9ef38",
   "metadata": {},
   "outputs": [],
   "source": [
    "import rasterio.features\n",
    "from shapely.geometry import shape\n",
    "\n",
    "# Mask is a numpy array binary mask loaded however needed\n",
    "maskShape = rasterio.features.shapes(idomain_ma.astype(\"uint8\"))\n",
    "mypoly = []\n",
    "for vec in maskShape:\n",
    "    mypoly.append(vec[0])\n",
    "print(mypoly)"
   ]
  },
  {
   "cell_type": "code",
   "execution_count": null,
   "id": "a8c4bdcb-29fa-4a65-9ecb-cb27fb57c044",
   "metadata": {},
   "outputs": [],
   "source": [
    "coordinates = np.array(mypoly[0][\"coordinates\"]).squeeze()"
   ]
  },
  {
   "cell_type": "code",
   "execution_count": null,
   "id": "6fbfb379-ad72-4955-bc5b-d9a23e57a63a",
   "metadata": {},
   "outputs": [],
   "source": [
    "coordinates.shape"
   ]
  },
  {
   "cell_type": "code",
   "execution_count": null,
   "id": "3414820f-f0b3-45de-b602-33fcba17ccd6",
   "metadata": {},
   "outputs": [],
   "source": [
    "plt.plot(coordinates[:, 0], coordinates[:, 1])"
   ]
  },
  {
   "cell_type": "code",
   "execution_count": null,
   "id": "7db00047-d255-427a-b6f2-f37196b690ad",
   "metadata": {},
   "outputs": [],
   "source": []
  }
 ],
 "metadata": {
  "kernelspec": {
   "display_name": "Python 3 (ipykernel)",
   "language": "python",
   "name": "python3"
  },
  "language_info": {
   "codemirror_mode": {
    "name": "ipython",
    "version": 3
   },
   "file_extension": ".py",
   "mimetype": "text/x-python",
   "name": "python",
   "nbconvert_exporter": "python",
   "pygments_lexer": "ipython3",
   "version": "3.9.7"
  }
 },
 "nbformat": 4,
 "nbformat_minor": 5
}
