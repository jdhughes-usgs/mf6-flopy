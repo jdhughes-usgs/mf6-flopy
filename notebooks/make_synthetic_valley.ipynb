{
 "cells": [
  {
   "cell_type": "markdown",
   "metadata": {},
   "source": [
    "# MODFLOW API Paper\n",
    "\n",
    "# Create Trimesh Grid for McDonald Valley Problem for the \"Optimization of groundwater withdrawals\" example\n",
    "\n",
    "This notebook can be used to create the MODFLOW 6 datasets used by the \"Optimization of groundwater withdrawals\" example, as reported in the MODFLOW 6 API paper (in progress). This notebook should be run prior to running the `optimize_mv_api.ipynb` notebook.\n",
    "\n",
    "## Prerequisites\n",
    "To run the simulation and process the results, the following publicly available software and data are required:\n",
    "\n",
    "* __libmf6.dll__ (Windows) or __libmf6.so__ (linux or MacOS) pre-compiled dynamic-link library (dll)/shared object (so) and available from https://github.com/MODFLOW-USGS/executables. The operating specific pre-compiled dll/so should be installed in the `bin` subdirectory at the same level as the subdirectory containing this Jupyter Notebook (`../bin/`). \n",
    "* __mf6.exe__ (Windows) or __mf6__ (linux or MacOS) pre-compiled application and available from https://github.com/MODFLOW-USGS/executables. The operating specific pre-compiled application should be installed in the `bin` subdirectory at the same level as the subdirectory containing this Jupyter Notebook (`../bin/`). \n",
    "https://github.com/Deltares/xmipy.\n",
    "* __flopy__ is a python package that can be used to build, run, and post-process MODFLOW 6 models. The source is available at https://github.com/modflowpy/flopy and the package can be installed from PyPI using `pip install flopy` or conda using `conda install flopy`.\n",
    "    \n",
    "## Building the McDonald Valley MODFLOW 6 datasets\n",
    "\n",
    "We start by importing the necessary packages:"
   ]
  },
  {
   "cell_type": "code",
   "execution_count": null,
   "metadata": {},
   "outputs": [],
   "source": [
    "import os\n",
    "import sys\n",
    "import numpy as np\n",
    "import scipy.interpolate as sci\n",
    "from scipy.ndimage import gaussian_filter\n",
    "import matplotlib as mpl\n",
    "import matplotlib.pyplot as plt\n",
    "import matplotlib.gridspec as gridspec\n",
    "\n",
    "import rasterio\n",
    "from shapely.geometry import LineString\n",
    "\n",
    "import flopy\n",
    "from flopy.utils.gridgen import Gridgen\n",
    "import flopy.plot.styles as styles\n",
    "\n",
    "print(sys.version)\n",
    "print(\"numpy version: {}\".format(np.__version__))\n",
    "print(\"matplotlib version: {}\".format(mpl.__version__))\n",
    "print(\"flopy version: {}\".format(flopy.__version__))"
   ]
  },
  {
   "cell_type": "markdown",
   "metadata": {},
   "source": [
    "\n",
    "_Define the name of the executable_"
   ]
  },
  {
   "cell_type": "code",
   "execution_count": null,
   "metadata": {},
   "outputs": [],
   "source": [
    "exe_name = \"mf6\"\n",
    "if sys.platform == \"win32\":\n",
    "    exe_name += \".exe\""
   ]
  },
  {
   "cell_type": "markdown",
   "metadata": {},
   "source": [
    "## Load external data"
   ]
  },
  {
   "cell_type": "code",
   "execution_count": null,
   "metadata": {},
   "outputs": [],
   "source": [
    "kaq = flopy.utils.Raster.load(\"./data/k_aq.asc\")\n",
    "kclay = flopy.utils.Raster.load(\"./data/k_clay.asc\")\n",
    "top_base = flopy.utils.Raster.load(\"./data/top.asc\")\n",
    "bot = flopy.utils.Raster.load(\"./data/bottom.asc\")"
   ]
  },
  {
   "cell_type": "code",
   "execution_count": null,
   "metadata": {},
   "outputs": [],
   "source": []
  },
  {
   "cell_type": "markdown",
   "metadata": {},
   "source": [
    "## Create Structured Grid"
   ]
  },
  {
   "cell_type": "code",
   "execution_count": null,
   "metadata": {},
   "outputs": [],
   "source": [
    "nlay = 5\n",
    "nrow = 40\n",
    "ncol = 25\n",
    "shape2d = (nrow, ncol)\n",
    "shape3d = (nlay, nrow, ncol)\n",
    "delr, delc = 500.0, 500.0\n",
    "delrs = np.ones(ncol, dtype=np.float32) * delr\n",
    "delcs = np.ones(nrow, dtype=np.float32) * delc\n",
    "top = top_base.get_array(1)\n",
    "botm = np.zeros(shape3d, dtype=np.float32)\n",
    "botm[0] = -5.0\n",
    "botm[1] = -50.0\n",
    "botm[2] = -51.0\n",
    "botm[3] = -100.0\n",
    "botm[4] = bot.get_array(1)"
   ]
  },
  {
   "cell_type": "markdown",
   "metadata": {},
   "source": [
    "Build structured model grid"
   ]
  },
  {
   "cell_type": "code",
   "execution_count": null,
   "metadata": {},
   "outputs": [],
   "source": [
    "struct_grid = flopy.discretization.StructuredGrid(\n",
    "    nlay=1,\n",
    "    nrow=nrow,\n",
    "    ncol=ncol,\n",
    "    delr=delrs,\n",
    "    delc=delcs,\n",
    "    top=top,\n",
    "    botm=botm[0].reshape((1, nrow, ncol)),\n",
    ")"
   ]
  },
  {
   "cell_type": "markdown",
   "metadata": {},
   "source": [
    "## Create shapely line for SFR"
   ]
  },
  {
   "cell_type": "code",
   "execution_count": null,
   "metadata": {},
   "outputs": [],
   "source": [
    "xc, yc = struct_grid.xycenters\n",
    "yv = struct_grid.yvertices\n",
    "xc.shape, yc.shape, yv.shape"
   ]
  },
  {
   "cell_type": "code",
   "execution_count": null,
   "metadata": {},
   "outputs": [],
   "source": [
    "x0 = x1 = xc[8]\n",
    "y0, y1 = yv[22, 8] - 0.5 * delc, yv[-1, 8]\n",
    "x0, y0, x1, y1"
   ]
  },
  {
   "cell_type": "code",
   "execution_count": null,
   "metadata": {},
   "outputs": [],
   "source": [
    "straight_river = LineString([(x0, y0), (x1, y1)])"
   ]
  },
  {
   "cell_type": "code",
   "execution_count": null,
   "metadata": {},
   "outputs": [],
   "source": [
    "ixs = flopy.utils.GridIntersect(struct_grid, method=\"structured\")\n",
    "result = ixs.intersect(straight_river)"
   ]
  },
  {
   "cell_type": "code",
   "execution_count": null,
   "metadata": {},
   "outputs": [],
   "source": [
    "result"
   ]
  },
  {
   "cell_type": "code",
   "execution_count": null,
   "metadata": {},
   "outputs": [],
   "source": [
    "result[\"lengths\"].sum()"
   ]
  },
  {
   "cell_type": "code",
   "execution_count": null,
   "metadata": {},
   "outputs": [],
   "source": [
    "fig, ax = plt.subplots(1, 1, figsize=(6, 12))\n",
    "ax.axis(\"equal\")\n",
    "extents = (x0 - 10, x1 + 10, y1, y0 + 200)\n",
    "mm = flopy.plot.PlotMapView(modelgrid=struct_grid, ax=ax, extent=extents)\n",
    "mm.plot_grid(lw=0.5, color=\"black\")\n",
    "ixs.plot_linestring(result, ax=ax)"
   ]
  },
  {
   "cell_type": "markdown",
   "metadata": {},
   "source": [
    "## Read the Trimesh File into Python"
   ]
  },
  {
   "cell_type": "code",
   "execution_count": null,
   "metadata": {},
   "outputs": [],
   "source": [
    "fname = \"./data/TriMesh_with_densified_contours.exp\"\n",
    "with open(fname, \"r\") as f:\n",
    "    lines = f.readlines()\n",
    "\n",
    "# read vertex info into a structured array\n",
    "vtmp = [line.strip().split()[1:] for line in lines if line.startswith(\"N\")]\n",
    "dtype = [\n",
    "    (\"ivert\", int),\n",
    "    (\"x\", float),\n",
    "    (\"y\", float),\n",
    "    (\"label\", \"|S10\"),\n",
    "    (\"ibound\", int),\n",
    "    (\"elev\", float),\n",
    "]\n",
    "vertices = np.empty((len(vtmp)), dtype=dtype)\n",
    "for i, line in enumerate(vtmp):\n",
    "    for j, val in enumerate(line):\n",
    "        vertices[i][j] = val\n",
    "\n",
    "# read element info into a structured array\n",
    "etmp = [line.strip().split()[1:] for line in lines if line.startswith(\"E\")]\n",
    "dtype = [\n",
    "    (\"icell\", int),\n",
    "    (\"iv1\", int),\n",
    "    (\"iv2\", int),\n",
    "    (\"iv3\", int),\n",
    "    (\"label\", \"|S10\"),\n",
    "    (\"ibound\", int),\n",
    "    (\"elev\", float),\n",
    "]\n",
    "cells = np.empty((len(etmp)), dtype=dtype)\n",
    "for i, line in enumerate(etmp):\n",
    "    for j, val in enumerate(line):\n",
    "        cells[i][j] = val"
   ]
  },
  {
   "cell_type": "code",
   "execution_count": null,
   "metadata": {},
   "outputs": [],
   "source": [
    "verts = []\n",
    "for ivert, x, y, label, ibound, elev in vertices:\n",
    "    verts.append([x, y])\n",
    "verts = np.array(verts, dtype=float)\n",
    "\n",
    "iverts = []\n",
    "for i, iv1, iv2, iv3, s, ibound, elev in list(cells):\n",
    "    iverts.append([iv3 - 1, iv2 - 1, iv1 - 1])\n",
    "\n",
    "ncpl = len(iverts)\n",
    "nvert = verts.shape[0]"
   ]
  },
  {
   "cell_type": "markdown",
   "metadata": {},
   "source": [
    "## Calculate Centroids"
   ]
  },
  {
   "cell_type": "code",
   "execution_count": null,
   "metadata": {},
   "outputs": [],
   "source": [
    "# centroid and area array\n",
    "from flopy.utils.cvfdutil import centroid_of_polygon, area_of_polygon\n",
    "\n",
    "xcyc = np.empty((ncpl, 2), dtype=float)\n",
    "area = np.empty((ncpl), dtype=float)\n",
    "for icell in range(ncpl):\n",
    "    vlist = [(verts[ivert, 0], verts[ivert, 1]) for ivert in iverts[icell]]\n",
    "    xcyc[icell, 0], xcyc[icell, 1] = centroid_of_polygon(vlist)\n",
    "    area[icell] = abs(area_of_polygon(*zip(*vlist)))"
   ]
  },
  {
   "cell_type": "code",
   "execution_count": null,
   "metadata": {},
   "outputs": [],
   "source": [
    "# make temporary vertex grid for plotting and intersecting\n",
    "vertices = []\n",
    "for i in range(nvert):\n",
    "    vertices.append((i, verts[i, 0], verts[i, 1]))\n",
    "\n",
    "cell2d = []\n",
    "for i in range(ncpl):\n",
    "    cell2d.append([i, xcyc[i, 0], xcyc[i, 1], 3] + [iv for iv in iverts[i]])\n",
    "\n",
    "vg_temp = flopy.discretization.VertexGrid(\n",
    "    vertices=vertices, cell2d=cell2d, nlay=1, ncpl=len(cell2d)\n",
    ")"
   ]
  },
  {
   "cell_type": "markdown",
   "metadata": {},
   "source": [
    "Plot the DISV grid"
   ]
  },
  {
   "cell_type": "code",
   "execution_count": null,
   "metadata": {},
   "outputs": [],
   "source": [
    "grid_verts = vg_temp.verts\n",
    "xcc, ycc = vg_temp.xyzcellcenters[:2]"
   ]
  },
  {
   "cell_type": "code",
   "execution_count": null,
   "metadata": {},
   "outputs": [],
   "source": [
    "with styles.USGSMap():\n",
    "    fig = plt.figure(figsize=(8, 12))\n",
    "    ax = fig.add_subplot(1, 1, 1, aspect=\"equal\")\n",
    "    mm = flopy.plot.PlotMapView(modelgrid=vg_temp)\n",
    "    mm.plot_grid()\n",
    "    plt.plot(xcc, ycc, \"ko\", markersize=1.0)\n",
    "    plt.plot(grid_verts[:, 0], grid_verts[:, 1], \"rs\", markersize=1.5)"
   ]
  },
  {
   "cell_type": "markdown",
   "metadata": {},
   "source": [
    "## Intersect the Grid with the Property Arrays"
   ]
  },
  {
   "cell_type": "code",
   "execution_count": null,
   "metadata": {},
   "outputs": [],
   "source": [
    "kaq_tm = kaq.resample_to_grid(\n",
    "    vg_temp,\n",
    "    band=kaq.bands[0],\n",
    "    method=\"nearest\",\n",
    "    extrapolate_edges=True,\n",
    ")"
   ]
  },
  {
   "cell_type": "code",
   "execution_count": null,
   "metadata": {},
   "outputs": [],
   "source": [
    "with styles.USGSMap():\n",
    "    fig = plt.figure(figsize=(15, 15))\n",
    "    ax = fig.add_subplot(1, 2, 1, aspect=\"equal\")\n",
    "    mm = flopy.plot.PlotMapView(modelgrid=struct_grid, ax=ax)\n",
    "    mm.plot_array(kaq.get_array(1), cmap=\"jet\")\n",
    "\n",
    "    ax = fig.add_subplot(1, 2, 2, aspect=\"equal\")\n",
    "    mm = flopy.plot.PlotMapView(modelgrid=vg_temp, ax=ax)\n",
    "    mm.plot_array(kaq_tm, cmap=\"jet\")"
   ]
  },
  {
   "cell_type": "code",
   "execution_count": null,
   "metadata": {},
   "outputs": [],
   "source": [
    "kclay_tm = kclay.resample_to_grid(\n",
    "    vg_temp,\n",
    "    band=kclay.bands[0],\n",
    "    method=\"nearest\",\n",
    ")"
   ]
  },
  {
   "cell_type": "code",
   "execution_count": null,
   "metadata": {},
   "outputs": [],
   "source": [
    "with styles.USGSMap():\n",
    "    fig = plt.figure(figsize=(15, 15))\n",
    "    ax = fig.add_subplot(1, 2, 1, aspect=\"equal\")\n",
    "    mm = flopy.plot.PlotMapView(modelgrid=struct_grid, ax=ax)\n",
    "    mm.plot_array(kclay.get_array(1), cmap=\"jet\")\n",
    "\n",
    "    ax = fig.add_subplot(1, 2, 2, aspect=\"equal\")\n",
    "    mm = flopy.plot.PlotMapView(modelgrid=vg_temp, ax=ax)\n",
    "    mm.plot_array(kclay_tm, cmap=\"jet\")"
   ]
  },
  {
   "cell_type": "code",
   "execution_count": null,
   "metadata": {},
   "outputs": [],
   "source": [
    "top_tm = top_base.resample_to_grid(\n",
    "    vg_temp, band=top_base.bands[0], method=\"linear\", extrapolate_edges=True\n",
    ")\n",
    "top_tm[cells[\"ibound\"] == 3] = 10.0"
   ]
  },
  {
   "cell_type": "code",
   "execution_count": null,
   "metadata": {},
   "outputs": [],
   "source": [
    "struct_grid.extent"
   ]
  },
  {
   "cell_type": "code",
   "execution_count": null,
   "metadata": {},
   "outputs": [],
   "source": [
    "with styles.USGSMap():\n",
    "    fig = plt.figure(figsize=(15, 15))\n",
    "    ax = fig.add_subplot(1, 2, 1, aspect=\"equal\")\n",
    "    mm = flopy.plot.PlotMapView(modelgrid=struct_grid, ax=ax)\n",
    "    v = mm.plot_array(top_base.get_array(1), cmap=\"jet\")\n",
    "    mm.plot_grid(lw=0.5, color=\"0.5\")\n",
    "    ax.plot(\n",
    "        struct_grid.xcellcenters,\n",
    "        struct_grid.ycellcenters,\n",
    "        \"ko\",\n",
    "        markersize=0.75,\n",
    "    )\n",
    "    plt.colorbar(v, ax=ax, shrink=0.5)\n",
    "\n",
    "    ax = fig.add_subplot(1, 2, 2, aspect=\"equal\")\n",
    "    mm = flopy.plot.PlotMapView(modelgrid=vg_temp, ax=ax)\n",
    "    v = mm.plot_array(top_tm, cmap=\"jet\", masked_values=[1e30])\n",
    "    mm.plot_grid(lw=0.5, color=\"0.5\")\n",
    "    plt.colorbar(v, ax=ax, shrink=0.5);"
   ]
  },
  {
   "cell_type": "code",
   "execution_count": null,
   "metadata": {},
   "outputs": [],
   "source": [
    "bot_tm = bot.resample_to_grid(\n",
    "    vg_temp, band=bot.bands[0], method=\"linear\", extrapolate_edges=True\n",
    ")"
   ]
  },
  {
   "cell_type": "code",
   "execution_count": null,
   "metadata": {},
   "outputs": [],
   "source": [
    "with styles.USGSMap():\n",
    "    fig = plt.figure(figsize=(15, 15))\n",
    "    ax = fig.add_subplot(1, 2, 1, aspect=\"equal\")\n",
    "    mm = flopy.plot.PlotMapView(modelgrid=struct_grid, ax=ax)\n",
    "    v = mm.plot_array(bot.get_array(1), cmap=\"jet\")\n",
    "    mm.plot_grid(lw=0.5, color=\"0.5\")\n",
    "    ax.plot(\n",
    "        struct_grid.xcellcenters,\n",
    "        struct_grid.ycellcenters,\n",
    "        \"ko\",\n",
    "        markersize=0.75,\n",
    "    )\n",
    "    plt.colorbar(v, ax=ax, shrink=0.5)\n",
    "\n",
    "    ax = fig.add_subplot(1, 2, 2, aspect=\"equal\")\n",
    "    mm = flopy.plot.PlotMapView(modelgrid=vg_temp, ax=ax)\n",
    "    v = mm.plot_array(bot_tm, cmap=\"jet\", masked_values=[1e30])\n",
    "    mm.plot_grid(lw=0.5, color=\"0.5\")\n",
    "    plt.colorbar(v, ax=ax, shrink=0.5);"
   ]
  },
  {
   "cell_type": "markdown",
   "metadata": {},
   "source": [
    "## Intersect the Features with the Grid"
   ]
  },
  {
   "cell_type": "code",
   "execution_count": null,
   "metadata": {},
   "outputs": [],
   "source": [
    "ibd = cells[\"ibound\"]\n",
    "top = cells[\"elev\"]\n",
    "\n",
    "with styles.USGSMap():\n",
    "    fig = plt.figure(figsize=(15, 15), constrained_layout=True)\n",
    "    ax = fig.add_subplot(1, 2, 1, aspect=\"equal\")\n",
    "    mm = flopy.plot.PlotMapView(modelgrid=vg_temp, ax=ax)\n",
    "    mm.plot_array(ibd, cmap=\"jet\")\n",
    "\n",
    "    ax = fig.add_subplot(1, 2, 2, aspect=\"equal\")\n",
    "    mm = flopy.plot.PlotMapView(modelgrid=vg_temp, ax=ax)\n",
    "    v = mm.plot_array(top_tm, cmap=\"jet\")\n",
    "    cs = mm.contour_array(top_tm, colors=\"white\", levels=np.arange(5, 65, 5))\n",
    "    ax.clabel(cs, inline=1, fmt=\"%1.0f\", fontsize=10)\n",
    "    cb = plt.colorbar(v, shrink=0.5)"
   ]
  },
  {
   "cell_type": "markdown",
   "metadata": {},
   "source": [
    "#### Intersect straight river with grid"
   ]
  },
  {
   "cell_type": "code",
   "execution_count": null,
   "metadata": {},
   "outputs": [],
   "source": [
    "ixs = flopy.utils.GridIntersect(vg_temp, method=\"vertex\")\n",
    "vg_result = ixs.intersect(straight_river, sort_by_cellid=False)"
   ]
  },
  {
   "cell_type": "code",
   "execution_count": null,
   "metadata": {},
   "outputs": [],
   "source": [
    "vg_result.shape, vg_result[\"lengths\"].sum()"
   ]
  },
  {
   "cell_type": "code",
   "execution_count": null,
   "metadata": {},
   "outputs": [],
   "source": [
    "vg_result.sort(order=\"vertices\")\n",
    "vg_result.shape, vg_result[\"lengths\"].sum()"
   ]
  },
  {
   "cell_type": "code",
   "execution_count": null,
   "metadata": {},
   "outputs": [],
   "source": [
    "xcv, ycv = vg_temp.xcellcenters, vg_temp.ycellcenters\n",
    "xcv.shape, ycv.shape"
   ]
  },
  {
   "cell_type": "code",
   "execution_count": null,
   "metadata": {},
   "outputs": [],
   "source": [
    "vg_temp.ncpl"
   ]
  },
  {
   "cell_type": "markdown",
   "metadata": {},
   "source": [
    "## Set forcing data"
   ]
  },
  {
   "cell_type": "code",
   "execution_count": null,
   "metadata": {},
   "outputs": [],
   "source": [
    "rainfall = 0.00821918\n",
    "evaporation = 0.0062296\n",
    "net_rainfall = 0.003641"
   ]
  },
  {
   "cell_type": "markdown",
   "metadata": {},
   "source": [
    "## Build SFR, LAK, DRN, and WEL datasets\n",
    "\n",
    "SFR datasets"
   ]
  },
  {
   "cell_type": "code",
   "execution_count": null,
   "metadata": {},
   "outputs": [],
   "source": [
    "sfr_unit_conversion = 1.486 * 86400.0"
   ]
  },
  {
   "cell_type": "code",
   "execution_count": null,
   "metadata": {},
   "outputs": [],
   "source": [
    "sfr_plt_array = np.zeros(vg_temp.ncpl, dtype=int)"
   ]
  },
  {
   "cell_type": "code",
   "execution_count": null,
   "metadata": {},
   "outputs": [],
   "source": [
    "sfr_nodes = np.arange(0, vg_result.shape[0])\n",
    "gwf_nodes = vg_result[\"cellids\"][::-1]\n",
    "sfr_lengths = vg_result[\"lengths\"][::-1]"
   ]
  },
  {
   "cell_type": "code",
   "execution_count": null,
   "metadata": {},
   "outputs": [],
   "source": [
    "total_cond = 1800000.0\n",
    "sfr_width = 10.0\n",
    "sfr_bedthick = 1.0\n",
    "sfr_hk = total_cond * sfr_bedthick / (sfr_width * sfr_lengths.sum())\n",
    "sfr_hk"
   ]
  },
  {
   "cell_type": "code",
   "execution_count": null,
   "metadata": {},
   "outputs": [],
   "source": [
    "b0, b1 = -0.3, -2.05\n",
    "sfr_slope = -0.0002\n",
    "cum_dist = np.zeros(sfr_nodes.shape, dtype=float)\n",
    "cum_dist[0] = 0.5 * sfr_lengths[0]\n",
    "for idx in range(1, sfr_nodes.shape[0]):\n",
    "    cum_dist[idx] = cum_dist[idx - 1] + 0.5 * (\n",
    "        sfr_lengths[idx - 1] + sfr_lengths[idx]\n",
    "    )\n",
    "sfr_bot = b0 + sfr_slope * cum_dist\n",
    "cum_dist[-1], sfr_lengths.sum(), sfr_lengths[-1], sfr_bot[-1]"
   ]
  },
  {
   "cell_type": "code",
   "execution_count": null,
   "metadata": {},
   "outputs": [],
   "source": [
    "sfr_conn = []\n",
    "for idx, node in enumerate(sfr_nodes):\n",
    "    iconn = [node]\n",
    "    if idx > 0:\n",
    "        iconn.append(sfr_nodes[idx - 1])\n",
    "    if idx < sfr_nodes.shape[0] - 1:\n",
    "        iconn.append(-sfr_nodes[idx + 1])\n",
    "    sfr_conn.append(iconn)"
   ]
  },
  {
   "cell_type": "code",
   "execution_count": null,
   "metadata": {},
   "outputs": [],
   "source": [
    "# <rno> <cellid(ncelldim)> <rlen> <rwid> <rgrd> <rtp> <rbth> <rhk> <man> <ncon> <ustrf> <ndv>\n",
    "sfrpak_data = []\n",
    "for idx, (cellid, rlen, rtp) in enumerate(\n",
    "    zip(gwf_nodes, sfr_lengths, sfr_bot)\n",
    "):\n",
    "    sfr_plt_array[cellid] = 1\n",
    "    sfrpak_data.append(\n",
    "        (\n",
    "            idx,\n",
    "            (\n",
    "                0,\n",
    "                cellid,\n",
    "            ),\n",
    "            rlen,\n",
    "            sfr_width,\n",
    "            -sfr_slope,\n",
    "            rtp,\n",
    "            sfr_bedthick,\n",
    "            sfr_hk,\n",
    "            0.030,\n",
    "            (len(sfr_conn[idx]) - 1),\n",
    "            1.0,\n",
    "            0,\n",
    "        )\n",
    "    )\n",
    "sfrpak_data[-2:]"
   ]
  },
  {
   "cell_type": "code",
   "execution_count": null,
   "metadata": {},
   "outputs": [],
   "source": [
    "sfr_spd = [(node, \"rainfall\", rainfall) for node in sfr_nodes] + [\n",
    "    (node, \"evaporation\", evaporation) for node in sfr_nodes\n",
    "]"
   ]
  },
  {
   "cell_type": "markdown",
   "metadata": {},
   "source": [
    "LAK datasets"
   ]
  },
  {
   "cell_type": "code",
   "execution_count": null,
   "metadata": {},
   "outputs": [],
   "source": [
    "lak_length_conversion = 3.28081\n",
    "lak_time_conversion = 86400.0"
   ]
  },
  {
   "cell_type": "code",
   "execution_count": null,
   "metadata": {},
   "outputs": [],
   "source": [
    "iriv = 1\n",
    "iwel = 2\n",
    "ilak = 3\n",
    "\n",
    "lake_ic = 11.3\n",
    "idx = np.where(cells[\"ibound\"] == ilak)\n",
    "\n",
    "chdspd = [\n",
    "    [(0, ip1 - 1), 11.0]\n",
    "    for ip1, iv1, iv2, iv3, txt, ibound, elev in cells[idx]\n",
    "]\n",
    "\n",
    "lake_map = np.ones(ncpl, dtype=int) * -1\n",
    "lake_map[idx] = 0\n",
    "\n",
    "(idomain, lakpak_dict, lak_connections) = flopy.mf6.utils.get_lak_connections(\n",
    "    vg_temp,\n",
    "    lake_map,\n",
    "    bedleak=0.05,\n",
    ")\n",
    "\n",
    "lakpak_data = [(0, lake_ic, lakpak_dict[0])]\n",
    "lake_spd = [\n",
    "    (0, \"rainfall\", rainfall),\n",
    "    (0, \"evaporation\", evaporation),\n",
    "]"
   ]
  },
  {
   "cell_type": "code",
   "execution_count": null,
   "metadata": {},
   "outputs": [],
   "source": [
    "lake_ic, lakpak_data"
   ]
  },
  {
   "cell_type": "code",
   "execution_count": null,
   "metadata": {},
   "outputs": [],
   "source": [
    "lak_connections[0:10]"
   ]
  },
  {
   "cell_type": "markdown",
   "metadata": {},
   "source": [
    "DRN datasets"
   ]
  },
  {
   "attachments": {
    "9fbae466-7f60-4b04-9cbe-a24948c7f52c.png": {
     "image/png": "[encoded data removed]"
    },
    "c4c2f0b7-e5ba-4963-9b95-9d043bfcb268.png": {
     "image/png": "[encoded data removed]"
    }
   },
   "cell_type": "markdown",
   "metadata": {},
   "source": [
    "Area of a triangle from 3 points\n",
    "\n",
    "![image.png](attachment:c4c2f0b7-e5ba-4963-9b95-9d043bfcb268.png)\n",
    "\n",
    "![image.png](attachment:9fbae466-7f60-4b04-9cbe-a24948c7f52c.png)\n"
   ]
  },
  {
   "cell_type": "code",
   "execution_count": null,
   "metadata": {},
   "outputs": [],
   "source": [
    "areas = []\n",
    "for idx in range(vg_temp.ncpl):\n",
    "    (xa, ya), (xb, yb), (xc, yc) = vg_temp.get_cell_vertices(idx)\n",
    "    area = abs((xa * (yb - yc) + xb * (yc - ya) + xc * (ya - yb)) / 2)\n",
    "    areas.append(area)"
   ]
  },
  {
   "cell_type": "code",
   "execution_count": null,
   "metadata": {},
   "outputs": [],
   "source": [
    "(xa, ya), (xb, yb), (xc, yc) = vg_temp.get_cell_vertices(0)\n",
    "xa, xb, xc"
   ]
  },
  {
   "cell_type": "code",
   "execution_count": null,
   "metadata": {},
   "outputs": [],
   "source": [
    "drn_kv = 0.1\n",
    "drn_depth = 1.0\n",
    "drn_spd = []\n",
    "for idx, elev in enumerate(top_tm):\n",
    "    if idomain[0, idx] > 0:\n",
    "        cond = drn_kv * areas[idx] / drn_depth\n",
    "        drn_spd.append([(0, idx), elev, cond, -drn_depth])\n",
    "drn_spd[:10]"
   ]
  },
  {
   "cell_type": "markdown",
   "metadata": {},
   "source": [
    "WEL datasets"
   ]
  },
  {
   "cell_type": "code",
   "execution_count": null,
   "metadata": {},
   "outputs": [],
   "source": [
    "# first well is Virginia City well site 2\n",
    "# second well is Reilly well\n",
    "# third well is Virginia City well site 1\n",
    "idx = cells[\"ibound\"] == iwel\n",
    "boundname = [\"VC2\", \"Reilly\", \"VC1\"]\n",
    "rates = [-67000.0, -268000.0, -268000.0]\n",
    "welspd = [\n",
    "    [(4, ip1 - 1), 0.0] for ip1, iv1, iv2, iv3, txt, ibound, elev in cells[idx]\n",
    "]\n",
    "welspd = [\n",
    "    [cellid, rates[i], boundname[i]] for i, (cellid, rate) in enumerate(welspd)\n",
    "]\n",
    "welspd"
   ]
  },
  {
   "cell_type": "markdown",
   "metadata": {},
   "source": [
    "## Plot a series of grids"
   ]
  },
  {
   "cell_type": "code",
   "execution_count": null,
   "metadata": {},
   "outputs": [],
   "source": [
    "def add_subdomain(ax, xll, xur, yll, yur, lw=0.75, color=\"cyan\", text=\"B\"):\n",
    "    x = [xll, xll, xur, xur, xll]\n",
    "    y = [yll, yur, yur, yll, yll]\n",
    "    ax.plot(x, y, lw=lw, color=color)\n",
    "    styles.add_text(\n",
    "        ax=ax,\n",
    "        text=text,\n",
    "        x=xll,\n",
    "        y=yur,\n",
    "        color=color,\n",
    "        transform=False,\n",
    "        ha=\"right\",\n",
    "        va=\"bottom\",\n",
    "        italic=False,\n",
    "    )"
   ]
  },
  {
   "cell_type": "code",
   "execution_count": null,
   "metadata": {},
   "outputs": [],
   "source": [
    "def add_nodes(ax, xll, xur, yll, yur, edge=10.0, text_offset=2.0):\n",
    "    for idx, (x, y) in enumerate(zip(xcv, ycv)):\n",
    "        if x > xll and x < xur and y > yll and y < yur:\n",
    "            ax.plot(x, y, marker=\".\", markersize=6, color=\"black\")\n",
    "            if (\n",
    "                x > xll + edge\n",
    "                and x < xur - edge\n",
    "                and y > yll\n",
    "                and y < yur - edge\n",
    "            ):\n",
    "                xt = x\n",
    "                yt = y + text_offset\n",
    "                styles.add_text(\n",
    "                    ax=ax,\n",
    "                    x=xt,\n",
    "                    y=yt,\n",
    "                    text=\"{}\".format(idx),\n",
    "                    bold=False,\n",
    "                    transform=False,\n",
    "                    ha=\"center\",\n",
    "                    va=\"bottom\",\n",
    "                    fontsize=6,\n",
    "                )"
   ]
  },
  {
   "cell_type": "raw",
   "metadata": {},
   "source": [
    "Well location data for plotting"
   ]
  },
  {
   "cell_type": "code",
   "execution_count": null,
   "metadata": {},
   "outputs": [],
   "source": [
    "well_locx, well_locy = [], []\n",
    "for cellid, q, boundname in welspd:\n",
    "    k, node = cellid\n",
    "    x, y = vg_temp.xcellcenters[node], vg_temp.ycellcenters[node]\n",
    "    well_locx.append(x)\n",
    "    well_locy.append(y)\n",
    "well_locx, well_locy"
   ]
  },
  {
   "cell_type": "code",
   "execution_count": null,
   "metadata": {},
   "outputs": [],
   "source": [
    "dv = 100.0\n",
    "cmap = \"viridis\"\n",
    "\n",
    "with styles.USGSMap():\n",
    "    fig = plt.figure(figsize=(10, 8), constrained_layout=True)\n",
    "    gs = gridspec.GridSpec(ncols=2, nrows=2, figure=fig)\n",
    "    ax0 = fig.add_subplot(gs[:, 0])\n",
    "    ax1 = fig.add_subplot(gs[0, 1])\n",
    "    ax2 = fig.add_subplot(gs[1, 1], sharex=ax1)\n",
    "\n",
    "    ax = ax0\n",
    "    ax.set_aspect(\"equal\", \"box\")\n",
    "    mm = flopy.plot.PlotMapView(modelgrid=vg_temp, ax=ax)\n",
    "    #     mm.plot_grid(lw=0.5, color=\"black\")\n",
    "    mm.plot_array(\n",
    "        idomain,\n",
    "        masked_values=[\n",
    "            1,\n",
    "        ],\n",
    "        lw=0.5,\n",
    "        color=\"black\",\n",
    "        cmap=\"jet\",\n",
    "    )\n",
    "    ixs.plot_linestring(vg_result, ax=ax, linewidth=2.25, color=\"cyan\")\n",
    "    ax.plot(well_locx, well_locy, marker=\".\", color=\"red\", markersize=10, lw=0)\n",
    "    ax.set_xlabel(\"x-coordinate\")\n",
    "    ax.set_ylabel(\"y-coordinate\")\n",
    "    styles.heading(ax=ax, idx=0)\n",
    "\n",
    "    ax = ax1\n",
    "    ax.set_aspect(\"equal\", \"box\")\n",
    "    plt.setp(ax.get_xticklabels(), visible=False)\n",
    "    iw = 42.85  # 44.2\n",
    "    xll, xur = x0 - dv, x1 + dv\n",
    "    yll, yur = y1 + iw * 2 * dv, y1 + (iw + 1) * 2 * dv\n",
    "    add_subdomain(ax0, xll, xur, yll, yur, text=\"B\")\n",
    "    mm = flopy.plot.PlotMapView(\n",
    "        modelgrid=vg_temp, ax=ax, extent=(xll, xur, yll, yur)\n",
    "    )\n",
    "    mm.plot_array(sfr_plt_array, color=\"blue\", alpha=0.5, masked_values=[0])\n",
    "    mm.plot_grid(lw=0.5, color=\"black\")\n",
    "    ixs.plot_linestring(vg_result, ax=ax, linewidth=2.25, color=\"cyan\")\n",
    "    add_nodes(ax, xll, xur, yll, yur)\n",
    "    ax.set_xlabel(\"x-coordinate\")\n",
    "    ax.set_ylabel(\"y-coordinate\")\n",
    "    styles.heading(ax=ax, idx=1)\n",
    "\n",
    "    ax = ax2\n",
    "    ax.set_aspect(\"equal\", \"box\")\n",
    "    iw = 0.0  # 44.2\n",
    "    xll, xur = x0 - dv, x1 + dv\n",
    "    yll, yur = y1 + iw * 2 * dv, y1 + (iw + 1) * 2 * dv\n",
    "    add_subdomain(ax0, xll, xur, yll, yur, text=\"C\")\n",
    "    mm = flopy.plot.PlotMapView(\n",
    "        modelgrid=vg_temp, ax=ax, extent=(xll, xur, yll, yur)\n",
    "    )\n",
    "    mm.plot_array(sfr_plt_array, color=\"blue\", alpha=0.5, masked_values=[0])\n",
    "    mm.plot_grid(lw=0.5, color=\"black\")\n",
    "    ixs.plot_linestring(vg_result, ax=ax, lw=2.25, color=\"cyan\")\n",
    "    add_nodes(ax, xll, xur, yll, yur)\n",
    "    ax.set_xlabel(\"x-coordinate\")\n",
    "    ax.set_ylabel(\"y-coordinate\")\n",
    "    styles.heading(ax=ax, idx=2)\n",
    "\n",
    "    fpth = \"figures/river_discretization.png\"\n",
    "    plt.savefig(fpth, dpi=300);"
   ]
  },
  {
   "cell_type": "markdown",
   "metadata": {},
   "source": [
    "## Build the Model"
   ]
  },
  {
   "cell_type": "code",
   "execution_count": null,
   "metadata": {},
   "outputs": [],
   "source": [
    "ws = \"./temp/mvmodel\"\n",
    "name = \"mv\"\n",
    "sim = flopy.mf6.MFSimulation(sim_ws=ws, sim_name=name, exe_name=exe_name)\n",
    "tdis = flopy.mf6.ModflowTdis(sim, time_units=\"days\")\n",
    "ims = flopy.mf6.ModflowIms(\n",
    "    sim,\n",
    "    print_option=\"all\",\n",
    "    complexity=\"complex\",\n",
    "    # under_relaxation=\"simple\",\n",
    "    # under_relaxation_gamma=0.90,\n",
    "    outer_dvclose=1e-3,\n",
    "    outer_maximum=200,\n",
    "    linear_acceleration=\"bicgstab\",\n",
    "    inner_dvclose=1e-4,\n",
    "    inner_maximum=200,\n",
    "    rcloserecord=\"1e-2 strict\",\n",
    "    #     preconditioner_levels=8,\n",
    "    #     preconditioner_drop_tolerance=1e-4,\n",
    ")\n",
    "gwf = flopy.mf6.ModflowGwf(\n",
    "    sim,\n",
    "    modelname=name,\n",
    "    save_flows=True,\n",
    "    newtonoptions=\"NEWTON UNDER_RELAXATION\",\n",
    ")\n",
    "dis = flopy.mf6.ModflowGwfdisv(\n",
    "    gwf,\n",
    "    nlay=nlay,\n",
    "    ncpl=vg_temp.ncpl,\n",
    "    nvert=vg_temp.nvert,\n",
    "    top=top_tm,\n",
    "    botm=[-5, -50, -51, -100.0, bot_tm],\n",
    "    vertices=vertices,\n",
    "    cell2d=cell2d,\n",
    ")\n",
    "ic = flopy.mf6.ModflowGwfic(gwf, strt=11.0)\n",
    "npf = flopy.mf6.ModflowGwfnpf(\n",
    "    gwf,\n",
    "    xt3doptions=True,\n",
    "    save_specific_discharge=True,\n",
    "    icelltype=[1, 0, 0, 0, 0],\n",
    "    k=[kaq_tm, kaq_tm, kclay_tm, kaq_tm, kaq_tm],\n",
    "    k33=[0.25 * kaq_tm, 0.25 * kaq_tm, kclay_tm, 0.25 * kaq_tm, 0.25 * kaq_tm],\n",
    ")\n",
    "# chd = flopy.mf6.ModflowGwfchd(gwf, stress_period_data=chdspd)\n",
    "rch = flopy.mf6.ModflowGwfrcha(gwf, recharge=rainfall)\n",
    "evt = flopy.mf6.ModflowGwfevta(\n",
    "    gwf, surface=cells[\"elev\"], rate=evaporation, depth=1.0\n",
    ")\n",
    "# riv = flopy.mf6.ModflowGwfriv(gwf, stress_period_data=rivspd)\n",
    "wel = flopy.mf6.ModflowGwfwel(gwf, stress_period_data=welspd, boundnames=True)\n",
    "drn = flopy.mf6.ModflowGwfdrn(\n",
    "    gwf,\n",
    "    auxiliary=[\"depth\"],\n",
    "    auxdepthname=\"depth\",\n",
    "    stress_period_data=drn_spd,\n",
    ")\n",
    "sfr = flopy.mf6.ModflowGwfsfr(\n",
    "    gwf,\n",
    "    print_stage=True,\n",
    "    print_flows=True,\n",
    "    unit_conversion=sfr_unit_conversion,\n",
    "    stage_filerecord=\"{}.sfr.stage.bin\".format(name),\n",
    "    budget_filerecord=\"{}.sfr.cbc\".format(name),\n",
    "    nreaches=len(sfrpak_data),\n",
    "    packagedata=sfrpak_data,\n",
    "    connectiondata=sfr_conn,\n",
    "    perioddata=sfr_spd,\n",
    ")\n",
    "lak = flopy.mf6.ModflowGwflak(\n",
    "    gwf,\n",
    "    time_conversion=lak_time_conversion,\n",
    "    length_conversion=lak_length_conversion,\n",
    "    print_stage=True,\n",
    "    print_flows=True,\n",
    "    stage_filerecord=\"{}.lak.stage.bin\".format(name),\n",
    "    budget_filerecord=\"{}.lak.cbc\".format(name),\n",
    "    nlakes=1,\n",
    "    packagedata=lakpak_data,\n",
    "    connectiondata=lak_connections,\n",
    "    perioddata=lake_spd,\n",
    ")\n",
    "oc = flopy.mf6.ModflowGwfoc(\n",
    "    gwf,\n",
    "    head_filerecord=name + \".hds\",\n",
    "    budget_filerecord=name + \".bud\",\n",
    "    saverecord=[(\"HEAD\", \"ALL\"), (\"BUDGET\", \"ALL\")],\n",
    "    printrecord=[(\"BUDGET\", \"ALL\")],\n",
    ")\n",
    "# write the model datasets\n",
    "sim.write_simulation()\n",
    "\n",
    "# run the model\n",
    "success = sim.run_simulation()"
   ]
  },
  {
   "cell_type": "code",
   "execution_count": null,
   "metadata": {},
   "outputs": [],
   "source": []
  }
 ],
 "metadata": {
  "kernelspec": {
   "display_name": "Python 3 (ipykernel)",
   "language": "python",
   "name": "python3"
  },
  "language_info": {
   "codemirror_mode": {
    "name": "ipython",
    "version": 3
   },
   "file_extension": ".py",
   "mimetype": "text/x-python",
   "name": "python",
   "nbconvert_exporter": "python",
   "pygments_lexer": "ipython3",
   "version": "3.9.12"
  }
 },
 "nbformat": 4,
 "nbformat_minor": 4
}
