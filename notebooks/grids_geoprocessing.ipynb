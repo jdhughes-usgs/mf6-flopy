{
 "cells": [
  {
   "cell_type": "markdown",
   "metadata": {},
   "source": [
    "# FloPy Model Grids - Geoprocessing"
   ]
  },
  {
   "cell_type": "markdown",
   "metadata": {},
   "source": [
    "## Notebook Setup"
   ]
  },
  {
   "cell_type": "code",
   "execution_count": null,
   "metadata": {
    "scrolled": true
   },
   "outputs": [],
   "source": [
    "import os\n",
    "import sys\n",
    "import numpy as np\n",
    "import matplotlib as mpl\n",
    "import matplotlib.pyplot as plt\n",
    "import matplotlib.gridspec as gridspec\n",
    "from shapely.geometry import Polygon, LineString\n",
    "import flopy\n",
    "from flopy.discretization import StructuredGrid, VertexGrid\n",
    "from flopy.utils.triangle import Triangle\n",
    "from flopy.utils.voronoi import VoronoiGrid\n",
    "from flopy.utils.gridgen import Gridgen\n",
    "import flopy.plot.styles as styles"
   ]
  },
  {
   "cell_type": "code",
   "execution_count": null,
   "metadata": {
    "scrolled": true
   },
   "outputs": [],
   "source": [
    "# import all plot style information from defaults.py\n",
    "from defaults import *"
   ]
  },
  {
   "cell_type": "code",
   "execution_count": null,
   "metadata": {
    "scrolled": true
   },
   "outputs": [],
   "source": [
    "fine_topo = flopy.utils.Raster.load(\"./grid_data/fine_topo.asc\")"
   ]
  },
  {
   "cell_type": "code",
   "execution_count": null,
   "metadata": {
    "scrolled": true
   },
   "outputs": [],
   "source": [
    "fine_topo.plot()"
   ]
  },
  {
   "cell_type": "code",
   "execution_count": null,
   "metadata": {
    "scrolled": true
   },
   "outputs": [],
   "source": [
    "Lx = 180000\n",
    "Ly = 100000\n",
    "extent = (0, Lx, 0, Ly)\n",
    "levels = np.arange(10, 110, 10)\n",
    "vmin, vmax = 0.0, 100.0"
   ]
  },
  {
   "cell_type": "code",
   "execution_count": null,
   "metadata": {
    "scrolled": true
   },
   "outputs": [],
   "source": [
    "temp_path = \"./temp\"\n",
    "if not os.path.isdir(temp_path):\n",
    "    os.mkdir(temp_path)"
   ]
  },
  {
   "cell_type": "code",
   "execution_count": null,
   "metadata": {
    "scrolled": true
   },
   "outputs": [],
   "source": [
    "figwidth = 180  # 90 # mm\n",
    "figwidth = figwidth / 10 / 2.54  # inches\n",
    "figheight = figwidth\n",
    "figsize = (figwidth, figheight)"
   ]
  },
  {
   "cell_type": "markdown",
   "metadata": {},
   "source": [
    "# Basin Example"
   ]
  },
  {
   "cell_type": "code",
   "execution_count": null,
   "metadata": {
    "scrolled": true
   },
   "outputs": [],
   "source": [
    "boundary_polygon = string2geom(boundary)\n",
    "print(\"len boundary\", len(boundary_polygon))\n",
    "bp = np.array(boundary_polygon)\n",
    "\n",
    "sgs = [\n",
    "    string2geom(sg) for sg in (streamseg1, streamseg2, streamseg3, streamseg4)\n",
    "]\n",
    "\n",
    "fig = plt.figure(figsize=(15, 10))\n",
    "ax = fig.add_subplot()\n",
    "ax.set_aspect(\"equal\")\n",
    "\n",
    "riv_colors = (\"blue\", \"cyan\", \"green\", \"orange\", \"red\")\n",
    "\n",
    "ax.plot(bp[:, 0], bp[:, 1], \"ko-\")\n",
    "for idx, sg in enumerate(sgs):\n",
    "    print(\"Len segment: \", len(sg))\n",
    "    sa = np.array(sg)\n",
    "    ax.plot(sa[:, 0], sa[:, 1], color=riv_colors[idx], lw=0.75, marker=\"o\")"
   ]
  },
  {
   "cell_type": "code",
   "execution_count": null,
   "metadata": {
    "scrolled": true
   },
   "outputs": [],
   "source": [
    "# Create a regular MODFLOW grid\n",
    "\n",
    "dx = dy = 2000\n",
    "nrow = int(Ly / dy)\n",
    "ncol = int(Lx / dx)\n",
    "print(Lx, Ly, nrow, ncol)\n",
    "delr = np.array(ncol * [dx])\n",
    "delc = np.array(nrow * [dy])\n",
    "regular_grid = StructuredGrid(delr=delr, delc=delc, xoff=0.0, yoff=0.0)\n",
    "\n",
    "fig = plt.figure(figsize=figsize)\n",
    "ax = fig.add_subplot()\n",
    "ax.set_aspect(\"equal\")\n",
    "regular_grid.plot(ax=ax)\n",
    "ax.plot(bp[:, 0], bp[:, 1], \"k-\")\n",
    "for sg in sgs:\n",
    "    sa = np.array(sg)\n",
    "    ax.plot(sa[:, 0], sa[:, 1], \"b-\")"
   ]
  },
  {
   "cell_type": "code",
   "execution_count": null,
   "metadata": {
    "scrolled": true
   },
   "outputs": [],
   "source": [
    "def set_idomain(grid, boundary):\n",
    "    from flopy.utils.gridintersect import GridIntersect\n",
    "    from shapely.geometry import Polygon\n",
    "\n",
    "    ix = GridIntersect(grid, method=\"vertex\", rtree=True)\n",
    "    result = ix.intersect(Polygon(boundary))\n",
    "    idx = [coords for coords in result.cellids]\n",
    "    idx = np.array(idx, dtype=int)\n",
    "    nr = idx.shape[0]\n",
    "    if idx.ndim == 1:\n",
    "        idx = idx.reshape((nr, 1))\n",
    "    print(idx.shape, idx.ndim)\n",
    "    idx = tuple([idx[:, i] for i in range(idx.shape[1])])\n",
    "    # idx = (idx[:, 0], idx[:, 1])\n",
    "    idomain = np.zeros(grid.shape[1:], dtype=int)\n",
    "    idomain[idx] = 1\n",
    "    idomain = idomain.reshape(grid.shape)\n",
    "    grid.idomain = idomain"
   ]
  },
  {
   "cell_type": "code",
   "execution_count": null,
   "metadata": {
    "scrolled": true
   },
   "outputs": [],
   "source": [
    "# Create a regular MODFLOW grid\n",
    "Lx = 180000\n",
    "Ly = 100000\n",
    "dx = dy = 1666.66666667\n",
    "nlay = 1\n",
    "nrow = int(Ly / dy) + 1\n",
    "ncol = int(Lx / dx) + 1\n",
    "print(Lx, Ly, nrow, ncol)\n",
    "delr = np.array(ncol * [dx])\n",
    "delc = np.array(nrow * [dy])\n",
    "top = np.ones((nrow, ncol)) * 1000.0\n",
    "botm = np.ones((nlay, nrow, ncol)) * -100.0\n",
    "regular_grid = StructuredGrid(\n",
    "    nlay=nlay, delr=delr, delc=delc, xoff=0.0, yoff=0.0, top=top, botm=botm\n",
    ")\n",
    "\n",
    "set_idomain(regular_grid, boundary_polygon)"
   ]
  },
  {
   "cell_type": "code",
   "execution_count": null,
   "metadata": {
    "scrolled": true
   },
   "outputs": [],
   "source": [
    "top_rg = fine_topo.resample_to_grid(\n",
    "    regular_grid,\n",
    "    band=fine_topo.bands[0],\n",
    "    method=\"linear\",\n",
    "    extrapolate_edges=True,\n",
    ")"
   ]
  },
  {
   "cell_type": "code",
   "execution_count": null,
   "metadata": {
    "scrolled": true
   },
   "outputs": [],
   "source": [
    "regular_grid.shape"
   ]
  },
  {
   "cell_type": "code",
   "execution_count": null,
   "metadata": {
    "scrolled": true
   },
   "outputs": [],
   "source": [
    "ixs = flopy.utils.GridIntersect(regular_grid, method=\"structured\")\n",
    "cellids = []\n",
    "for sg in sgs:\n",
    "    v = ixs.intersect(LineString(sg), sort_by_cellid=True)\n",
    "    cellids += v[\"cellids\"].tolist()\n",
    "intersection_rg = np.zeros(regular_grid.shape[1:])\n",
    "for loc in cellids:\n",
    "    intersection_rg[loc] = 1"
   ]
  },
  {
   "cell_type": "code",
   "execution_count": null,
   "metadata": {
    "scrolled": true
   },
   "outputs": [],
   "source": [
    "fig = plt.figure(figsize=figsize)\n",
    "ax = fig.add_subplot()\n",
    "pmv = flopy.plot.PlotMapView(modelgrid=regular_grid)\n",
    "ax.set_aspect(\"equal\")\n",
    "pmv.plot_array(top_rg)\n",
    "pmv.plot_array(\n",
    "    intersection_rg,\n",
    "    masked_values=[\n",
    "        0,\n",
    "    ],\n",
    "    alpha=0.2,\n",
    "    cmap=\"Reds_r\",\n",
    ")\n",
    "pmv.plot_grid(lw=0.25, color=\"0.5\")\n",
    "pmv.plot_inactive()\n",
    "# regular_grid.plot(ax=ax, )\n",
    "ax.plot(bp[:, 0], bp[:, 1], \"k-\")\n",
    "for sg in sgs:\n",
    "    sa = np.array(sg)\n",
    "    ax.plot(sa[:, 0], sa[:, 1], \"b-\")"
   ]
  },
  {
   "cell_type": "code",
   "execution_count": null,
   "metadata": {
    "scrolled": true
   },
   "outputs": [],
   "source": [
    "# Create an irregular MODFLOW grid\n",
    "Lx = 180000\n",
    "Ly = 100000\n",
    "dx = dy = 5000"
   ]
  },
  {
   "cell_type": "code",
   "execution_count": null,
   "metadata": {
    "scrolled": true
   },
   "outputs": [],
   "source": [
    "# create transition cells\n",
    "multiplier = 1.175\n",
    "transition = 20000.\n",
    "ncells = 7\n",
    "smoothr = [transition*(multiplier - 1.) / (multiplier**float(ncells) - 1.)]\n",
    "for i in range(ncells - 1):\n",
    "    smoothr.append(smoothr[i]*multiplier)\n",
    "smooth = smoothr.copy()\n",
    "smooth.reverse()"
   ]
  },
  {
   "cell_type": "code",
   "execution_count": null,
   "metadata": {
    "scrolled": true
   },
   "outputs": [],
   "source": [
    "# build the irregular grid\n",
    "dx = 9 * [5000] + smooth + 15 * [1666.66666667] + smoothr + 14 * [5000]\n",
    "dy = 4 * [5000] + smooth + 12 * [1666.66666667] + smoothr + 4 * [5000]\n",
    "\n",
    "nlay = 1\n",
    "ncol = len(dx)\n",
    "nrow = len(dy)\n",
    "\n",
    "top = np.ones((nrow, ncol)) * 1000.0\n",
    "botm = np.ones((nlay, nrow, ncol)) * -100.0\n",
    "\n",
    "delr = np.array(dx)\n",
    "delc = np.array(dy)\n",
    "irregular_grid = StructuredGrid(\n",
    "    nlay=nlay, delr=delr, delc=delc, xoff=0.0, yoff=0.0, top=top, botm=botm\n",
    ")\n",
    "set_idomain(irregular_grid, boundary_polygon)"
   ]
  },
  {
   "cell_type": "code",
   "execution_count": null,
   "metadata": {
    "scrolled": true
   },
   "outputs": [],
   "source": [
    "top_ig = fine_topo.resample_to_grid(\n",
    "    irregular_grid,\n",
    "    band=fine_topo.bands[0],\n",
    "    method=\"linear\",\n",
    "    extrapolate_edges=True,\n",
    ")"
   ]
  },
  {
   "cell_type": "code",
   "execution_count": null,
   "metadata": {
    "scrolled": true
   },
   "outputs": [],
   "source": [
    "ixs = flopy.utils.GridIntersect(irregular_grid, method=\"structured\")\n",
    "cellids = []\n",
    "for sg in sgs:\n",
    "    v = ixs.intersect(LineString(sg), sort_by_cellid=True)\n",
    "    cellids += v[\"cellids\"].tolist()\n",
    "intersection_ig = np.zeros(irregular_grid.shape[1:])\n",
    "for loc in cellids:\n",
    "    intersection_ig[loc] = 1"
   ]
  },
  {
   "cell_type": "code",
   "execution_count": null,
   "metadata": {
    "scrolled": true
   },
   "outputs": [],
   "source": [
    "fig = plt.figure(figsize=figsize)\n",
    "ax = fig.add_subplot()\n",
    "pmv = flopy.plot.PlotMapView(modelgrid=irregular_grid)\n",
    "ax.set_aspect(\"equal\")\n",
    "pmv.plot_array(top_ig)\n",
    "pmv.plot_array(\n",
    "    intersection_ig,\n",
    "    masked_values=[\n",
    "        0,\n",
    "    ],\n",
    "    alpha=0.2,\n",
    "    cmap=\"Reds_r\",\n",
    ")\n",
    "# pmv.plot_grid()\n",
    "pmv.plot_inactive()\n",
    "# regular_grid.plot(ax=ax, )\n",
    "ax.plot(bp[:, 0], bp[:, 1], \"k-\")\n",
    "for sg in sgs:\n",
    "    sa = np.array(sg)\n",
    "    ax.plot(sa[:, 0], sa[:, 1], \"b-\", alpha=0.2)"
   ]
  },
  {
   "cell_type": "code",
   "execution_count": null,
   "metadata": {
    "scrolled": true
   },
   "outputs": [],
   "source": [
    "# nested grid\n",
    "from flopy.utils.lgrutil import Lgr\n",
    "\n",
    "nlayp = 1\n",
    "dx = 5000\n",
    "nrowp = int(Ly / dx)\n",
    "ncolp = int(Lx / dx)\n",
    "delrp = dx\n",
    "delcp = dx\n",
    "# topp = 1000.0\n",
    "# botmp = [-100.]\n",
    "topp = np.ones((nrowp, ncolp)) * 1000.0\n",
    "botmp = np.ones((nlayp, nrowp, ncolp)) * -100.0\n",
    "\n",
    "idomainp = np.ones((nlayp, nrowp, ncolp), dtype=int)\n",
    "idomainp[0, 8:12, 13:18] = 0\n",
    "\n",
    "ncpp = 3\n",
    "ncppl = [1]\n",
    "\n",
    "lgr = Lgr(\n",
    "    nlayp,\n",
    "    nrowp,\n",
    "    ncolp,\n",
    "    delrp,\n",
    "    delcp,\n",
    "    topp,\n",
    "    botmp,\n",
    "    idomainp,\n",
    "    ncpp=ncpp,\n",
    "    ncppl=ncppl,\n",
    "    xllp=0.0,\n",
    "    yllp=0.0,\n",
    ")\n",
    "\n",
    "delr = np.array(ncolp * [dx])\n",
    "delc = np.array(nrowp * [dx])\n",
    "regular_gridp = StructuredGrid(\n",
    "    nlay=1, delr=delr, delc=delc, idomain=idomainp, top=topp, botm=botmp\n",
    ")\n",
    "set_idomain(regular_gridp, boundary_polygon)\n",
    "\n",
    "delr_child, delc_child = lgr.get_delr_delc()\n",
    "xoff, yoff = lgr.get_lower_left()\n",
    "nrowc, ncolc = delc_child.shape[0], delr_child.shape[0]\n",
    "topc = np.ones((nrowc, ncolc)) * 1000.0\n",
    "botmc = np.ones((nlayp, nrowc, ncolc)) * -100.0\n",
    "regular_gridc = StructuredGrid(\n",
    "    delr=delr_child,\n",
    "    delc=delc_child,\n",
    "    xoff=xoff,\n",
    "    yoff=yoff,\n",
    "    idomain=idomainp,\n",
    "    top=topc,\n",
    "    botm=botmc,\n",
    ")\n",
    "\n",
    "extent_child = regular_gridc.extent\n",
    "\n",
    "nested_grid = [regular_gridp, regular_gridc]"
   ]
  },
  {
   "cell_type": "code",
   "execution_count": null,
   "metadata": {
    "scrolled": true
   },
   "outputs": [],
   "source": [
    "top_ngp = fine_topo.resample_to_grid(\n",
    "    regular_gridp,\n",
    "    band=fine_topo.bands[0],\n",
    "    method=\"linear\",\n",
    "    extrapolate_edges=True,\n",
    ")\n",
    "top_ngc = fine_topo.resample_to_grid(\n",
    "    regular_gridc,\n",
    "    band=fine_topo.bands[0],\n",
    "    method=\"linear\",\n",
    "    extrapolate_edges=True,\n",
    ")\n",
    "top_nested_grid = [top_ngp, top_ngc]"
   ]
  },
  {
   "cell_type": "code",
   "execution_count": null,
   "metadata": {
    "scrolled": true
   },
   "outputs": [],
   "source": [
    "ixs = flopy.utils.GridIntersect(regular_gridp, method=\"structured\")\n",
    "cellids = []\n",
    "for sg in sgs:\n",
    "    v = ixs.intersect(LineString(sg), sort_by_cellid=True)\n",
    "    cellids += v[\"cellids\"].tolist()\n",
    "intersection_ngp = np.zeros(regular_gridp.shape[1:])\n",
    "for loc in cellids:\n",
    "    intersection_ngp[loc] = 1\n",
    "intersection_ngp[idomainp[0] == 0] = 0\n",
    "\n",
    "ixs = flopy.utils.GridIntersect(regular_gridc, method=\"structured\")\n",
    "cellids = []\n",
    "for sg in sgs:\n",
    "    v = ixs.intersect(LineString(sg), sort_by_cellid=True)\n",
    "    cellids += v[\"cellids\"].tolist()\n",
    "intersection_ngc = np.zeros(regular_gridc.shape[1:])\n",
    "for loc in cellids:\n",
    "    intersection_ngc[loc] = 1\n",
    "\n",
    "intersection_nested_grid = [intersection_ngp, intersection_ngc]"
   ]
  },
  {
   "cell_type": "code",
   "execution_count": null,
   "metadata": {
    "scrolled": true
   },
   "outputs": [],
   "source": [
    "fig = plt.figure(figsize=figsize)\n",
    "ax = fig.add_subplot()\n",
    "pmv = flopy.plot.PlotMapView(modelgrid=regular_gridp, extent=extent)\n",
    "pmv.plot_inactive()\n",
    "pmv.plot_array(top_ngp, vmin=vmin, vmax=vmax)\n",
    "pmv.plot_array(\n",
    "    intersection_nested_grid[0],\n",
    "    masked_values=[\n",
    "        0,\n",
    "    ],\n",
    "    alpha=0.2,\n",
    "    cmap=\"Reds_r\",\n",
    ")\n",
    "cgp = pmv.contour_array(top_ngp, levels=levels, linewidths=0.3, colors=\"0.75\")\n",
    "pmv.plot_inactive(zorder=100)\n",
    "ax.set_aspect(\"equal\")\n",
    "# extent = pmv.extent\n",
    "\n",
    "pmvc = flopy.plot.PlotMapView(modelgrid=regular_gridc, ax=ax, extent=extent)\n",
    "# pmvc.plot_grid()\n",
    "pmvc.plot_array(top_ngc, vmin=vmin, vmax=vmax)\n",
    "pmvc.plot_array(\n",
    "    intersection_nested_grid[1],\n",
    "    masked_values=[\n",
    "        0,\n",
    "    ],\n",
    "    alpha=0.2,\n",
    "    cmap=\"Reds_r\",\n",
    ")\n",
    "cgc = pmvc.contour_array(top_ngc, levels=levels, linewidths=0.3, colors=\"0.75\")\n",
    "\n",
    "# regular_gridp.plot(ax=ax)\n",
    "\n",
    "ax.plot(bp[:, 0], bp[:, 1], \"k-\")\n",
    "for sg in sgs:\n",
    "    sa = np.array(sg)\n",
    "    ax.plot(sa[:, 0], sa[:, 1], \"b-\")"
   ]
  },
  {
   "cell_type": "code",
   "execution_count": null,
   "metadata": {
    "scrolled": true
   },
   "outputs": [],
   "source": [
    "# create a polygon of the common refinement area for the quadtree grid\n",
    "lgr_poly = [\n",
    "    [\n",
    "        (extent_child[0], extent_child[2]),\n",
    "        (extent_child[0], extent_child[3]),\n",
    "        (extent_child[1], extent_child[3]),\n",
    "        (extent_child[1], extent_child[2]),\n",
    "        (extent_child[0], extent_child[2]),\n",
    "    ]\n",
    "]\n",
    "lgr_poly"
   ]
  },
  {
   "cell_type": "code",
   "execution_count": null,
   "metadata": {
    "scrolled": true
   },
   "outputs": [],
   "source": [
    "# quadtree grid\n",
    "sim = flopy.mf6.MFSimulation()\n",
    "gwf = gwf = flopy.mf6.ModflowGwf(sim)\n",
    "dx = dy = 5000.0\n",
    "nr = int(Ly / dy)\n",
    "nc = int(Lx / dx)\n",
    "dis6 = flopy.mf6.ModflowGwfdis(\n",
    "    gwf,\n",
    "    nrow=nr,\n",
    "    ncol=nc,\n",
    "    delr=dy,\n",
    "    delc=dx,\n",
    ")\n",
    "g = Gridgen(gwf.modelgrid, model_ws=temp_path)\n",
    "adpoly = [\n",
    "    [[(1000, 1000), (3000, 1000), (3000, 2000), (1000, 2000), (1000, 1000)]]\n",
    "]\n",
    "adpoly = boundary_polygon + [boundary_polygon[0]]\n",
    "adpoly = [[adpoly]]\n",
    "g.add_refinement_features([lgr_poly], \"polygon\", 2, range(1))\n",
    "\n",
    "refine_line = sgs\n",
    "g.add_refinement_features(refine_line, \"line\", 2, range(1))\n",
    "g.build(verbose=False)\n",
    "\n",
    "gridprops_vg = g.get_gridprops_vertexgrid()\n",
    "quadtree_grid = flopy.discretization.VertexGrid(**gridprops_vg)\n",
    "set_idomain(quadtree_grid, boundary_polygon)"
   ]
  },
  {
   "cell_type": "code",
   "execution_count": null,
   "metadata": {
    "scrolled": true
   },
   "outputs": [],
   "source": [
    "top_qg = fine_topo.resample_to_grid(\n",
    "    quadtree_grid,\n",
    "    band=fine_topo.bands[0],\n",
    "    method=\"linear\",\n",
    "    extrapolate_edges=True,\n",
    ")"
   ]
  },
  {
   "cell_type": "code",
   "execution_count": null,
   "metadata": {
    "scrolled": true
   },
   "outputs": [],
   "source": [
    "ixs = flopy.utils.GridIntersect(quadtree_grid, method=\"vertex\")\n",
    "cellids = []\n",
    "for sg in sgs:\n",
    "    v = ixs.intersect(LineString(sg), sort_by_cellid=True)\n",
    "    cellids += v[\"cellids\"].tolist()\n",
    "intersection_qg = np.zeros(quadtree_grid.shape[1:])\n",
    "for loc in cellids:\n",
    "    intersection_qg[loc] = 1"
   ]
  },
  {
   "cell_type": "code",
   "execution_count": null,
   "metadata": {
    "scrolled": true
   },
   "outputs": [],
   "source": [
    "fig = plt.figure(figsize=figsize)\n",
    "ax = fig.add_subplot()\n",
    "pmv = flopy.plot.PlotMapView(modelgrid=quadtree_grid)\n",
    "# pmv.plot_grid()\n",
    "pmv.plot_array(top_qg, ec=\"0.75\")\n",
    "pmv.plot_array(\n",
    "    intersection_qg,\n",
    "    masked_values=[\n",
    "        0,\n",
    "    ],\n",
    "    alpha=0.2,\n",
    "    cmap=\"Reds_r\",\n",
    ")\n",
    "cg = pmv.contour_array(top_qg, levels=levels, linewidths=0.3, colors=\"white\")\n",
    "pmv.plot_inactive(zorder=100)\n",
    "ax.set_aspect(\"equal\")\n",
    "# quadtree_grid.plot(ax=ax)\n",
    "\n",
    "ax.plot(bp[:, 0], bp[:, 1], \"k-\")\n",
    "for sg in sgs:\n",
    "    sa = np.array(sg)\n",
    "    # ax.plot(sa[:, 0], sa[:, 1], \"b-\")"
   ]
  },
  {
   "cell_type": "code",
   "execution_count": null,
   "metadata": {
    "scrolled": true
   },
   "outputs": [],
   "source": [
    "nodes = []\n",
    "for sg in sgs:\n",
    "    sg_densify = densify_geometry(sg, 2000)\n",
    "    nodes.extend(sg_densify)\n",
    "for x in regular_gridc.get_xvertices_for_layer(0)[0, :]:\n",
    "    for y in regular_gridc.get_yvertices_for_layer(0)[:, 0]:\n",
    "        nodes.append((x, y))    \n",
    "nodes = np.array(nodes)"
   ]
  },
  {
   "cell_type": "code",
   "execution_count": null,
   "metadata": {
    "scrolled": true
   },
   "outputs": [],
   "source": [
    "tri = Triangle(\n",
    "    maximum_area=5000 * 5000, angle=30, nodes=nodes, model_ws=temp_path\n",
    ")\n",
    "poly = bp\n",
    "tri.add_polygon(poly)\n",
    "tri.build(verbose=False)\n",
    "\n",
    "\n",
    "cell2d = tri.get_cell2d()\n",
    "vertices = tri.get_vertices()\n",
    "\n",
    "top = np.ones(tri.ncpl) * 1000.0\n",
    "botm = np.ones((1, tri.ncpl)) * -100.0\n",
    "idomain = np.ones((1, tri.ncpl), dtype=int)\n",
    "\n",
    "triangular_grid = VertexGrid(\n",
    "    vertices=vertices,\n",
    "    cell2d=cell2d,\n",
    "    idomain=idomain,\n",
    "    nlay=1,\n",
    "    ncpl=tri.ncpl,\n",
    "    top=top,\n",
    "    botm=botm,\n",
    ")"
   ]
  },
  {
   "cell_type": "code",
   "execution_count": null,
   "metadata": {
    "scrolled": true
   },
   "outputs": [],
   "source": [
    "top_tg = fine_topo.resample_to_grid(\n",
    "    triangular_grid,\n",
    "    band=fine_topo.bands[0],\n",
    "    method=\"linear\",\n",
    "    extrapolate_edges=True,\n",
    ")"
   ]
  },
  {
   "cell_type": "code",
   "execution_count": null,
   "metadata": {
    "scrolled": true
   },
   "outputs": [],
   "source": [
    "ixs = flopy.utils.GridIntersect(triangular_grid, method=\"vertex\")\n",
    "cellids = []\n",
    "for sg in sgs:\n",
    "    v = ixs.intersect(LineString(sg), sort_by_cellid=True)\n",
    "    cellids += v[\"cellids\"].tolist()\n",
    "intersection_tg = np.zeros(triangular_grid.shape[1:])\n",
    "for loc in cellids:\n",
    "    intersection_tg[loc] = 1"
   ]
  },
  {
   "cell_type": "code",
   "execution_count": null,
   "metadata": {
    "scrolled": true
   },
   "outputs": [],
   "source": [
    "fig = plt.figure(figsize=figsize)\n",
    "ax = fig.add_subplot()\n",
    "ax.set_aspect(\"equal\")\n",
    "\n",
    "pmv = flopy.plot.PlotMapView(modelgrid=triangular_grid)\n",
    "\n",
    "pmv.plot_array(top_tg, ec=\"0.75\")\n",
    "pmv.plot_array(\n",
    "    intersection_tg,\n",
    "    masked_values=[\n",
    "        0,\n",
    "    ],\n",
    "    alpha=0.2,\n",
    "    cmap=\"Reds_r\",\n",
    ")\n",
    "cg = pmv.contour_array(top_tg, levels=levels, linewidths=0.3, colors=\"white\")\n",
    "ax.clabel(cg, cg.levels, inline=True, fmt=\"%1.0f\", fontsize=10)\n",
    "\n",
    "pmv.plot_inactive(zorder=100)\n",
    "\n",
    "if True:\n",
    "    ax.plot(bp[:, 0], bp[:, 1], \"k-\")\n",
    "    for sg in sgs:\n",
    "        sa = np.array(sg)\n",
    "        ax.plot(sa[:, 0], sa[:, 1], \"b-\")"
   ]
  },
  {
   "cell_type": "code",
   "execution_count": null,
   "metadata": {
    "scrolled": true
   },
   "outputs": [],
   "source": [
    "# create vor object and VertexGrid from the triangle object tri\n",
    "vor = VoronoiGrid(tri)\n",
    "gridprops = vor.get_gridprops_vertexgrid()\n",
    "idomain = np.ones((1, vor.ncpl), dtype=int)\n",
    "voronoi_grid = VertexGrid(**gridprops, nlay=1, idomain=idomain)"
   ]
  },
  {
   "cell_type": "code",
   "execution_count": null,
   "metadata": {
    "scrolled": true
   },
   "outputs": [],
   "source": [
    "top_vg = fine_topo.resample_to_grid(\n",
    "    voronoi_grid,\n",
    "    band=fine_topo.bands[0],\n",
    "    method=\"linear\",\n",
    "    extrapolate_edges=True,\n",
    ")"
   ]
  },
  {
   "cell_type": "code",
   "execution_count": null,
   "metadata": {
    "scrolled": true
   },
   "outputs": [],
   "source": [
    "ixs = flopy.utils.GridIntersect(voronoi_grid, method=\"vertex\")\n",
    "cellids = []\n",
    "for sg in sgs:\n",
    "    v = ixs.intersect(LineString(sg), sort_by_cellid=True)\n",
    "    cellids += v[\"cellids\"].tolist()\n",
    "intersection_vg = np.zeros(voronoi_grid.shape[1:])\n",
    "for loc in cellids:\n",
    "    intersection_vg[loc] = 1"
   ]
  },
  {
   "cell_type": "code",
   "execution_count": null,
   "metadata": {
    "scrolled": true
   },
   "outputs": [],
   "source": [
    "fig = plt.figure(figsize=figsize)\n",
    "ax = fig.add_subplot()\n",
    "pmv = flopy.plot.PlotMapView(modelgrid=voronoi_grid)\n",
    "ax.set_aspect(\"equal\")\n",
    "pmv.plot_array(top_vg)\n",
    "pmv.plot_array(\n",
    "    intersection_vg,\n",
    "    masked_values=[\n",
    "        0,\n",
    "    ],\n",
    "    alpha=0.2,\n",
    "    cmap=\"Reds_r\",\n",
    ")\n",
    "# pmv.plot_grid()\n",
    "pmv.plot_inactive()\n",
    "ax.plot(bp[:, 0], bp[:, 1], \"k-\")\n",
    "for sg in sgs:\n",
    "    sa = np.array(sg)\n",
    "    ax.plot(sa[:, 0], sa[:, 1], \"b-\")\n",
    "\n",
    "cg = pmv.contour_array(top_vg, levels=levels, linewidths=0.3, colors=\"0.75\")"
   ]
  },
  {
   "cell_type": "code",
   "execution_count": null,
   "metadata": {
    "scrolled": true
   },
   "outputs": [],
   "source": [
    "# create numpy array of lgr_poly for plotting\n",
    "lgr_poly_array = np.array(lgr_poly).squeeze()\n",
    "lgr_poly_array"
   ]
  },
  {
   "cell_type": "code",
   "execution_count": null,
   "metadata": {
    "scrolled": true
   },
   "outputs": [],
   "source": [
    "# Make a plot of the six grids\n",
    "figwidth = 17.15 / 2.54\n",
    "figheight = 3.66 * (Ly / Lx) * 8.25 / 2.54\n",
    "grids = [\n",
    "    regular_grid,\n",
    "    irregular_grid,\n",
    "    nested_grid,\n",
    "    quadtree_grid,\n",
    "    triangular_grid,\n",
    "    voronoi_grid,\n",
    "    None,\n",
    "]\n",
    "topo_grids = [top_rg, top_ig, top_nested_grid, top_qg, top_tg, top_vg]\n",
    "extent = (0, 180000, 0, 100000)\n",
    "# cbar_axis = [0.75, 0.825, 0.2, 0.05]\n",
    "cbar_axis = [0.0, 0.1, .25, .9]\n",
    "\n",
    "with styles.USGSMap():\n",
    "    fig = plt.figure(figsize=(figwidth, figheight), constrained_layout=True)\n",
    "    gs = gridspec.GridSpec(ncols=16, nrows=17, figure=fig)\n",
    "    axs = [fig.add_subplot(gs[:5, :8])]\n",
    "    axs.append(fig.add_subplot(gs[:5, 8:]))\n",
    "    axs.append(fig.add_subplot(gs[5:10, :8]))\n",
    "    axs.append(fig.add_subplot(gs[5:10, 8:]))\n",
    "    axs.append(fig.add_subplot(gs[10:15, :8]))\n",
    "    axs.append(fig.add_subplot(gs[10:15, 8:]))\n",
    "    axs.append(fig.add_subplot(gs[15:, :]))\n",
    "\n",
    "    for idx, ax in enumerate(axs[:-1]):\n",
    "        g = grids[idx]\n",
    "        t = topo_grids[idx]\n",
    "        if g is not None:\n",
    "            if isinstance(g, list):\n",
    "                g = g[0]\n",
    "                t = t[0]\n",
    "\n",
    "            pmv = flopy.plot.PlotMapView(modelgrid=g, ax=ax)\n",
    "            \n",
    "            v = pmv.plot_array(t)\n",
    "            pmv.plot_grid(**grid_dict)\n",
    "            cg = pmv.contour_array(t, **contour_dict)\n",
    "            pmv.ax.clabel(cg, cg.levels, **clabel_dict)\n",
    "            pmv.plot_inactive(color_noflow=\"gray\", zorder=100)\n",
    "\n",
    "            if isinstance(grids[idx], list):\n",
    "                gg = grids[idx]\n",
    "                tt = topo_grids[idx]\n",
    "                for g, t in zip(gg[1:], tt[1:]):\n",
    "                    pmvc = flopy.plot.PlotMapView(\n",
    "                        modelgrid=g, ax=ax, extent=extent\n",
    "                    )\n",
    "                    pmvc.plot_array(top_ngc, vmin=vmin, vmax=vmax)\n",
    "                    pmvc.plot_grid(**grid_dict)\n",
    "                    cgc = pmvc.contour_array(top_ngc, **contour_dict)\n",
    "                    \n",
    "            # plot lgr polyline\n",
    "            ax.plot(lgr_poly_array[:, 0], lgr_poly_array[:, 1], zorder=101, **refinement_dict)\n",
    "\n",
    "            ax.set_aspect(\"equal\")\n",
    "            ax.set_axisbelow(False)\n",
    "\n",
    "            ax.set_xlim(extent[0], extent[1])\n",
    "            ax.set_xticks(np.arange(0, 200000, 50000))\n",
    "            if idx in (4, 5):\n",
    "                ax.set_xticklabels(np.arange(0, 200, 50))\n",
    "                ax.set_xlabel(\"x position (km)\")\n",
    "            else:\n",
    "                ax.set_xticklabels([])\n",
    "\n",
    "            ax.set_ylim(extent[2], extent[3])\n",
    "            ax.set_yticks(np.arange(0, 150000, 50000))\n",
    "            if idx in (0, 2, 4):\n",
    "                ax.set_yticklabels(np.arange(0, 150, 50))\n",
    "                ax.set_ylabel(\"y position (km)\")\n",
    "            else:\n",
    "                ax.set_yticklabels([])\n",
    "\n",
    "            styles.heading(ax, idx=idx)\n",
    "            if True:\n",
    "                ax.plot(bp[:, 0], bp[:, 1], \"k-\", lw=2.0)\n",
    "                for sg in sgs:\n",
    "                    sa = np.array(sg)\n",
    "                    ax.plot(sa[:, 0], sa[:, 1], **river_dict)\n",
    "\n",
    "#             # colorbar\n",
    "#             if idx == 4:\n",
    "#                 cax = ax.inset_axes(\n",
    "#                     cbar_axis,\n",
    "#                 )\n",
    "#                 cax.set_axisbelow(False)\n",
    "#                 cbar = plt.colorbar(\n",
    "#                     v,\n",
    "#                     orientation=\"vertical\",\n",
    "# #                     shrink=0.0,\n",
    "#                     cax=cax,\n",
    "#                     ticks=[25, 50, 75, 100],\n",
    "#                 )\n",
    "#                 cbar.ax.tick_params(\n",
    "#                     labelsize=5,\n",
    "#                     labelcolor=\"black\",\n",
    "#                     color=\"black\",\n",
    "#                     length=6,\n",
    "#                     pad=2,\n",
    "#                 )\n",
    "#                 cbar.ax.set_title(\n",
    "#                     \"Elevation (m)\", pad=2.5, loc=\"center\", fontdict=font_dict\n",
    "#                 )\n",
    "\n",
    "    # legend\n",
    "    ax = axs[-1]\n",
    "    xy0 = (-100, -100)\n",
    "    ax.set_xlim(0, 1)\n",
    "    ax.set_ylim(0, 1)\n",
    "    ax.set_axis_off()\n",
    "\n",
    "    ax.axhline(\n",
    "        xy0[0],\n",
    "        color=\"black\",\n",
    "        lw=2,\n",
    "        label=\"Basin boundary\",\n",
    "    )\n",
    "    ax.axhline(\n",
    "        xy0[0],\n",
    "        **river_dict,\n",
    "        label=\"River\",\n",
    "    )\n",
    "    ax.axhline(\n",
    "        xy0[0],\n",
    "        color=contour_color,\n",
    "        lw=0.5,\n",
    "        ls=\"--\",\n",
    "        label=\"Elevation contour\",\n",
    "    )\n",
    "    ax.axhline(\n",
    "        xy0[0],\n",
    "        label=\"Grid refinement area\",\n",
    "        **refinement_dict,\n",
    "    )\n",
    "    ax.axhline(\n",
    "        xy0[0],\n",
    "        marker=\"s\",\n",
    "        mec=\"0.5\",\n",
    "        mfc=\"white\",\n",
    "        markeredgewidth=0.25,\n",
    "        lw=0,\n",
    "        label=\"Grid cell\",\n",
    "    )\n",
    "    ax.axhline(\n",
    "        xy0[0],\n",
    "        marker=\"s\",\n",
    "        mec=\"0.5\",\n",
    "        mfc=\"gray\",\n",
    "        markeredgewidth=0.25,\n",
    "        lw=0,\n",
    "        label=\"Inactive area\",\n",
    "    )\n",
    "    styles.graph_legend(\n",
    "        ax,\n",
    "        ncol=3,\n",
    "        loc=\"lower center\",\n",
    "        labelspacing=0.5,\n",
    "        columnspacing=0.6,\n",
    "        handletextpad=0.3,\n",
    "    )\n",
    "    \n",
    "    # colorbar\n",
    "    ax = fig.add_subplot(gs[15:, 14:])\n",
    "    ax.set_xlim(0, 1)\n",
    "    ax.set_ylim(0, 1)\n",
    "    ax.set_axis_off()\n",
    "    cax = ax.inset_axes(\n",
    "        cbar_axis,\n",
    "    )\n",
    "#     cax.set_axisbelow(False)\n",
    "    cbar = plt.colorbar(\n",
    "        v,\n",
    "        orientation=\"vertical\",\n",
    "        cax=cax,\n",
    "        ticks=[25, 50, 75, 100],\n",
    "    )\n",
    "    cbar.ax.tick_params(\n",
    "        labelsize=5,\n",
    "        labelcolor=\"black\",\n",
    "        color=\"black\",\n",
    "        length=9,\n",
    "        pad=2,\n",
    "    )\n",
    "    cbar.ax.set_title(\n",
    "        \"Elevation (m)\", pad=2.5, loc=\"center\", fontdict=font_dict\n",
    "    ) \n",
    "\n",
    "    fpth = os.path.join(\"..\", \"doc\", \"figures\", \"grids_geoprocessing.pdf\")\n",
    "    plt.savefig(fpth, dpi=300);"
   ]
  },
  {
   "cell_type": "code",
   "execution_count": null,
   "metadata": {
    "scrolled": true
   },
   "outputs": [],
   "source": [
    "# Make a plot of the river intersection for the six grids\n",
    "figwidth = 17.15 / 2.54\n",
    "figheight = 3.66 * (Ly / Lx) * 8.25 / 2.54\n",
    "grids = [\n",
    "    regular_grid,\n",
    "    irregular_grid,\n",
    "    nested_grid,\n",
    "    quadtree_grid,\n",
    "    triangular_grid,\n",
    "    voronoi_grid,\n",
    "    None,\n",
    "]\n",
    "intersections = [\n",
    "    intersection_rg,\n",
    "    intersection_ig,\n",
    "    intersection_nested_grid,\n",
    "    intersection_qg,\n",
    "    intersection_tg,\n",
    "    intersection_vg,\n",
    "    None,\n",
    "]\n",
    "extent = list(extent_child)\n",
    "de = 10000.0\n",
    "extent[0] -= 2.0 * de\n",
    "extent[1] += 2.5 * de\n",
    "extent[2] -= de\n",
    "extent[3] += de\n",
    "\n",
    "\n",
    "with styles.USGSMap():\n",
    "    fig = plt.figure(figsize=(figwidth, figheight), constrained_layout=True)\n",
    "    gs = gridspec.GridSpec(ncols=2, nrows=16, figure=fig)\n",
    "    axs = [fig.add_subplot(gs[:5, 0])]\n",
    "    axs.append(fig.add_subplot(gs[:5, 1]))\n",
    "    axs.append(fig.add_subplot(gs[5:10, 0]))\n",
    "    axs.append(fig.add_subplot(gs[5:10, 1]))\n",
    "    axs.append(fig.add_subplot(gs[10:15, 0]))\n",
    "    axs.append(fig.add_subplot(gs[10:15, 1]))\n",
    "    axs.append(fig.add_subplot(gs[15:, :]))\n",
    "\n",
    "    for idx, ax in enumerate(axs[:-1]):\n",
    "        g = grids[idx]\n",
    "        t = intersections[idx]\n",
    "        if g is not None:\n",
    "            if isinstance(g, list):\n",
    "                g = g[0]\n",
    "                t = t[0]\n",
    "\n",
    "            pmv = flopy.plot.PlotMapView(modelgrid=g, ax=ax, extent=extent)\n",
    "\n",
    "            v = pmv.plot_array(t, masked_values=(0,), cmap=intersection_cmap)\n",
    "            pmv.plot_grid(**grid_dict)\n",
    "\n",
    "            pmv.plot_inactive(color_noflow=\"gray\", zorder=100)\n",
    "\n",
    "            if isinstance(grids[idx], list):\n",
    "                gg = grids[idx]\n",
    "                tt = intersections[idx]\n",
    "                for g, t in zip(gg[1:], tt[1:]):\n",
    "                    pmvc = flopy.plot.PlotMapView(\n",
    "                        modelgrid=g, ax=ax, extent=extent\n",
    "                    )\n",
    "                    pmvc.plot_array(\n",
    "                        t, masked_values=(0,), cmap=intersection_cmap\n",
    "                    )\n",
    "                    pmvc.plot_grid(**grid_dict)\n",
    "\n",
    "            # plot lgr polyline\n",
    "            ax.plot(lgr_poly_array[:, 0], lgr_poly_array[:, 1], zorder=101, **refinement_dict)\n",
    "\n",
    "            \n",
    "            ax.set_aspect(\"equal\")\n",
    "            ax.set_axisbelow(False)\n",
    "\n",
    "            ax.set_xlim(extent[0], extent[1])\n",
    "            ax.set_xticks(np.arange(50000, 120000, 10000))\n",
    "            if idx in (4, 5):\n",
    "                ax.set_xticklabels(np.arange(50, 120, 10))\n",
    "                ax.set_xlabel(\"x position (km)\")\n",
    "            else:\n",
    "                ax.set_xticklabels([])\n",
    "\n",
    "            ax.set_ylim(extent[2], extent[3])\n",
    "            ax.set_yticks(np.arange(35000, 70000, 10000))\n",
    "            if idx in (0, 2, 4):\n",
    "                ax.set_yticklabels(np.arange(35, 75, 10))\n",
    "                ax.set_ylabel(\"y position (km)\")\n",
    "            else:\n",
    "                ax.set_yticklabels([])\n",
    "\n",
    "            styles.heading(ax, idx=idx)\n",
    "            if True:\n",
    "                ax.plot(bp[:, 0], bp[:, 1], \"k-\", lw=2.0)\n",
    "                for sg in sgs:\n",
    "                    sa = np.array(sg)\n",
    "                    ax.plot(sa[:, 0], sa[:, 1], **river_dict)\n",
    "\n",
    "    # legend\n",
    "    ax = axs[-1]\n",
    "    xy0 = (-100, -100)\n",
    "    ax.set_xlim(0, 1)\n",
    "    ax.set_ylim(0, 1)\n",
    "    ax.set_axis_off()\n",
    "\n",
    "    ax.axhline(xy0[0], **river_dict, label=\"River\")\n",
    "    ax.axhline(\n",
    "        xy0[0],\n",
    "        label=\"Grid refinement area\",\n",
    "        **refinement_dict,\n",
    "    )\n",
    "    ax.axhline(\n",
    "        xy0[0],\n",
    "        marker=\"s\",\n",
    "        mec=\"0.5\",\n",
    "        mfc=\"white\",\n",
    "        markeredgewidth=0.25,\n",
    "        lw=0,\n",
    "        label=\"Grid cell\",\n",
    "    )\n",
    "    ax.axhline(\n",
    "        xy0[0],\n",
    "        marker=\"s\",\n",
    "        mfc=intersection_rgba,\n",
    "        mec=\"0.5\",\n",
    "        markeredgewidth=0.25,\n",
    "        lw=0,\n",
    "        label=\"Intersected cell\",\n",
    "    )\n",
    "    styles.graph_legend(\n",
    "        ax,\n",
    "        ncol=4,\n",
    "        loc=\"lower center\",\n",
    "        labelspacing=0.5,\n",
    "        columnspacing=0.6,\n",
    "        handletextpad=0.3,\n",
    "    )\n",
    "\n",
    "    fpth = os.path.join(\"..\", \"doc\", \"figures\", \"grids_intersection.pdf\")\n",
    "    plt.savefig(fpth, dpi=300);"
   ]
  },
  {
   "cell_type": "code",
   "execution_count": null,
   "metadata": {
    "scrolled": true
   },
   "outputs": [],
   "source": []
  },
  {
   "cell_type": "code",
   "execution_count": null,
   "metadata": {
    "scrolled": true
   },
   "outputs": [],
   "source": []
  }
 ],
 "metadata": {
  "kernelspec": {
   "display_name": "Python 3 (ipykernel)",
   "language": "python",
   "name": "python3"
  },
  "language_info": {
   "codemirror_mode": {
    "name": "ipython",
    "version": 3
   },
   "file_extension": ".py",
   "mimetype": "text/x-python",
   "name": "python",
   "nbconvert_exporter": "python",
   "pygments_lexer": "ipython3",
   "version": "3.9.16"
  }
 },
 "nbformat": 4,
 "nbformat_minor": 4
}
