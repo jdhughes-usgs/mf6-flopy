{
 "cells": [
  {
   "cell_type": "code",
   "execution_count": null,
   "id": "9e701cd0-4f01-4d3a-8697-6ef2bd67952a",
   "metadata": {},
   "outputs": [],
   "source": [
    "import os\n",
    "import sys\n",
    "import numpy as np\n",
    "import matplotlib as mpl\n",
    "import matplotlib.pyplot as plt\n",
    "import matplotlib.gridspec as gridspec\n",
    "import matplotlib.ticker as mticker\n",
    "\n",
    "import rasterio\n",
    "import shapely\n",
    "from shapely.geometry import LineString, Polygon\n",
    "\n",
    "import flopy\n",
    "from flopy.discretization import StructuredGrid, VertexGrid\n",
    "from flopy.utils.triangle import Triangle\n",
    "from flopy.utils.voronoi import VoronoiGrid\n",
    "from flopy.utils.gridgen import Gridgen\n",
    "import flopy.plot.styles as styles"
   ]
  },
  {
   "cell_type": "markdown",
   "id": "153aefa7-fb55-4d9b-b26a-d619ecc3c543",
   "metadata": {},
   "source": [
    "### utility functions"
   ]
  },
  {
   "cell_type": "code",
   "execution_count": null,
   "id": "8c60aab8-8ef3-43a5-99eb-989dccf975a7",
   "metadata": {},
   "outputs": [],
   "source": [
    "def string2geom(geostring):\n",
    "    res = []\n",
    "    for line in geostring.split(\"\\n\"):\n",
    "        line = line.split(\" \")\n",
    "        x = float(line[0])\n",
    "        y = float(line[1])\n",
    "        res.append((x, y))\n",
    "    return res"
   ]
  },
  {
   "cell_type": "code",
   "execution_count": null,
   "id": "16b11cf2-131b-40b1-a49c-cedb8236febd",
   "metadata": {},
   "outputs": [],
   "source": [
    "def densify_geometry(line, step):\n",
    "    line_geometry = shapely.geometry.LineString(line)\n",
    "    length_m = line_geometry.length  # get the length\n",
    "    xy = []  # to store new tuples of coordinates\n",
    "    for distance_along_old_line in np.arange(0, int(length_m) + step, step):\n",
    "        point = line_geometry.interpolate(\n",
    "            distance_along_old_line\n",
    "        )  # interpolate a point every step along the old line\n",
    "        xp, yp = point.x, point.y  # extract the coordinates\n",
    "        xy.append((xp, yp))  # and store them in xy list\n",
    "    return xy"
   ]
  },
  {
   "cell_type": "code",
   "execution_count": null,
   "id": "5dde95bc-b6e6-4d36-a449-01134f318ce1",
   "metadata": {},
   "outputs": [],
   "source": [
    "def circle_function(center=(0,0), radius=1., dtheta=10.):\n",
    "    angles = np.arange(0., 360., dtheta) * np.pi / 180.\n",
    "    xpts = center[0] + np.cos(angles) * radius\n",
    "    ypts = center[1] + np.sin(angles) * radius\n",
    "    return np.array([(x,y) for x, y in zip(xpts, ypts)])\n"
   ]
  },
  {
   "cell_type": "markdown",
   "id": "1d042c67-87b9-4506-af9d-b794bacf8ad6",
   "metadata": {},
   "source": [
    "### Load raster data"
   ]
  },
  {
   "cell_type": "code",
   "execution_count": null,
   "id": "d6e4d217-245e-4253-8018-cf1425c9d147",
   "metadata": {},
   "outputs": [],
   "source": [
    "kaq = flopy.utils.Raster.load(\"./data/k_aq.asc\")\n",
    "kclay = flopy.utils.Raster.load(\"./data/k_clay.asc\")\n",
    "top_base = flopy.utils.Raster.load(\"./data/top.asc\")\n",
    "bot = flopy.utils.Raster.load(\"./data/bottom.asc\")\n",
    "lake_location = flopy.utils.Raster.load(\"./data/lake_location.asc\")"
   ]
  },
  {
   "cell_type": "markdown",
   "id": "51a5dd07-fe17-4151-befe-c47f1083dcb9",
   "metadata": {},
   "source": [
    "### create a structured grid for plotting"
   ]
  },
  {
   "cell_type": "code",
   "execution_count": null,
   "id": "a8e3a702-fc8f-485c-aa20-22d8225b3913",
   "metadata": {},
   "outputs": [],
   "source": [
    "nlay, nrow, ncol = 5, 40, 25\n",
    "shape2d = (nrow, ncol)\n",
    "shape3d = (nlay, nrow, ncol)\n",
    "delr, delc = 500.0, 500.0\n",
    "delrs = np.ones(ncol, dtype=np.float32) * delr\n",
    "delcs = np.ones(nrow, dtype=np.float32) * delc\n",
    "top = top_base.get_array(1)\n",
    "botm = np.zeros(shape3d, dtype=np.float32)\n",
    "botm[0] = -5.0\n",
    "botm[1] = -50.0\n",
    "botm[2] = -51.0\n",
    "botm[3] = -100.0\n",
    "botm[4] = bot.get_array(1)"
   ]
  },
  {
   "cell_type": "code",
   "execution_count": null,
   "id": "e73b15d8-6153-4e21-996c-7fc92c7b73ff",
   "metadata": {},
   "outputs": [],
   "source": [
    "struct_grid = flopy.discretization.StructuredGrid(\n",
    "    nlay=1,\n",
    "    nrow=nrow,\n",
    "    ncol=ncol,\n",
    "    delr=delrs,\n",
    "    delc=delcs,\n",
    "    top=top,\n",
    "    botm=botm[0].reshape((1, nrow, ncol)),\n",
    ")"
   ]
  },
  {
   "cell_type": "markdown",
   "id": "2b5c237b-3c69-4640-ae77-439d82b88032",
   "metadata": {},
   "source": [
    "### define the features"
   ]
  },
  {
   "cell_type": "code",
   "execution_count": null,
   "id": "9aef329b-d9b5-4b17-b4a6-19199ef29645",
   "metadata": {},
   "outputs": [],
   "source": [
    "boundary = \"\"\"0.0 0.0\n",
    "0.0 20000.0\n",
    "12500.0 20000.0\n",
    "12500.0 0.0\"\"\""
   ]
  },
  {
   "cell_type": "code",
   "execution_count": null,
   "id": "439248dc-4020-4b9b-8d69-8fd8aa9ea064",
   "metadata": {},
   "outputs": [],
   "source": [
    "river = \"\"\"4250.0 8750.0 \n",
    "4250.0 0.0\"\"\""
   ]
  },
  {
   "cell_type": "code",
   "execution_count": null,
   "id": "5e686c84-ddae-445e-870e-78759aedcc6d",
   "metadata": {},
   "outputs": [],
   "source": [
    "river_box = \"\"\"3500.0 0.0\n",
    "3500.0 9500.0\n",
    "5000.0 9500.0\n",
    "5000.0 0.0\"\"\""
   ]
  },
  {
   "cell_type": "code",
   "execution_count": null,
   "id": "b155fc11-a1a8-47d3-80f1-81be73a1ae3c",
   "metadata": {},
   "outputs": [],
   "source": [
    "wells = \"\"\"7250. 17250.\n",
    "7750. 2750.\n",
    "2750 3750.\"\"\""
   ]
  },
  {
   "cell_type": "code",
   "execution_count": null,
   "id": "b4a38a4c-d4ab-4caa-b8c5-eea9a463405c",
   "metadata": {},
   "outputs": [],
   "source": [
    "lake = \"\"\"1500. 18500.\n",
    "3500. 18500.\n",
    "3500. 15500.\n",
    "4000. 15500.\n",
    "4000. 14500.\n",
    "4500. 14500.\n",
    "4500. 12000.\n",
    "2500. 12000.\n",
    "2500. 12500.\n",
    "2000. 12500.\n",
    "2000. 14000.\n",
    "1500. 14000.\n",
    "1500. 15000.\n",
    "1000. 15000.\n",
    "1000. 18000.\n",
    "1500. 18000.\"\"\""
   ]
  },
  {
   "cell_type": "code",
   "execution_count": null,
   "id": "0053c35f-e2dc-4479-b381-9ae578456d27",
   "metadata": {},
   "outputs": [],
   "source": [
    "boundary_refinement = 500.\n",
    "river_refinement = 50.\n",
    "lake_refinement = 100.\n",
    "max_boundary_area = boundary_refinement * boundary_refinement\n",
    "max_river_area = river_refinement * river_refinement\n",
    "max_lake_area = lake_refinement * lake_refinement"
   ]
  },
  {
   "cell_type": "code",
   "execution_count": null,
   "id": "5e2d4d9b-3bf4-4e3d-ae8c-6f7f39509750",
   "metadata": {},
   "outputs": [],
   "source": [
    "boundary_polygon = string2geom(boundary)\n",
    "print(\"len boundary\", len(boundary_polygon))\n",
    "bp = np.array(boundary_polygon)\n",
    "bp_densify = np.array(densify_geometry(bp, boundary_refinement))"
   ]
  },
  {
   "cell_type": "code",
   "execution_count": null,
   "id": "87a28fcf-2d67-4b07-8004-b61a65472f74",
   "metadata": {},
   "outputs": [],
   "source": [
    "river_polyline = string2geom(river)\n",
    "sg = np.array(river_polyline)\n",
    "sg_densify = np.array(densify_geometry(sg, river_refinement))"
   ]
  },
  {
   "cell_type": "code",
   "execution_count": null,
   "id": "31dcaca0-58dd-4c70-bff2-fc1cc6382c04",
   "metadata": {},
   "outputs": [],
   "source": [
    "river_boundary = string2geom(river_box)\n",
    "rb = np.array(river_boundary)\n",
    "rb_densify = np.array(densify_geometry(rb, river_refinement))"
   ]
  },
  {
   "cell_type": "code",
   "execution_count": null,
   "id": "8f3b41c0-e40f-4318-9c61-7fc7166638f6",
   "metadata": {},
   "outputs": [],
   "source": [
    "lake_polygon = string2geom(lake)\n",
    "lake_plot = string2geom(lake)\n",
    "lake_plot += [lake_plot[0]]\n",
    "lake_plot = np.array(lake_plot)\n",
    "lp = np.array(lake_polygon)\n",
    "lp_densify = np.array(densify_geometry(lp, lake_refinement))"
   ]
  },
  {
   "cell_type": "code",
   "execution_count": null,
   "id": "c73abb5e-8196-4f10-88f2-ab1ad34f9974",
   "metadata": {},
   "outputs": [],
   "source": [
    "well_points = string2geom(wells)\n",
    "wp = np.array(well_points)"
   ]
  },
  {
   "cell_type": "markdown",
   "id": "883a22c0-a87f-434d-8497-49ae843140e0",
   "metadata": {},
   "source": [
    "#### simple plotting functions"
   ]
  },
  {
   "cell_type": "code",
   "execution_count": null,
   "id": "61af2726-c796-4ffb-b856-f82da8befce8",
   "metadata": {},
   "outputs": [],
   "source": [
    "def plot_wells(ax=None, ms=None):\n",
    "    if ax is None:\n",
    "        ax = plt.gca()\n",
    "    ax.plot(wp[:, 0], wp[:, 1], \"ro\", ms=ms)\n",
    "    return ax"
   ]
  },
  {
   "cell_type": "code",
   "execution_count": null,
   "id": "f024b851-1451-4253-938a-504a23ebcf16",
   "metadata": {},
   "outputs": [],
   "source": [
    "def plot_river(ax=None, lw=0.5,):\n",
    "    if ax is None:\n",
    "        ax = plt.gca()\n",
    "    ax.plot(sg_densify[:, 0], sg_densify[:, 1], \"b-\", lw=lw)\n",
    "    # ax.plot(rb_densify[:, 0], rb_densify[:, 1], \"b:\", lw=lw)\n",
    "    return ax"
   ]
  },
  {
   "cell_type": "code",
   "execution_count": null,
   "id": "0a187e33-2cd3-40ec-afcc-47bbd693707d",
   "metadata": {},
   "outputs": [],
   "source": [
    "def plot_lake(ax=None, lw=0.5, color=\"cyan\"):\n",
    "    if ax is None:\n",
    "        ax = plt.gca()\n",
    "    ax.plot(lake_plot[:, 0], lake_plot[:, 1], ls=\"-\", color=color, lw=lw)\n",
    "    return ax"
   ]
  },
  {
   "cell_type": "code",
   "execution_count": null,
   "id": "27ff91ed-9505-467b-818f-0c0c42ea3912",
   "metadata": {},
   "outputs": [],
   "source": [
    "def plot_circles(ax=None, radius=1.0, lw=0.5, color=\"red\"):\n",
    "    if ax is None:\n",
    "        ax = plt.gca()\n",
    "    for pt in wp:\n",
    "        center = (pt[0], pt[1])\n",
    "        pts = circle_function(center=center, radius=radius)\n",
    "        ax.plot(pts[:, 0], pts[:, 1], ls=\":\", color=color, lw=lw)\n",
    "    return ax    "
   ]
  },
  {
   "cell_type": "markdown",
   "id": "690b7438-21cf-4eac-be96-a24703988f75",
   "metadata": {},
   "source": [
    "### plot the features"
   ]
  },
  {
   "cell_type": "code",
   "execution_count": null,
   "id": "436a7475-c63b-4e0a-92dc-199a80691cdc",
   "metadata": {},
   "outputs": [],
   "source": [
    "fig = plt.figure(figsize=(15, 10))\n",
    "ax = fig.add_subplot()\n",
    "ax.set_aspect(\"equal\")\n",
    "\n",
    "ax.plot(bp_densify[:, 0], bp_densify[:, 1], \"ko-\")\n",
    "plot_lake(ax)\n",
    "plot_river(ax)\n",
    "plot_wells(ax)\n",
    "plot_circles(ax, radius=1000);"
   ]
  },
  {
   "cell_type": "markdown",
   "id": "7fcab50f-202f-4403-9893-5469f0eacc54",
   "metadata": {},
   "source": [
    "### use Triangle to create mesh"
   ]
  },
  {
   "cell_type": "code",
   "execution_count": null,
   "id": "17c0d2eb-0667-4c09-9bc9-16283c260f02",
   "metadata": {},
   "outputs": [],
   "source": [
    "temp_path = \"triangle_data\""
   ]
  },
  {
   "cell_type": "code",
   "execution_count": null,
   "id": "2bd6d3f6-d706-499a-b873-6da6896c40b0",
   "metadata": {},
   "outputs": [],
   "source": [
    "maximum_area = 500. * 500.\n",
    "well_dv = 1000."
   ]
  },
  {
   "cell_type": "code",
   "execution_count": null,
   "id": "f1866d48-9a30-404b-a947-436cf1e3ae27",
   "metadata": {},
   "outputs": [],
   "source": [
    "tri = Triangle(\n",
    "    angle=30, nodes=sg_densify, model_ws=temp_path,\n",
    ")\n",
    "tri.add_polygon(bp_densify)\n",
    "tri.add_polygon(rb_densify)\n",
    "tri.add_polygon(lp_densify)\n",
    "tri.add_region((.1, .1), attribute=10, maximum_area=max_boundary_area)\n",
    "tri.add_region((3000., 15000.), attribute=11, maximum_area=max_lake_area)\n",
    "tri.add_region((4000., 500.), attribute=10, maximum_area=max_river_area)\n",
    "for idx, w in enumerate(wp):\n",
    "    center = (w[0], w[1])\n",
    "    tri.add_polygon(circle_function(center=center, radius=400.))\n",
    "    tri.add_region(center, attribute=idx, maximum_area=10000.)\n",
    "tri.build(verbose=False)"
   ]
  },
  {
   "cell_type": "code",
   "execution_count": null,
   "id": "3d260add-d3a5-4c9c-a808-80edba058ba1",
   "metadata": {},
   "outputs": [],
   "source": [
    "tri.plot(lw=0.5)\n",
    "ax = plot_wells(ms=3)\n",
    "plot_river(ax)"
   ]
  },
  {
   "cell_type": "markdown",
   "id": "cab6f2b7-42a7-4dde-b57a-85d29bdd6253",
   "metadata": {},
   "source": [
    "### convert triangular mesh to a voronoi grid"
   ]
  },
  {
   "cell_type": "code",
   "execution_count": null,
   "id": "8151d7ef-ebe8-4ae5-9b09-d688ae9b1ea7",
   "metadata": {},
   "outputs": [],
   "source": [
    "vor = VoronoiGrid(tri)"
   ]
  },
  {
   "cell_type": "code",
   "execution_count": null,
   "id": "d356a6f2-9e7c-49d5-9cab-0fc6c13c2967",
   "metadata": {},
   "outputs": [],
   "source": [
    "vor.plot()\n",
    "ax = plot_wells(ms=3)"
   ]
  },
  {
   "cell_type": "markdown",
   "id": "a60e059a-e89d-4a89-90a8-c76501c5921f",
   "metadata": {},
   "source": [
    "### create a flopy Vertex grid to use for the model"
   ]
  },
  {
   "cell_type": "code",
   "execution_count": null,
   "id": "94db6503-b469-4977-a578-357628356df7",
   "metadata": {},
   "outputs": [],
   "source": [
    "gridprops = vor.get_gridprops_vertexgrid()\n",
    "idomain = np.ones((1, vor.ncpl), dtype=int)\n",
    "voronoi_grid = VertexGrid(**gridprops, nlay=1, idomain=idomain)"
   ]
  },
  {
   "cell_type": "markdown",
   "id": "fe7ab84a-ef10-488f-9560-494ff7298541",
   "metadata": {},
   "source": [
    "### intersect the rasters with the vertex grid"
   ]
  },
  {
   "cell_type": "code",
   "execution_count": null,
   "id": "1ae76c01-c4bb-40ad-bfb0-9feda78157fd",
   "metadata": {},
   "outputs": [],
   "source": [
    "top_vg = top_base.resample_to_grid(\n",
    "    voronoi_grid,\n",
    "    band=top_base.bands[0],\n",
    "    method=\"linear\",\n",
    "    extrapolate_edges=True,\n",
    ")"
   ]
  },
  {
   "cell_type": "code",
   "execution_count": null,
   "id": "f0dbc3ec-76b4-4477-a5f2-a1daba669e52",
   "metadata": {},
   "outputs": [],
   "source": [
    "bot_vg = bot.resample_to_grid(\n",
    "    voronoi_grid, \n",
    "    band=bot.bands[0], \n",
    "    method=\"linear\", \n",
    "    extrapolate_edges=True,\n",
    ")"
   ]
  },
  {
   "cell_type": "code",
   "execution_count": null,
   "id": "6a098a95-9957-40d3-adc5-8571fd6018ac",
   "metadata": {},
   "outputs": [],
   "source": [
    "lake_cells_vg = lake_location.resample_to_grid(\n",
    "    voronoi_grid,\n",
    "    band=kaq.bands[0],\n",
    "    method=\"nearest\",\n",
    "    extrapolate_edges=True,\n",
    ")"
   ]
  },
  {
   "cell_type": "code",
   "execution_count": null,
   "id": "c4c0d7f7-e90f-40a9-86a9-7284d5baf315",
   "metadata": {},
   "outputs": [],
   "source": [
    "kaq_vg = kaq.resample_to_grid(\n",
    "    voronoi_grid,\n",
    "    band=kaq.bands[0],\n",
    "    method=\"nearest\",\n",
    "    extrapolate_edges=True,\n",
    ")"
   ]
  },
  {
   "cell_type": "code",
   "execution_count": null,
   "id": "374200ba-edba-41f8-b1c7-8d92ac540eb9",
   "metadata": {},
   "outputs": [],
   "source": [
    "kclay_vg = kclay.resample_to_grid(\n",
    "    voronoi_grid,\n",
    "    band=kclay.bands[0],\n",
    "    method=\"nearest\",\n",
    ")"
   ]
  },
  {
   "cell_type": "code",
   "execution_count": null,
   "id": "cf4fe6f7-13f4-4286-8f70-0412cd170312",
   "metadata": {},
   "outputs": [],
   "source": []
  },
  {
   "cell_type": "markdown",
   "id": "6eb98751-2fe7-4119-8c65-ee3bd422baa5",
   "metadata": {},
   "source": [
    "### plot the resampled rasters"
   ]
  },
  {
   "cell_type": "code",
   "execution_count": null,
   "id": "bddde4c1-3642-4a84-b9ab-a4b9ab20c275",
   "metadata": {},
   "outputs": [],
   "source": [
    "two_panel_figsize = (17.15 / 2.541, 0.8333 * 17.15 / 2.541)\n",
    "one_panel_figsize = (8.25 / 2.541, 13.2 / 2.541)\n",
    "contour_color = \"0.8\""
   ]
  },
  {
   "cell_type": "code",
   "execution_count": null,
   "id": "9c1c0fc6-a7d5-4e87-9f65-93c983512c5f",
   "metadata": {},
   "outputs": [],
   "source": [
    "vmin, vmax = 5, 65\n",
    "levels = np.arange(10, 70, 10)\n",
    "with styles.USGSMap():\n",
    "    fig, [ax1, ax2] = plt.subplots(1, 2, \n",
    "                                   sharey=True, \n",
    "                                   figsize=two_panel_figsize,\n",
    "                                   constrained_layout=True,\n",
    "                                   subplot_kw=dict(aspect=\"equal\"))\n",
    "    ax = ax1\n",
    "    mm = flopy.plot.PlotMapView(modelgrid=struct_grid, ax=ax)\n",
    "    mm.plot_array(top_base.get_array(1), vmin=vmin, vmax=vmax)\n",
    "    mm.plot_grid(lw=0.5, color=\"0.5\")\n",
    "    plot_wells(ax=ax, ms=3)\n",
    "    plot_river(ax=ax)\n",
    "    plot_lake(ax=ax)\n",
    "    cs = mm.contour_array(top_base.get_array(1), colors=contour_color, levels=levels, linewidths=1)\n",
    "    ax.clabel(cs, inline=1, fmt=\"%1.0f\", fontsize=6, inline_spacing=0)\n",
    "\n",
    "    ax = ax2\n",
    "    mm = flopy.plot.PlotMapView(modelgrid=voronoi_grid, ax=ax)\n",
    "    mm.plot_array(top_vg, vmin=vmin, vmax=vmax)\n",
    "    mm.plot_grid(lw=0.5, color=\"0.5\")\n",
    "    plot_wells(ax=ax, ms=3)  \n",
    "    plot_river(ax=ax)\n",
    "    plot_lake(ax=ax)\n",
    "    cs = mm.contour_array(top_vg, colors=contour_color, levels=levels, linewidths=1)\n",
    "    ax.clabel(cs, inline=1, fmt=\"%1.0f\", fontsize=6, inline_spacing=0)\n",
    "    \n",
    "    fpth = \"figures/mv_voronoi_top.png\"\n",
    "    plt.savefig(fpth, dpi=300);"
   ]
  },
  {
   "cell_type": "code",
   "execution_count": null,
   "id": "62cadd20-c75a-42e6-8d45-d07d08f79794",
   "metadata": {},
   "outputs": [],
   "source": [
    "vmin, vmax = -250, -150\n",
    "with styles.USGSMap():\n",
    "    fig, [ax1, ax2] = plt.subplots(1, 2, \n",
    "                                   sharey=True, \n",
    "                                   figsize=two_panel_figsize,\n",
    "                                   constrained_layout=True,\n",
    "                                   subplot_kw=dict(aspect=\"equal\"))\n",
    "    ax = ax1\n",
    "    mm = flopy.plot.PlotMapView(modelgrid=struct_grid, ax=ax)\n",
    "    mm.plot_array(bot.get_array(1), vmin=vmin, vmax=vmax)\n",
    "    mm.plot_grid(lw=0.5, color=\"0.5\")\n",
    "    plot_wells(ax=ax, ms=3)\n",
    "    plot_river(ax=ax)\n",
    "    plot_lake(ax=ax)\n",
    "\n",
    "    ax = ax2\n",
    "    mm = flopy.plot.PlotMapView(modelgrid=voronoi_grid, ax=ax)\n",
    "    mm.plot_array(bot_vg, vmin=vmin, vmax=vmax)\n",
    "    mm.plot_grid(lw=0.5, color=\"0.5\")\n",
    "    plot_wells(ax=ax, ms=3)  \n",
    "    plot_river(ax=ax)\n",
    "    plot_lake(ax=ax)\n",
    "    \n",
    "    fpth = \"figures/mv_voronoi_bot.png\"\n",
    "    plt.savefig(fpth, dpi=300);"
   ]
  },
  {
   "cell_type": "code",
   "execution_count": null,
   "id": "80024457-9d49-4cf4-98ca-69b248b25839",
   "metadata": {},
   "outputs": [],
   "source": [
    "with styles.USGSMap():\n",
    "    fig, [ax1, ax2] = plt.subplots(1, 2, \n",
    "                                   sharey=True, \n",
    "                                   figsize=two_panel_figsize,\n",
    "                                   constrained_layout=True,\n",
    "                                   subplot_kw=dict(aspect=\"equal\"))\n",
    "    ax = ax1\n",
    "    mm = flopy.plot.PlotMapView(modelgrid=struct_grid, ax=ax)\n",
    "    mm.plot_array(lake_location.get_array(1))\n",
    "    mm.plot_grid(lw=0.5, color=\"0.5\")\n",
    "    plot_wells(ax=ax, ms=3)\n",
    "    plot_river(ax=ax)\n",
    "    plot_lake(ax=ax)\n",
    "\n",
    "    ax = ax2\n",
    "    mm = flopy.plot.PlotMapView(modelgrid=voronoi_grid, ax=ax)\n",
    "    mm.plot_array(lake_cells_vg)\n",
    "    mm.plot_grid(lw=0.5, color=\"0.5\")\n",
    "    plot_wells(ax=ax, ms=3)  \n",
    "    plot_river(ax=ax)\n",
    "    plot_lake(ax=ax)\n",
    "    \n",
    "    fpth = \"figures/mv_voronoi_lake.png\"\n",
    "    plt.savefig(fpth, dpi=300);"
   ]
  },
  {
   "cell_type": "code",
   "execution_count": null,
   "id": "4e215262-5d71-43f8-97fa-c7a6d1435eb9",
   "metadata": {},
   "outputs": [],
   "source": [
    "with styles.USGSMap():\n",
    "    fig, [ax1, ax2] = plt.subplots(1, 2, \n",
    "                                   sharey=True, \n",
    "                                   figsize=two_panel_figsize,\n",
    "                                   constrained_layout=True,\n",
    "                                   subplot_kw=dict(aspect=\"equal\"))\n",
    "    ax = ax1\n",
    "    mm = flopy.plot.PlotMapView(modelgrid=struct_grid, ax=ax)\n",
    "    mm.plot_array(kaq.get_array(1))\n",
    "    mm.plot_grid(lw=0.5, color=\"0.5\")\n",
    "    plot_wells(ax=ax, ms=3)\n",
    "    plot_river(ax=ax)\n",
    "    plot_lake(ax=ax)\n",
    "\n",
    "    ax = ax2\n",
    "    mm = flopy.plot.PlotMapView(modelgrid=voronoi_grid, ax=ax)\n",
    "    mm.plot_array(kaq_vg)\n",
    "    mm.plot_grid(lw=0.5, color=\"0.5\")\n",
    "    plot_wells(ax=ax, ms=3)  \n",
    "    plot_river(ax=ax)\n",
    "    plot_lake(ax=ax)\n",
    "    \n",
    "    fpth = \"figures/mv_voronoi_kaq.png\"\n",
    "    plt.savefig(fpth, dpi=300);"
   ]
  },
  {
   "cell_type": "code",
   "execution_count": null,
   "id": "52381169-4d54-4c03-abcc-5f88a5c09857",
   "metadata": {},
   "outputs": [],
   "source": [
    "with styles.USGSMap():\n",
    "    fig, [ax1, ax2] = plt.subplots(1, 2, \n",
    "                                   sharey=True, \n",
    "                                   figsize=two_panel_figsize,\n",
    "                                   constrained_layout=True,\n",
    "                                   subplot_kw=dict(aspect=\"equal\"))\n",
    "    ax = ax1\n",
    "    mm = flopy.plot.PlotMapView(modelgrid=struct_grid, ax=ax)\n",
    "    mm.plot_array(kclay.get_array(1))\n",
    "    mm.plot_grid(lw=0.5, color=\"0.5\")\n",
    "    plot_wells(ax=ax, ms=3)\n",
    "    plot_river(ax=ax)\n",
    "    plot_lake(ax=ax)\n",
    "\n",
    "    ax = ax2\n",
    "    mm = flopy.plot.PlotMapView(modelgrid=voronoi_grid, ax=ax)\n",
    "    mm.plot_array(kclay_vg)\n",
    "    mm.plot_grid(lw=0.5, color=\"0.5\")\n",
    "    plot_wells(ax=ax, ms=3)  \n",
    "    plot_river(ax=ax)\n",
    "    plot_lake(ax=ax)\n",
    "    \n",
    "    fpth = \"figures/mv_voronoi_kclay.png\"\n",
    "    plt.savefig(fpth, dpi=300);"
   ]
  },
  {
   "cell_type": "markdown",
   "id": "d27ba78f-6be4-4ecc-9c1e-956ae88aa87b",
   "metadata": {},
   "source": [
    "### intersect features with the grid"
   ]
  },
  {
   "cell_type": "code",
   "execution_count": null,
   "id": "e41c8a47-254d-4e47-9908-4b8a3cbb39e2",
   "metadata": {},
   "outputs": [],
   "source": [
    "ixs = flopy.utils.GridIntersect(voronoi_grid, method=\"vertex\")\n",
    "sg_result = ixs.intersect(LineString(sg_densify), sort_by_cellid=False)"
   ]
  },
  {
   "cell_type": "code",
   "execution_count": null,
   "id": "7ee6feb8-26b2-4312-b71e-41c0a11dc47f",
   "metadata": {},
   "outputs": [],
   "source": [
    "sg_result.shape, sg_result[\"lengths\"].sum()"
   ]
  },
  {
   "cell_type": "markdown",
   "id": "cd2c68ba-6987-4d1e-9651-016b76c14c97",
   "metadata": {},
   "source": [
    "### forcing data"
   ]
  },
  {
   "cell_type": "code",
   "execution_count": null,
   "id": "464890eb-6a02-4262-9289-e629e12d9183",
   "metadata": {},
   "outputs": [],
   "source": [
    "rainfall = 0.00821918\n",
    "evaporation = 0.0062296\n",
    "net_rainfall = 0.003641"
   ]
  },
  {
   "cell_type": "markdown",
   "id": "f17d9f0e",
   "metadata": {},
   "source": [
    "## Build SFR, LAK, DRN, and WEL datasets\n",
    "\n",
    "SFR datasets"
   ]
  },
  {
   "cell_type": "code",
   "execution_count": null,
   "id": "1d948b66",
   "metadata": {},
   "outputs": [],
   "source": [
    "sfr_unit_conversion = 1.486 * 86400.0"
   ]
  },
  {
   "cell_type": "code",
   "execution_count": null,
   "id": "2163b3c8",
   "metadata": {},
   "outputs": [],
   "source": [
    "sfr_plt_array = np.zeros(voronoi_grid.ncpl, dtype=int)"
   ]
  },
  {
   "cell_type": "code",
   "execution_count": null,
   "id": "654ae289",
   "metadata": {},
   "outputs": [],
   "source": [
    "sfr_nodes = np.arange(0, sg_result.shape[0])\n",
    "gwf_nodes = sg_result[\"cellids\"][::-1]\n",
    "sfr_lengths = sg_result[\"lengths\"][::-1]"
   ]
  },
  {
   "cell_type": "code",
   "execution_count": null,
   "id": "9219b3be",
   "metadata": {},
   "outputs": [],
   "source": [
    "total_cond = 1800000.0\n",
    "sfr_width = 10.0\n",
    "sfr_bedthick = 1.0\n",
    "sfr_hk = total_cond * sfr_bedthick / (sfr_width * sfr_lengths.sum())\n",
    "sfr_hk"
   ]
  },
  {
   "cell_type": "code",
   "execution_count": null,
   "id": "a302ee12",
   "metadata": {},
   "outputs": [],
   "source": [
    "b0, b1 = -0.3, -2.05\n",
    "sfr_slope = -0.0002\n",
    "cum_dist = np.zeros(sfr_nodes.shape, dtype=float)\n",
    "cum_dist[0] = 0.5 * sfr_lengths[0]\n",
    "for idx in range(1, sfr_nodes.shape[0]):\n",
    "    cum_dist[idx] = cum_dist[idx - 1] + 0.5 * (\n",
    "        sfr_lengths[idx - 1] + sfr_lengths[idx]\n",
    "    )\n",
    "sfr_bot = b0 + sfr_slope * cum_dist\n",
    "cum_dist[-1], sfr_lengths.sum(), sfr_lengths[-1], sfr_bot[-1]"
   ]
  },
  {
   "cell_type": "code",
   "execution_count": null,
   "id": "54161a95",
   "metadata": {},
   "outputs": [],
   "source": [
    "sfr_conn = []\n",
    "for idx, node in enumerate(sfr_nodes):\n",
    "    iconn = [node]\n",
    "    if idx > 0:\n",
    "        iconn.append(sfr_nodes[idx - 1])\n",
    "    if idx < sfr_nodes.shape[0] - 1:\n",
    "        iconn.append(-sfr_nodes[idx + 1])\n",
    "    sfr_conn.append(iconn)"
   ]
  },
  {
   "cell_type": "code",
   "execution_count": null,
   "id": "77c287dd",
   "metadata": {},
   "outputs": [],
   "source": [
    "# <rno> <cellid(ncelldim)> <rlen> <rwid> <rgrd> <rtp> <rbth> <rhk> <man> <ncon> <ustrf> <ndv>\n",
    "sfrpak_data = []\n",
    "for idx, (cellid, rlen, rtp) in enumerate(\n",
    "    zip(gwf_nodes, sfr_lengths, sfr_bot)\n",
    "):\n",
    "    sfr_plt_array[cellid] = 1\n",
    "    sfrpak_data.append(\n",
    "        (\n",
    "            idx,\n",
    "            (\n",
    "                0,\n",
    "                cellid,\n",
    "            ),\n",
    "            rlen,\n",
    "            sfr_width,\n",
    "            -sfr_slope,\n",
    "            rtp,\n",
    "            sfr_bedthick,\n",
    "            sfr_hk,\n",
    "            0.030,\n",
    "            (len(sfr_conn[idx]) - 1),\n",
    "            1.0,\n",
    "            0,\n",
    "        )\n",
    "    )\n",
    "sfrpak_data[-2:]"
   ]
  },
  {
   "cell_type": "code",
   "execution_count": null,
   "id": "5619f18a",
   "metadata": {},
   "outputs": [],
   "source": [
    "sfr_spd = [(node, \"rainfall\", rainfall) for node in sfr_nodes] + [\n",
    "    (node, \"evaporation\", evaporation) for node in sfr_nodes\n",
    "]"
   ]
  },
  {
   "cell_type": "markdown",
   "id": "0276e12c",
   "metadata": {},
   "source": [
    "LAK datasets"
   ]
  },
  {
   "cell_type": "code",
   "execution_count": null,
   "id": "c2a73a7c",
   "metadata": {},
   "outputs": [],
   "source": [
    "lak_length_conversion = 3.28081\n",
    "lak_time_conversion = 86400.0"
   ]
  },
  {
   "cell_type": "code",
   "execution_count": null,
   "id": "ad23453f",
   "metadata": {},
   "outputs": [],
   "source": [
    "lake_ic = 11.3\n",
    "idx = np.where(lake_cells_vg == 1.0)\n",
    "\n",
    "lake_map = np.ones(voronoi_grid.ncpl, dtype=int) * -1\n",
    "lake_map[idx] = 0\n",
    "\n",
    "(idomain, lakpak_dict, lak_connections) = flopy.mf6.utils.get_lak_connections(\n",
    "    voronoi_grid,\n",
    "    lake_map,\n",
    "        bedleak=0.0013,\n",
    ")\n",
    "\n",
    "lakpak_data = [(0, lake_ic, lakpak_dict[0])]\n",
    "lake_spd = [\n",
    "    (0, \"rainfall\", rainfall),\n",
    "    (0, \"evaporation\", evaporation),\n",
    "]"
   ]
  },
  {
   "cell_type": "code",
   "execution_count": null,
   "id": "bf565011",
   "metadata": {},
   "outputs": [],
   "source": [
    "lake_ic, lakpak_data"
   ]
  },
  {
   "cell_type": "code",
   "execution_count": null,
   "id": "565abf88",
   "metadata": {},
   "outputs": [],
   "source": [
    "lak_connections[0:10]"
   ]
  },
  {
   "cell_type": "markdown",
   "id": "e9f06a86",
   "metadata": {},
   "source": [
    "DRN datasets"
   ]
  },
  {
   "cell_type": "code",
   "execution_count": null,
   "id": "2021a616-22f8-4f8f-86af-18c4648de403",
   "metadata": {},
   "outputs": [],
   "source": [
    "areas = []\n",
    "for idx in range(voronoi_grid.ncpl):\n",
    "    vertices = np.array(voronoi_grid.get_cell_vertices(idx))\n",
    "    area = Polygon(vertices).area\n",
    "    areas.append(area)"
   ]
  },
  {
   "cell_type": "code",
   "execution_count": null,
   "id": "6631956f",
   "metadata": {},
   "outputs": [],
   "source": [
    "drn_kv = 0.1\n",
    "drn_depth = 1.0\n",
    "drn_spd = []\n",
    "for idx, elev in enumerate(top_vg):\n",
    "    if lake_cells_vg[idx] > 0:\n",
    "        cond = drn_kv * areas[idx] / drn_depth\n",
    "        drn_spd.append([(0, idx), elev, cond, -drn_depth])\n",
    "drn_spd[:10]"
   ]
  },
  {
   "cell_type": "markdown",
   "id": "977635ed",
   "metadata": {},
   "source": [
    "WEL datasets"
   ]
  },
  {
   "cell_type": "code",
   "execution_count": null,
   "id": "e9f04251-68ca-4c83-898e-d02ed7309c6a",
   "metadata": {},
   "outputs": [],
   "source": [
    "well_points"
   ]
  },
  {
   "cell_type": "code",
   "execution_count": null,
   "id": "8afe9a79-0734-4b0b-b571-53e90705c049",
   "metadata": {},
   "outputs": [],
   "source": [
    "well_loc = []\n",
    "for x, y in well_points:\n",
    "    well_loc.append(voronoi_grid.intersect(x, y))\n",
    "well_loc"
   ]
  },
  {
   "cell_type": "code",
   "execution_count": null,
   "id": "9130ce4d",
   "metadata": {},
   "outputs": [],
   "source": [
    "# first well is Virginia City well site 2\n",
    "# second well is Reilly well\n",
    "# third well is Virginia City well site 1\n",
    "boundname = [\"VC2\", \"Reilly\", \"VC1\"]\n",
    "rates = [-67000.0, -268000.0, -268000.0]\n",
    "welspd = [\n",
    "    [4, cellid, rates[idx], boundname[idx]] for idx, cellid in enumerate(well_loc)\n",
    "]\n",
    "welspd"
   ]
  },
  {
   "cell_type": "markdown",
   "id": "5a9bd0fa",
   "metadata": {},
   "source": [
    "## Plot a series of grids"
   ]
  },
  {
   "cell_type": "code",
   "execution_count": null,
   "id": "348dfc95",
   "metadata": {},
   "outputs": [],
   "source": [
    "def add_subdomain(ax, xll, xur, yll, yur, lw=0.75, color=\"cyan\", text=\"B\"):\n",
    "    x = [xll, xll, xur, xur, xll]\n",
    "    y = [yll, yur, yur, yll, yll]\n",
    "    ax.plot(x, y, lw=lw, color=color)\n",
    "    styles.add_text(\n",
    "        ax=ax,\n",
    "        text=text,\n",
    "        x=xll,\n",
    "        y=yur,\n",
    "        color=color,\n",
    "        transform=False,\n",
    "        ha=\"right\",\n",
    "        va=\"bottom\",\n",
    "        italic=False,\n",
    "    )"
   ]
  },
  {
   "cell_type": "code",
   "execution_count": null,
   "id": "608f222a",
   "metadata": {},
   "outputs": [],
   "source": [
    "def add_nodes(ax, xll, xur, yll, yur, edge=20.0, text_offset=2.0):\n",
    "    for idx, (x, y) in enumerate(zip(xcv, ycv)):\n",
    "        if x > xll and x < xur and y > yll and y < yur:\n",
    "            ax.plot(x, y, marker=\".\", markersize=4, color=\"black\")\n",
    "            if (\n",
    "                x > xll + edge\n",
    "                and x < xur - edge\n",
    "                and y > yll\n",
    "                and y < yur - edge\n",
    "            ):\n",
    "                xt = x + 4 * text_offset\n",
    "                yt = y + text_offset\n",
    "                styles.add_text(\n",
    "                    ax=ax,\n",
    "                    x=xt,\n",
    "                    y=yt,\n",
    "                    text=f\"{idx + 1}\",\n",
    "                    bold=False,\n",
    "                    transform=False,\n",
    "                    ha=\"center\",\n",
    "                    va=\"bottom\",\n",
    "                    fontsize=5,\n",
    "                )"
   ]
  },
  {
   "cell_type": "code",
   "execution_count": null,
   "id": "1da216cb-894b-4427-aaab-9fe2ef178556",
   "metadata": {},
   "outputs": [],
   "source": [
    "def set_ticklabels(ax, fmt=\"{:.1f}\", \n",
    "                   skip_xticklabels=False, \n",
    "                   skip_yticklabels=False, \n",
    "                   skip_xlabel=False, \n",
    "                   skip_ylabel=False, \n",
    "                   xticks=None, \n",
    "                   yticks=None):\n",
    "    if xticks is not None:\n",
    "        ax.set_xticks(xticks, labels=[str(value) for value in xticks])\n",
    "        labels = [xticks]\n",
    "    else:\n",
    "        labels = [ax.get_xticks().tolist()]\n",
    "    if yticks is not None:\n",
    "        ax.set_yticks(yticks, labels=[str(value) for value in yticks])\n",
    "        labels += [yticks]\n",
    "    else:\n",
    "        labels += [ax.get_yticks().tolist()]\n",
    "\n",
    "    for idx, label in enumerate(labels):\n",
    "        for jdx, value in enumerate(label):\n",
    "            labels[idx][jdx] = fmt.format(float(value) / 1000.0)\n",
    "    if skip_xticklabels:\n",
    "        ax.set_xticklabels([])\n",
    "    else:\n",
    "        ax.xaxis.set_major_locator(mticker.FixedLocator(ax.get_xticks()))\n",
    "        ax.set_xticklabels(labels[0])\n",
    "    if skip_yticklabels:\n",
    "        ax.set_yticklabels([])\n",
    "    else:\n",
    "        ax.yaxis.set_major_locator(mticker.FixedLocator(ax.get_yticks()))\n",
    "        ax.set_yticklabels(labels[1])\n",
    "    \n",
    "    if not skip_xlabel:\n",
    "        ax.set_xlabel(\"x position (km)\")\n",
    "    if not skip_ylabel:\n",
    "        ax.set_ylabel(\"y position (km)\")"
   ]
  },
  {
   "cell_type": "markdown",
   "id": "68eb4065-2029-44a2-a849-fa03d7cfde07",
   "metadata": {},
   "source": [
    "A few coordinates for plotting"
   ]
  },
  {
   "cell_type": "code",
   "execution_count": null,
   "id": "9125cdbf-9b62-4912-ab00-3e0190bc5bbd",
   "metadata": {},
   "outputs": [],
   "source": [
    "xcv, ycv = voronoi_grid.xcellcenters, voronoi_grid.ycellcenters"
   ]
  },
  {
   "cell_type": "code",
   "execution_count": null,
   "id": "865b146d-6d19-4f47-b800-4463bb5567d4",
   "metadata": {},
   "outputs": [],
   "source": [
    "x0 = x1 = sg[:, 0].min()\n",
    "y0, y1 = sg[:, 1].max(), sg[:, 1].min()\n",
    "x0, y0, x1, y1"
   ]
  },
  {
   "cell_type": "markdown",
   "id": "fbb0b977-6aa8-4804-8a81-503fab3d473c",
   "metadata": {},
   "source": [
    "Plotting dictionaries"
   ]
  },
  {
   "cell_type": "code",
   "execution_count": null,
   "id": "9da28718-fac3-46b3-9675-e9e28f3621f0",
   "metadata": {},
   "outputs": [],
   "source": [
    "font_dict = {\"fontsize\": 5, \"color\": \"black\"}\n"
   ]
  },
  {
   "cell_type": "markdown",
   "id": "a7fdd1ff-d451-4f27-b34c-d1f9cc39801d",
   "metadata": {},
   "source": [
    "Plot river mapping"
   ]
  },
  {
   "cell_type": "code",
   "execution_count": null,
   "id": "2664baa7",
   "metadata": {},
   "outputs": [],
   "source": [
    "dv = 150.0\n",
    "cmap = \"viridis\"\n",
    "\n",
    "with styles.USGSMap():\n",
    "    fig = plt.figure(figsize=two_panel_figsize, constrained_layout=False)\n",
    "    gs = gridspec.GridSpec(ncols=10, nrows=24, figure=fig)\n",
    "    ax0 = fig.add_subplot(gs[:, :5])\n",
    "    ax2 = fig.add_subplot(gs[9:17, 5:])\n",
    "    ax1 = fig.add_subplot(gs[0:8, 5:], sharex=ax2)\n",
    "    # ax1.get_shared_x_axes().join(ax1, ax2)\n",
    "    ax3 = fig.add_subplot(gs[17:, 5:])\n",
    "\n",
    "    ax = ax0\n",
    "    ax.set_aspect(\"equal\", \"box\")\n",
    "    styles.heading(ax=ax, idx=0)\n",
    "    mm = flopy.plot.PlotMapView(modelgrid=voronoi_grid, ax=ax)\n",
    "    mm.plot_array(\n",
    "        lake_cells_vg,\n",
    "        masked_values=[\n",
    "            0,\n",
    "        ],\n",
    "        cmap=\"jet\",\n",
    "        alpha=0.5,\n",
    "    )\n",
    "    mm.plot_grid(lw=0.5, color=\"black\")\n",
    "    plot_river(ax, lw=2.)\n",
    "    plot_wells(ax, ms=3)\n",
    "    xticks = np.arange(mm.extent[0], mm.extent[1], 2000.0).tolist()\n",
    "    yticks = np.arange(mm.extent[2], mm.extent[3] + 2000., 2000.0).tolist()\n",
    "    set_ticklabels(ax, fmt=\"{:.0f}\", xticks=xticks, yticks=yticks)\n",
    "    \n",
    "    ax = ax1\n",
    "    ax.set_aspect(\"equal\", \"box\")\n",
    "    plt.setp(ax.get_xticklabels(), visible=False)\n",
    "    styles.heading(ax=ax, idx=1)\n",
    "    \n",
    "    xll, xur = x0 - dv, x1 + dv\n",
    "    yll, yur = y0 - 2. * dv, y0\n",
    "    xticks = np.arange(xll, xur + 100, 100.).tolist()\n",
    "    yticks = np.arange(yll, yur + 100, 100.).tolist()\n",
    "    add_subdomain(ax0, xll, xur, yll, yur, text=\"B\")\n",
    "\n",
    "    mm = flopy.plot.PlotMapView(\n",
    "        modelgrid=voronoi_grid, ax=ax, extent=(xll, xur, yll, yur)\n",
    "    )\n",
    "    mm.plot_array(sfr_plt_array, lw=0, alpha=0.5, masked_values=[0], cmap=cmap)\n",
    "    mm.plot_grid(lw=0.5, color=\"black\")\n",
    "    plot_river(ax, lw=2.)\n",
    "    add_nodes(ax, xll, xur, yll, yur)\n",
    "    set_ticklabels(ax, yticks=yticks, skip_xlabel=True)\n",
    "\n",
    "    ax = ax2\n",
    "    ax.set_aspect(\"equal\", \"box\")\n",
    "    styles.heading(ax=ax, idx=2)\n",
    "    \n",
    "    xll, xur = x0 - dv, x1 + dv\n",
    "    yll, yur = y1, y1 + 2. * dv\n",
    "    yticks = np.arange(yll, yur + 100., 100.).tolist()\n",
    "    add_subdomain(ax0, xll, xur, yll, yur, text=\"C\")\n",
    "\n",
    "    mm = flopy.plot.PlotMapView(\n",
    "        modelgrid=voronoi_grid, ax=ax, extent=(xll, xur, yll, yur)\n",
    "    )\n",
    "    mm.plot_array(sfr_plt_array, lw=0, alpha=0.5, masked_values=[0], cmap=cmap)\n",
    "    mm.plot_grid(lw=0.5, color=\"black\")\n",
    "    plot_river(ax, lw=2.)\n",
    "    add_nodes(ax, xll, xur, yll, yur)\n",
    "    set_ticklabels(ax, xticks=xticks, yticks=yticks)\n",
    "    \n",
    "    # legend\n",
    "    ax = ax3\n",
    "    xy0 = (-100, -100)\n",
    "    ax.set_ylim(0, 1)\n",
    "    ax.set_axis_off()\n",
    "    temp_cmap = mpl.cm.get_cmap(cmap)\n",
    "    rgba = temp_cmap(0)\n",
    "\n",
    "    # fake data to set up legend\n",
    "    ax.plot(xy0, xy0, lw=0.0, marker=\".\", ms=5, mfc=\"black\", mec=\"none\", mew=0.0, label=\"Cell node\\nand number\")\n",
    "    ax.plot(xy0, xy0, lw=0.0, marker=\".\", ms=5, mfc=\"red\", mec=\"none\", mew=0.0, label=\"Well\")\n",
    "    ax.plot(xy0, xy0, lw=0.0, marker=\"s\", mfc=\"blue\", mec=\"black\", mew=0.5, alpha=0.5, label=\"Lake\")\n",
    "    ax.axhline(xy0[0], color=\"blue\", lw=2, label=\"River\")\n",
    "    ax.plot(xy0, xy0, lw=0.0, marker=\"s\", mfc=rgba, mec=\"black\", mew=0.5, alpha=0.5, label=\"Cells that\\nintersect\\nthe river\")\n",
    "    styles.graph_legend(ax, \n",
    "                        ncol=2, \n",
    "                        loc=\"lower center\", \n",
    "                        labelspacing=0.1,\n",
    "                        columnspacing=0.6,\n",
    "                        handletextpad=0.3,\n",
    "                       );\n",
    "        \n",
    "    # save the figure\n",
    "    fpth = \"../doc/figures/mv_voronoi_river_discretization.png\"\n",
    "    plt.savefig(fpth, dpi=300);"
   ]
  },
  {
   "cell_type": "markdown",
   "id": "ada3b1f8",
   "metadata": {},
   "source": [
    "## Build the Model"
   ]
  },
  {
   "cell_type": "code",
   "execution_count": null,
   "id": "67617eab",
   "metadata": {},
   "outputs": [],
   "source": [
    "ws = \"./temp/mv_voronoi\"\n",
    "name = \"mv\"\n",
    "exe_name = \"mf6\"\n",
    "sim = flopy.mf6.MFSimulation(sim_ws=ws, sim_name=name, exe_name=exe_name)\n",
    "tdis = flopy.mf6.ModflowTdis(sim, time_units=\"days\")\n",
    "ims = flopy.mf6.ModflowIms(\n",
    "    sim,\n",
    "    print_option=\"all\",\n",
    "    complexity=\"complex\",\n",
    "    # under_relaxation=\"simple\",\n",
    "    # under_relaxation_gamma=0.90,\n",
    "    outer_dvclose=1e-3,\n",
    "    outer_maximum=200,\n",
    "    linear_acceleration=\"bicgstab\",\n",
    "    inner_dvclose=1e-4,\n",
    "    inner_maximum=200,\n",
    "    rcloserecord=\"1e-2 strict\",\n",
    "    #     preconditioner_levels=8,\n",
    "    #     preconditioner_drop_tolerance=1e-4,\n",
    ")\n",
    "gwf = flopy.mf6.ModflowGwf(\n",
    "    sim,\n",
    "    modelname=name,\n",
    "    save_flows=True,\n",
    "    newtonoptions=\"NEWTON UNDER_RELAXATION\",\n",
    ")\n",
    "dis = flopy.mf6.ModflowGwfdisv(\n",
    "    gwf,\n",
    "    nlay=nlay,\n",
    "    ncpl=vor.ncpl,\n",
    "    nvert=vor.nverts,\n",
    "    top=top_vg,\n",
    "    botm=[-5, -50, -51, -100.0, bot_vg],\n",
    "    vertices=vor.get_disv_gridprops()[\"vertices\"],\n",
    "    cell2d=vor.get_disv_gridprops()[\"cell2d\"],\n",
    ")\n",
    "ic = flopy.mf6.ModflowGwfic(gwf, strt=11.0)\n",
    "npf = flopy.mf6.ModflowGwfnpf(\n",
    "    gwf,\n",
    "    xt3doptions=True,\n",
    "    save_specific_discharge=True,\n",
    "    icelltype=[1, 0, 0, 0, 0],\n",
    "    k=[kaq_vg, kaq_vg, kclay_vg, kaq_vg, kaq_vg],\n",
    "    k33=[0.25 * kaq_vg, 0.25 * kaq_vg, kclay_vg, 0.25 * kaq_vg, 0.25 * kaq_vg],\n",
    ")\n",
    "rch = flopy.mf6.ModflowGwfrcha(gwf, recharge=rainfall)\n",
    "evt = flopy.mf6.ModflowGwfevta(\n",
    "    gwf, surface=top_vg, rate=evaporation, depth=1.0\n",
    ")\n",
    "wel = flopy.mf6.ModflowGwfwel(gwf, stress_period_data=welspd, boundnames=True)\n",
    "drn = flopy.mf6.ModflowGwfdrn(\n",
    "    gwf,\n",
    "    auxiliary=[\"depth\"],\n",
    "    auxdepthname=\"depth\",\n",
    "    stress_period_data=drn_spd,\n",
    ")\n",
    "sfr = flopy.mf6.ModflowGwfsfr(\n",
    "    gwf,\n",
    "    print_stage=True,\n",
    "    print_flows=True,\n",
    "    unit_conversion=sfr_unit_conversion,\n",
    "    stage_filerecord=\"{}.sfr.stage.bin\".format(name),\n",
    "    budget_filerecord=\"{}.sfr.cbc\".format(name),\n",
    "    nreaches=len(sfrpak_data),\n",
    "    packagedata=sfrpak_data,\n",
    "    connectiondata=sfr_conn,\n",
    "    perioddata=sfr_spd,\n",
    ")\n",
    "lak = flopy.mf6.ModflowGwflak(\n",
    "    gwf,\n",
    "    time_conversion=lak_time_conversion,\n",
    "    length_conversion=lak_length_conversion,\n",
    "    print_stage=True,\n",
    "    print_flows=True,\n",
    "    stage_filerecord=\"{}.lak.stage.bin\".format(name),\n",
    "    budget_filerecord=\"{}.lak.cbc\".format(name),\n",
    "    nlakes=1,\n",
    "    packagedata=lakpak_data,\n",
    "    connectiondata=lak_connections,\n",
    "    perioddata=lake_spd,\n",
    ")\n",
    "oc = flopy.mf6.ModflowGwfoc(\n",
    "    gwf,\n",
    "    head_filerecord=name + \".hds\",\n",
    "    budget_filerecord=name + \".bud\",\n",
    "    saverecord=[(\"HEAD\", \"ALL\"), (\"BUDGET\", \"ALL\")],\n",
    "    printrecord=[(\"BUDGET\", \"ALL\")],\n",
    ")\n",
    "# write the model datasets\n",
    "sim.write_simulation()\n",
    "\n",
    "# run the model\n",
    "success = sim.run_simulation()"
   ]
  },
  {
   "cell_type": "markdown",
   "id": "892dbb55-7e97-4a99-a811-64c04cbef91f",
   "metadata": {},
   "source": [
    "### process model results"
   ]
  },
  {
   "cell_type": "code",
   "execution_count": null,
   "id": "9dd186e0-1ab0-4f6d-bf87-6bc05d748aa5",
   "metadata": {},
   "outputs": [],
   "source": [
    "lake_stage = float(gwf.lak.output.stage().get_data().squeeze())\n",
    "lake_stage"
   ]
  },
  {
   "cell_type": "code",
   "execution_count": null,
   "id": "9744465f-8fb2-4aad-a3af-a0cdbc378320",
   "metadata": {},
   "outputs": [],
   "source": [
    "head = gwf.output.head().get_data().squeeze()\n",
    "head.shape, head.min(), head.max()"
   ]
  },
  {
   "cell_type": "markdown",
   "id": "2b6a40de-37a4-45da-9166-12d2e099d857",
   "metadata": {},
   "source": [
    "#### adjust head to be lake stage in layer 1 where lake stage is greater than topo"
   ]
  },
  {
   "cell_type": "code",
   "execution_count": null,
   "id": "cf554115-6af2-4746-a575-b93def833100",
   "metadata": {},
   "outputs": [],
   "source": [
    "idx = (lake_cells_vg > 0) & (top_vg <= lake_stage)\n",
    "h = head[0].copy()\n",
    "h[idx] = lake_stage\n",
    "head[0] = h.copy()"
   ]
  },
  {
   "cell_type": "markdown",
   "id": "6634b3f0-4048-4bf1-a6b1-733ee455f68a",
   "metadata": {},
   "source": [
    "#### calculate depth to water"
   ]
  },
  {
   "cell_type": "code",
   "execution_count": null,
   "id": "ca9c58ee-a299-4602-8a2b-077ec1a5b970",
   "metadata": {},
   "outputs": [],
   "source": [
    "dtw = top_vg - head[0]\n",
    "dtw.min(), dtw.max()"
   ]
  },
  {
   "cell_type": "markdown",
   "id": "151635c9-354f-4e9a-8310-2ca400aac91f",
   "metadata": {},
   "source": [
    "#### plot top of model and results"
   ]
  },
  {
   "cell_type": "code",
   "execution_count": null,
   "id": "0887b5c3-4470-4f07-bc53-49960f837bbf",
   "metadata": {},
   "outputs": [],
   "source": [
    "vmin, vmax = 5, 65\n",
    "levels = np.arange(10, 70, 10)\n",
    "with styles.USGSMap():\n",
    "    fig = plt.figure(figsize=one_panel_figsize, constrained_layout=True)\n",
    "    gs = gridspec.GridSpec(ncols=1, nrows=24, figure=fig)\n",
    "    ax0 = fig.add_subplot(gs[:21, :])\n",
    "    ax0.set_aspect(\"equal\", \"box\")\n",
    "    ax1 = fig.add_subplot(gs[21:, :])\n",
    "\n",
    "    ax = ax0\n",
    "    mm = flopy.plot.PlotMapView(model=gwf, ax=ax)\n",
    "    cb = mm.plot_array(top_vg, vmin=vmin, vmax=vmax)\n",
    "    mm.plot_grid(lw=0.5, color=\"0.5\")\n",
    "    plot_wells(ax=ax, ms=3)\n",
    "    plot_river(ax=ax)\n",
    "    plot_lake(ax=ax)\n",
    "    cs = mm.contour_array(top_vg, colors=contour_color, levels=levels, linewidths=1)\n",
    "    ax.clabel(cs, inline=1, fmt=\"%1.0f\", fontsize=6, inline_spacing=0)\n",
    "    xticks = np.arange(mm.extent[0], mm.extent[1], 2000.0).tolist()\n",
    "    yticks = np.arange(mm.extent[2], mm.extent[3] + 2000., 2000.0).tolist()\n",
    "    set_ticklabels(ax, fmt=\"{:.0f}\", xticks=xticks, yticks=yticks)\n",
    "    \n",
    "    # colorbar and legend\n",
    "    ax = ax1\n",
    "    \n",
    "    # colorbar\n",
    "    cax = fig.add_axes([0.1667, 0.1, 0.6666, 0.015])\n",
    "    cbar = plt.colorbar(cb, cax=cax, orientation=\"horizontal\")\n",
    "    cbar.ax.tick_params(\n",
    "        labelsize=5,\n",
    "        labelcolor=\"black\",\n",
    "        color=\"white\",\n",
    "        length=6,\n",
    "        pad=2,\n",
    "    )\n",
    "    cbar.ax.set_title(\n",
    "        \"head (m)\", pad=2.5, loc=\"left\", fontdict=font_dict,\n",
    "    )\n",
    "\n",
    "    # legend\n",
    "    xy0 = (-100, -100)\n",
    "    ax.set_xlim(0, 1)\n",
    "    ax.set_ylim(0, 1)\n",
    "    ax.set_axis_off()\n",
    "    temp_cmap = mpl.cm.get_cmap(cmap)\n",
    "    rgba = temp_cmap(0)\n",
    "\n",
    "    # fake data to set up legend\n",
    "    ax.plot(xy0, xy0, lw=0.0, marker=\".\", ms=5, mfc=\"red\", mec=\"none\", mew=0.0, label=\"Well\")\n",
    "    ax.axhline(xy0[0], color=\"cyan\", lw=0.5, label=\"Lake\")\n",
    "    ax.axhline(xy0[0], color=\"blue\", lw=0.5, label=\"River\")\n",
    "    ax.axhline(xy0[0], color=contour_color, lw=1, label=\"Elevation\")\n",
    "    styles.graph_legend(ax, \n",
    "                        ncol=4, \n",
    "                        loc=\"lower center\", \n",
    "                        labelspacing=0.1,\n",
    "                        columnspacing=0.6,\n",
    "                        handletextpad=0.3,\n",
    "                       );\n",
    "    \n",
    "    fpth = \"../doc/figures/mv_voronoi_top.png\"\n",
    "    plt.savefig(fpth, dpi=300);"
   ]
  },
  {
   "cell_type": "code",
   "execution_count": null,
   "id": "02e6e421-f841-4861-bad9-abbbbcefae6e",
   "metadata": {},
   "outputs": [],
   "source": [
    "vmin, vmax = -4, 14\n",
    "levels = np.arange(2, vmax + 2, 2)\n",
    "with styles.USGSMap():\n",
    "    fig = plt.figure(figsize=one_panel_figsize, constrained_layout=True)\n",
    "    gs = gridspec.GridSpec(ncols=1, nrows=24, figure=fig)\n",
    "    ax0 = fig.add_subplot(gs[:21, :])\n",
    "    ax0.set_aspect(\"equal\", \"box\")\n",
    "    ax1 = fig.add_subplot(gs[21:, :])\n",
    "\n",
    "    ax = ax0\n",
    "    mm = flopy.plot.PlotMapView(model=gwf, ax=ax)\n",
    "    cb = mm.plot_array(head, vmin=vmin, vmax=vmax)\n",
    "    mm.plot_grid(lw=0.5, color=\"0.5\")\n",
    "    plot_wells(ax=ax, ms=3)\n",
    "    plot_river(ax=ax)\n",
    "    plot_lake(ax=ax)\n",
    "    cs = mm.contour_array(head, colors=contour_color, levels=levels, linewidths=1)\n",
    "    ax.clabel(cs, inline=1, fmt=\"%1.0f\", fontsize=6, inline_spacing=0)\n",
    "    xticks = np.arange(mm.extent[0], mm.extent[1], 2000.0).tolist()\n",
    "    yticks = np.arange(mm.extent[2], mm.extent[3] + 2000., 2000.0).tolist()\n",
    "    set_ticklabels(ax, fmt=\"{:.0f}\", xticks=xticks, yticks=yticks)\n",
    "    \n",
    "    # colorbar and legend\n",
    "    ax = ax1\n",
    "    \n",
    "    # colorbar\n",
    "    cax = fig.add_axes([0.1667, 0.1, 0.6666, 0.015])\n",
    "    cbar = plt.colorbar(cb, cax=cax, orientation=\"horizontal\")\n",
    "    cbar.ax.tick_params(\n",
    "        labelsize=5,\n",
    "        labelcolor=\"black\",\n",
    "        color=\"white\",\n",
    "        length=6,\n",
    "        pad=2,\n",
    "    )\n",
    "    cbar.ax.set_title(\n",
    "        \"head (m)\", pad=2.5, loc=\"left\", fontdict=font_dict,\n",
    "    )\n",
    "\n",
    "    # legend\n",
    "    xy0 = (-100, -100)\n",
    "    ax.set_xlim(0, 1)\n",
    "    ax.set_ylim(0, 1)\n",
    "    ax.set_axis_off()\n",
    "    temp_cmap = mpl.cm.get_cmap(cmap)\n",
    "    rgba = temp_cmap(0)\n",
    "\n",
    "    # fake data to set up legend\n",
    "    ax.plot(xy0, xy0, lw=0.0, marker=\".\", ms=5, mfc=\"red\", mec=\"none\", mew=0.0, label=\"Well\")\n",
    "    ax.axhline(xy0[0], color=\"cyan\", lw=0.5, label=\"Lake\")\n",
    "    ax.axhline(xy0[0], color=\"blue\", lw=0.5, label=\"River\")\n",
    "    ax.axhline(xy0[0], color=contour_color, lw=1, label=\"Head\")\n",
    "    styles.graph_legend(ax, \n",
    "                        ncol=4, \n",
    "                        loc=\"lower center\", \n",
    "                        labelspacing=0.1,\n",
    "                        columnspacing=0.6,\n",
    "                        handletextpad=0.3,\n",
    "                       );\n",
    "    \n",
    "    fpth = \"../doc/figures/mv_voronoi_head.png\"\n",
    "    plt.savefig(fpth, dpi=300);"
   ]
  },
  {
   "cell_type": "code",
   "execution_count": null,
   "id": "69b01bde-6b49-4f42-9e5e-df8ab8d7181d",
   "metadata": {},
   "outputs": [],
   "source": [
    "vmin, vmax = -2, 50\n",
    "levels = [-2, 0, 5, 10, 20, 30, 40, 50]\n",
    "with styles.USGSMap():\n",
    "    fig = plt.figure(figsize=one_panel_figsize, constrained_layout=True)\n",
    "    gs = gridspec.GridSpec(ncols=1, nrows=24, figure=fig)\n",
    "    ax0 = fig.add_subplot(gs[:21, :])\n",
    "    ax0.set_aspect(\"equal\", \"box\")\n",
    "    ax1 = fig.add_subplot(gs[21:, :])\n",
    "\n",
    "    ax = ax0\n",
    "    mm = flopy.plot.PlotMapView(model=gwf, ax=ax)\n",
    "    cb = mm.plot_array(dtw, vmin=vmin, vmax=vmax)\n",
    "    mm.plot_grid(lw=0.5, color=\"0.5\")\n",
    "    plot_wells(ax=ax, ms=3)\n",
    "    plot_river(ax=ax)\n",
    "    plot_lake(ax=ax)\n",
    "    cs = mm.contour_array(dtw, colors=contour_color, levels=levels, linewidths=1)\n",
    "    ax.clabel(cs, inline=1, fmt=\"%1.0f\", fontsize=6, inline_spacing=0)\n",
    "    xticks = np.arange(mm.extent[0], mm.extent[1], 2000.0).tolist()\n",
    "    yticks = np.arange(mm.extent[2], mm.extent[3] + 2000., 2000.0).tolist()\n",
    "    set_ticklabels(ax, fmt=\"{:.0f}\", xticks=xticks, yticks=yticks)\n",
    "    \n",
    "    # colorbar and legend\n",
    "    ax = ax1\n",
    "    \n",
    "    # colorbar\n",
    "    cax = fig.add_axes([0.1667, 0.11, 0.6666, 0.015])\n",
    "    cbar = plt.colorbar(cb, cax=cax, orientation=\"horizontal\")\n",
    "    cbar.ax.tick_params(\n",
    "        labelsize=5,\n",
    "        labelcolor=\"black\",\n",
    "        color=\"white\",\n",
    "        length=6,\n",
    "        pad=2,\n",
    "    )\n",
    "    cbar.ax.set_title(\n",
    "        \"depth to water (m)\", pad=2.5, loc=\"left\", fontdict=font_dict,\n",
    "    )\n",
    "\n",
    "    # legend\n",
    "    xy0 = (-100, -100)\n",
    "    ax.set_xlim(0, 1)\n",
    "    ax.set_ylim(0, 1)\n",
    "    ax.set_axis_off()\n",
    "    temp_cmap = mpl.cm.get_cmap(cmap)\n",
    "    rgba = temp_cmap(0)\n",
    "\n",
    "    # fake data to set up legend\n",
    "    ax.plot(xy0, xy0, lw=0.0, marker=\".\", ms=5, mfc=\"red\", mec=\"none\", mew=0.0, label=\"Well\")\n",
    "    ax.axhline(xy0[0], color=\"cyan\", lw=0.5, label=\"Lake\")\n",
    "    ax.axhline(xy0[0], color=\"blue\", lw=0.5, label=\"River\")\n",
    "    ax.axhline(xy0[0], color=contour_color, lw=1, label=\"Depth\\nto water\")\n",
    "    styles.graph_legend(ax, \n",
    "                        ncol=4, \n",
    "                        loc=\"lower center\", \n",
    "                        labelspacing=-0.5,\n",
    "                        columnspacing=0.6,\n",
    "                        handletextpad=0.3,\n",
    "                       );\n",
    "    \n",
    "    fpth = \"../doc/figures/mv_voronoi_dtw.png\"\n",
    "    plt.savefig(fpth, dpi=300);"
   ]
  },
  {
   "cell_type": "code",
   "execution_count": null,
   "id": "5491bc27-5df5-49ce-bb3c-c72b2bc29638",
   "metadata": {},
   "outputs": [],
   "source": []
  }
 ],
 "metadata": {
  "kernelspec": {
   "display_name": "Python 3 (ipykernel)",
   "language": "python",
   "name": "python3"
  },
  "language_info": {
   "codemirror_mode": {
    "name": "ipython",
    "version": 3
   },
   "file_extension": ".py",
   "mimetype": "text/x-python",
   "name": "python",
   "nbconvert_exporter": "python",
   "pygments_lexer": "ipython3",
   "version": "3.9.7"
  }
 },
 "nbformat": 4,
 "nbformat_minor": 5
}
